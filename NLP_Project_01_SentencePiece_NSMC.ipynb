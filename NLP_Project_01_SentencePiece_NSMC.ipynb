{
 "cells": [
  {
   "cell_type": "markdown",
   "id": "distinct-trinidad",
   "metadata": {},
   "source": [
    "# 네이버 영화 리뷰"
   ]
  },
  {
   "cell_type": "code",
   "execution_count": 208,
   "id": "desperate-finland",
   "metadata": {
    "scrolled": true
   },
   "outputs": [
    {
     "name": "stdout",
     "output_type": "stream",
     "text": [
      "Requirement already satisfied: pip==21.2.3 in /opt/conda/lib/python3.7/site-packages (21.2.3)\n",
      "\u001b[33mWARNING: Running pip as the 'root' user can result in broken permissions and conflicting behaviour with the system package manager. It is recommended to use a virtual environment instead: https://pip.pypa.io/warnings/venv\u001b[0m\n",
      "\u001b[33mWARNING: You are using pip version 21.2.3; however, version 21.2.4 is available.\n",
      "You should consider upgrading via the '/opt/conda/bin/python3.7 -m pip install --upgrade pip' command.\u001b[0m\n"
     ]
    }
   ],
   "source": [
    "!pip install --upgrade pip==21.2.3 "
   ]
  },
  {
   "cell_type": "code",
   "execution_count": 209,
   "id": "outer-cricket",
   "metadata": {
    "scrolled": true
   },
   "outputs": [
    {
     "name": "stdout",
     "output_type": "stream",
     "text": [
      "Requirement already satisfied: gensim==3.8.3 in /opt/conda/lib/python3.7/site-packages (3.8.3)\n",
      "Requirement already satisfied: smart-open>=1.8.1 in /opt/conda/lib/python3.7/site-packages (from gensim==3.8.3) (4.1.2)\n",
      "Requirement already satisfied: numpy>=1.11.3 in /opt/conda/lib/python3.7/site-packages (from gensim==3.8.3) (1.19.5)\n",
      "Requirement already satisfied: six>=1.5.0 in /opt/conda/lib/python3.7/site-packages (from gensim==3.8.3) (1.15.0)\n",
      "Requirement already satisfied: scipy>=0.18.1 in /opt/conda/lib/python3.7/site-packages (from gensim==3.8.3) (1.4.1)\n",
      "\u001b[33mWARNING: Running pip as the 'root' user can result in broken permissions and conflicting behaviour with the system package manager. It is recommended to use a virtual environment instead: https://pip.pypa.io/warnings/venv\u001b[0m\n",
      "\u001b[33mWARNING: You are using pip version 21.2.3; however, version 21.2.4 is available.\n",
      "You should consider upgrading via the '/opt/conda/bin/python3.7 -m pip install --upgrade pip' command.\u001b[0m\n"
     ]
    }
   ],
   "source": [
    "!pip install --upgrade gensim==3.8.3 "
   ]
  },
  {
   "cell_type": "code",
   "execution_count": 210,
   "id": "velvet-greece",
   "metadata": {},
   "outputs": [],
   "source": [
    "from gensim.models import KeyedVectors\n",
    "import gensim"
   ]
  },
  {
   "cell_type": "code",
   "execution_count": 211,
   "id": "declared-azerbaijan",
   "metadata": {
    "scrolled": true
   },
   "outputs": [
    {
     "data": {
      "text/plain": [
       "'3.8.3'"
      ]
     },
     "execution_count": 211,
     "metadata": {},
     "output_type": "execute_result"
    }
   ],
   "source": [
    "gensim.__version__"
   ]
  },
  {
   "cell_type": "code",
   "execution_count": 212,
   "id": "victorian-expansion",
   "metadata": {},
   "outputs": [],
   "source": [
    "import pandas as pd\n",
    "import urllib.request\n",
    "%matplotlib inline\n",
    "import matplotlib.pyplot as plt\n",
    "import re\n",
    "from konlpy.tag import Okt\n",
    "from tensorflow import keras\n",
    "from tensorflow.keras.preprocessing.text import Tokenizer\n",
    "import numpy as np\n",
    "from tensorflow.keras.preprocessing.sequence import pad_sequences\n",
    "from collections import Counter\n",
    "from gensim.models.keyedvectors import Word2VecKeyedVectors\n",
    "\n",
    "import matplotlib.pyplot as plt\n",
    "%matplotlib inline\n",
    "import seaborn as sns\n",
    "\n",
    "import os"
   ]
  },
  {
   "cell_type": "code",
   "execution_count": 213,
   "id": "organic-public",
   "metadata": {},
   "outputs": [
    {
     "name": "stdout",
     "output_type": "stream",
     "text": [
      "--2021-10-04 12:05:54--  https://raw.githubusercontent.com/e9t/nsmc/master/ratings_train.txt\n",
      "Resolving raw.githubusercontent.com (raw.githubusercontent.com)... 185.199.111.133, 185.199.110.133, 185.199.109.133, ...\n",
      "Connecting to raw.githubusercontent.com (raw.githubusercontent.com)|185.199.111.133|:443... connected.\n",
      "HTTP request sent, awaiting response... 200 OK\n",
      "Length: 14628807 (14M) [text/plain]\n",
      "Saving to: ‘ratings_train.txt.6’\n",
      "\n",
      "ratings_train.txt.6 100%[===================>]  13.95M  --.-KB/s    in 0.1s    \n",
      "\n",
      "2021-10-04 12:05:54 (121 MB/s) - ‘ratings_train.txt.6’ saved [14628807/14628807]\n",
      "\n"
     ]
    }
   ],
   "source": [
    "!wget https://raw.githubusercontent.com/e9t/nsmc/master/ratings_train.txt"
   ]
  },
  {
   "cell_type": "code",
   "execution_count": 214,
   "id": "planned-snowboard",
   "metadata": {},
   "outputs": [
    {
     "name": "stdout",
     "output_type": "stream",
     "text": [
      "--2021-10-04 12:05:55--  https://raw.githubusercontent.com/e9t/nsmc/master/ratings_test.txt\n",
      "Resolving raw.githubusercontent.com (raw.githubusercontent.com)... 185.199.110.133, 185.199.108.133, 185.199.111.133, ...\n",
      "Connecting to raw.githubusercontent.com (raw.githubusercontent.com)|185.199.110.133|:443... connected.\n",
      "HTTP request sent, awaiting response... 200 OK\n",
      "Length: 4893335 (4.7M) [text/plain]\n",
      "Saving to: ‘ratings_test.txt.6’\n",
      "\n",
      "ratings_test.txt.6  100%[===================>]   4.67M  --.-KB/s    in 0.06s   \n",
      "\n",
      "2021-10-04 12:05:55 (75.0 MB/s) - ‘ratings_test.txt.6’ saved [4893335/4893335]\n",
      "\n"
     ]
    }
   ],
   "source": [
    "!wget https://raw.githubusercontent.com/e9t/nsmc/master/ratings_test.txt"
   ]
  },
  {
   "cell_type": "code",
   "execution_count": 215,
   "id": "german-glenn",
   "metadata": {},
   "outputs": [
    {
     "data": {
      "text/html": [
       "<div>\n",
       "<style scoped>\n",
       "    .dataframe tbody tr th:only-of-type {\n",
       "        vertical-align: middle;\n",
       "    }\n",
       "\n",
       "    .dataframe tbody tr th {\n",
       "        vertical-align: top;\n",
       "    }\n",
       "\n",
       "    .dataframe thead th {\n",
       "        text-align: right;\n",
       "    }\n",
       "</style>\n",
       "<table border=\"1\" class=\"dataframe\">\n",
       "  <thead>\n",
       "    <tr style=\"text-align: right;\">\n",
       "      <th></th>\n",
       "      <th>id</th>\n",
       "      <th>document</th>\n",
       "      <th>label</th>\n",
       "    </tr>\n",
       "  </thead>\n",
       "  <tbody>\n",
       "    <tr>\n",
       "      <th>0</th>\n",
       "      <td>9976970</td>\n",
       "      <td>아 더빙.. 진짜 짜증나네요 목소리</td>\n",
       "      <td>0</td>\n",
       "    </tr>\n",
       "    <tr>\n",
       "      <th>1</th>\n",
       "      <td>3819312</td>\n",
       "      <td>흠...포스터보고 초딩영화줄....오버연기조차 가볍지 않구나</td>\n",
       "      <td>1</td>\n",
       "    </tr>\n",
       "    <tr>\n",
       "      <th>2</th>\n",
       "      <td>10265843</td>\n",
       "      <td>너무재밓었다그래서보는것을추천한다</td>\n",
       "      <td>0</td>\n",
       "    </tr>\n",
       "    <tr>\n",
       "      <th>3</th>\n",
       "      <td>9045019</td>\n",
       "      <td>교도소 이야기구먼 ..솔직히 재미는 없다..평점 조정</td>\n",
       "      <td>0</td>\n",
       "    </tr>\n",
       "    <tr>\n",
       "      <th>4</th>\n",
       "      <td>6483659</td>\n",
       "      <td>사이몬페그의 익살스런 연기가 돋보였던 영화!스파이더맨에서 늙어보이기만 했던 커스틴 ...</td>\n",
       "      <td>1</td>\n",
       "    </tr>\n",
       "  </tbody>\n",
       "</table>\n",
       "</div>"
      ],
      "text/plain": [
       "         id                                           document  label\n",
       "0   9976970                                아 더빙.. 진짜 짜증나네요 목소리      0\n",
       "1   3819312                  흠...포스터보고 초딩영화줄....오버연기조차 가볍지 않구나      1\n",
       "2  10265843                                  너무재밓었다그래서보는것을추천한다      0\n",
       "3   9045019                      교도소 이야기구먼 ..솔직히 재미는 없다..평점 조정      0\n",
       "4   6483659  사이몬페그의 익살스런 연기가 돋보였던 영화!스파이더맨에서 늙어보이기만 했던 커스틴 ...      1"
      ]
     },
     "execution_count": 215,
     "metadata": {},
     "output_type": "execute_result"
    }
   ],
   "source": [
    "train_data = pd.read_table('~/aiffel/ratings_train.txt')\n",
    "test_data = pd.read_table('~/aiffel/ratings_test.txt')\n",
    "\n",
    "train_data.head()"
   ]
  },
  {
   "cell_type": "code",
   "execution_count": 216,
   "id": "existing-aquatic",
   "metadata": {},
   "outputs": [
    {
     "data": {
      "text/html": [
       "<div>\n",
       "<style scoped>\n",
       "    .dataframe tbody tr th:only-of-type {\n",
       "        vertical-align: middle;\n",
       "    }\n",
       "\n",
       "    .dataframe tbody tr th {\n",
       "        vertical-align: top;\n",
       "    }\n",
       "\n",
       "    .dataframe thead th {\n",
       "        text-align: right;\n",
       "    }\n",
       "</style>\n",
       "<table border=\"1\" class=\"dataframe\">\n",
       "  <thead>\n",
       "    <tr style=\"text-align: right;\">\n",
       "      <th></th>\n",
       "      <th>id</th>\n",
       "      <th>document</th>\n",
       "      <th>label</th>\n",
       "    </tr>\n",
       "  </thead>\n",
       "  <tbody>\n",
       "    <tr>\n",
       "      <th>0</th>\n",
       "      <td>6270596</td>\n",
       "      <td>굳 ㅋ</td>\n",
       "      <td>1</td>\n",
       "    </tr>\n",
       "    <tr>\n",
       "      <th>1</th>\n",
       "      <td>9274899</td>\n",
       "      <td>GDNTOPCLASSINTHECLUB</td>\n",
       "      <td>0</td>\n",
       "    </tr>\n",
       "    <tr>\n",
       "      <th>2</th>\n",
       "      <td>8544678</td>\n",
       "      <td>뭐야 이 평점들은.... 나쁘진 않지만 10점 짜리는 더더욱 아니잖아</td>\n",
       "      <td>0</td>\n",
       "    </tr>\n",
       "    <tr>\n",
       "      <th>3</th>\n",
       "      <td>6825595</td>\n",
       "      <td>지루하지는 않은데 완전 막장임... 돈주고 보기에는....</td>\n",
       "      <td>0</td>\n",
       "    </tr>\n",
       "    <tr>\n",
       "      <th>4</th>\n",
       "      <td>6723715</td>\n",
       "      <td>3D만 아니었어도 별 다섯 개 줬을텐데.. 왜 3D로 나와서 제 심기를 불편하게 하죠??</td>\n",
       "      <td>0</td>\n",
       "    </tr>\n",
       "  </tbody>\n",
       "</table>\n",
       "</div>"
      ],
      "text/plain": [
       "        id                                           document  label\n",
       "0  6270596                                                굳 ㅋ      1\n",
       "1  9274899                               GDNTOPCLASSINTHECLUB      0\n",
       "2  8544678             뭐야 이 평점들은.... 나쁘진 않지만 10점 짜리는 더더욱 아니잖아      0\n",
       "3  6825595                   지루하지는 않은데 완전 막장임... 돈주고 보기에는....      0\n",
       "4  6723715  3D만 아니었어도 별 다섯 개 줬을텐데.. 왜 3D로 나와서 제 심기를 불편하게 하죠??      0"
      ]
     },
     "execution_count": 216,
     "metadata": {},
     "output_type": "execute_result"
    }
   ],
   "source": [
    "test_data.head()"
   ]
  },
  {
   "cell_type": "code",
   "execution_count": 217,
   "id": "conservative-ocean",
   "metadata": {},
   "outputs": [
    {
     "data": {
      "text/plain": [
       "150000"
      ]
     },
     "execution_count": 217,
     "metadata": {},
     "output_type": "execute_result"
    }
   ],
   "source": [
    "len(train_data)"
   ]
  },
  {
   "cell_type": "code",
   "execution_count": 218,
   "id": "severe-cartridge",
   "metadata": {},
   "outputs": [
    {
     "data": {
      "text/plain": [
       "50000"
      ]
     },
     "execution_count": 218,
     "metadata": {},
     "output_type": "execute_result"
    }
   ],
   "source": [
    "len(test_data)"
   ]
  },
  {
   "cell_type": "code",
   "execution_count": 219,
   "id": "excellent-firmware",
   "metadata": {},
   "outputs": [],
   "source": [
    "train_docs = list(train_data['document'])"
   ]
  },
  {
   "cell_type": "code",
   "execution_count": 220,
   "id": "recent-characterization",
   "metadata": {},
   "outputs": [],
   "source": [
    "test_docs = list(test_data['document'])"
   ]
  },
  {
   "cell_type": "code",
   "execution_count": 221,
   "id": "vocational-peace",
   "metadata": {},
   "outputs": [
    {
     "data": {
      "text/plain": [
       "['아 더빙.. 진짜 짜증나네요 목소리',\n",
       " '흠...포스터보고 초딩영화줄....오버연기조차 가볍지 않구나',\n",
       " '너무재밓었다그래서보는것을추천한다',\n",
       " '교도소 이야기구먼 ..솔직히 재미는 없다..평점 조정',\n",
       " '사이몬페그의 익살스런 연기가 돋보였던 영화!스파이더맨에서 늙어보이기만 했던 커스틴 던스트가 너무나도 이뻐보였다']"
      ]
     },
     "execution_count": 221,
     "metadata": {},
     "output_type": "execute_result"
    }
   ],
   "source": [
    "docs = train_docs + test_docs\n",
    "docs[:5]"
   ]
  },
  {
   "cell_type": "code",
   "execution_count": 222,
   "id": "verified-wrong",
   "metadata": {},
   "outputs": [
    {
     "data": {
      "text/plain": [
       "194543"
      ]
     },
     "execution_count": 222,
     "metadata": {},
     "output_type": "execute_result"
    }
   ],
   "source": [
    "# 중복 제거\n",
    "unique_corpus = list(set(docs)) \n",
    "len(cleaned_corpus )"
   ]
  },
  {
   "cell_type": "code",
   "execution_count": 223,
   "id": "complete-multimedia",
   "metadata": {},
   "outputs": [
    {
     "data": {
      "text/plain": [
       "float"
      ]
     },
     "execution_count": 223,
     "metadata": {},
     "output_type": "execute_result"
    }
   ],
   "source": [
    "# ???\n",
    "type(unique_corpus[0])"
   ]
  },
  {
   "cell_type": "code",
   "execution_count": 224,
   "id": "arbitrary-ceiling",
   "metadata": {},
   "outputs": [
    {
     "data": {
      "text/plain": [
       "['어두워서 좋았음',\n",
       " '사랑스러운 내용',\n",
       " '이건 머 2시간 짜릴 중후반까지 병맛 멜로 스토리도 아니구 찌질이 범생같은 주연을 이소룡 카리스마를 대변하겠다는 발상이 저승에서 하데스랑 친구하는 싱하형 알면 감독 조낸 쳐 맞을듯',\n",
       " '이 드라마 언제 끝나요 이건 아침부터 너무 불쾌한 완전 막장 드라마 인데 빨리 끝내고 아침에 기분좋게 하루를 시작할수 있는 드라마를 볼수있게 해주세요',\n",
       " '시궁창 같은시대의 보석 같은 다큐']"
      ]
     },
     "execution_count": 224,
     "metadata": {},
     "output_type": "execute_result"
    }
   ],
   "source": [
    "unique_corpus = list(map(str, cleaned_corpus))\n",
    "unique_corpus[:5]"
   ]
  },
  {
   "cell_type": "code",
   "execution_count": 225,
   "id": "eastern-maximum",
   "metadata": {},
   "outputs": [],
   "source": [
    "#unique_corpus.remove('nan')"
   ]
  },
  {
   "cell_type": "code",
   "execution_count": 226,
   "id": "thrown-religion",
   "metadata": {},
   "outputs": [],
   "source": [
    "# 한국어 전처리 함수\n",
    "def preprocess_sentence(sentence):\n",
    "  sentence = sentence.lower().strip()\n",
    "\n",
    "  # 단어와 구두점(punctuation) 사이의 거리를 만듭니다.\n",
    "  # 예를 들어서 \"I am a student.\" => \"I am a student .\"와 같이\n",
    "  # student와 온점 사이에 거리를 만듭니다.\n",
    "  sentence = re.sub(r\"([?.!,])\", r\" \\1 \", sentence)\n",
    "  #sentence = re.sub(r\"([?.!,])\", \" \", sentence)\n",
    "  sentence = re.sub(r'[\" \"]+', \" \", sentence)\n",
    "\n",
    "  sentence = re.sub(r\"[^0-9가-힣]+\", \" \", sentence)\n",
    "  sentence = sentence.strip()\n",
    "  return sentence"
   ]
  },
  {
   "cell_type": "code",
   "execution_count": 227,
   "id": "directed-darkness",
   "metadata": {},
   "outputs": [
    {
     "data": {
      "text/plain": [
       "['어두워서 좋았음',\n",
       " '사랑스러운 내용',\n",
       " '이건 머 2시간 짜릴 중후반까지 병맛 멜로 스토리도 아니구 찌질이 범생같은 주연을 이소룡 카리스마를 대변하겠다는 발상이 저승에서 하데스랑 친구하는 싱하형 알면 감독 조낸 쳐 맞을듯',\n",
       " '이 드라마 언제 끝나요 이건 아침부터 너무 불쾌한 완전 막장 드라마 인데 빨리 끝내고 아침에 기분좋게 하루를 시작할수 있는 드라마를 볼수있게 해주세요',\n",
       " '시궁창 같은시대의 보석 같은 다큐']"
      ]
     },
     "execution_count": 227,
     "metadata": {},
     "output_type": "execute_result"
    }
   ],
   "source": [
    "cleaned_corpus = list(map(preprocess_sentence, unique_corpus))\n",
    "cleaned_corpus[:5]"
   ]
  },
  {
   "cell_type": "code",
   "execution_count": 228,
   "id": "ready-mayor",
   "metadata": {},
   "outputs": [
    {
     "name": "stdout",
     "output_type": "stream",
     "text": [
      "-rw-r--r-- 1 root root 378316 Oct  4 12:06 NSMC_spm.model\r\n",
      "-rw-r--r-- 1 root root 147807 Oct  4 12:06 NSMC_spm.vocab\r\n"
     ]
    }
   ],
   "source": [
    "import sentencepiece as spm\n",
    "temp_file = os.getenv('HOME')+'/aiffel/sp_tokenizer/data/NSMC.train.ko.temp'\n",
    "\n",
    "vocab_size = 8000\n",
    "\n",
    "# 이전 Step에서 중복을 제거한 문장들을 선택한 코퍼스를 저장 \n",
    "with open(temp_file, 'w') as f:\n",
    "    for row in cleaned_corpus:   # 이전 스텝에서 정제했던 corpus를 활용합니다.\n",
    "        f.write(str(row) + '\\n')\n",
    "\n",
    "spm.SentencePieceTrainer.Train(\n",
    "    '--input={} --model_prefix=NSMC_spm --vocab_size={}'.format(temp_file, vocab_size)    \n",
    ")\n",
    "#위 Train에서  --model_type = 'unigram'이 디폴트 적용되어 있습니다. --model_type = 'bpe' 로 옵션을 주어 변경할 수 있습니다.\n",
    "\n",
    "!ls -l NSMC_spm*"
   ]
  },
  {
   "cell_type": "code",
   "execution_count": 229,
   "id": "smaller-marina",
   "metadata": {},
   "outputs": [
    {
     "name": "stdout",
     "output_type": "stream",
     "text": [
      "[1192, 9, 376, 12, 1212, 9, 135, 13, 0]\n",
      "['▁아버지', '가', '방', '에', '들어', '가', '신', '다', '.']\n",
      "아버지가방에들어가신다 ⁇ \n"
     ]
    }
   ],
   "source": [
    "s = spm.SentencePieceProcessor()\n",
    "s.Load('NSMC_spm.model')\n",
    "\n",
    "# SentencePiece를 활용한 sentence -> encoding\n",
    "tokensIDs = s.EncodeAsIds('아버지가방에들어가신다.')\n",
    "print(tokensIDs)\n",
    "\n",
    "# SentencePiece를 활용한 sentence -> encoded pieces\n",
    "print(s.SampleEncodeAsPieces('아버지가방에들어가신다.',1, 0.0))  # nbest_size (unigram sampling parameter), alpha\n",
    "# The “nbest” parameter allows you to select from more segmentation options. The higher the parameter, the more options will be considered.\n",
    "\n",
    "# ?? \n",
    "# SentencePiece를 활용한 encoding -> sentence 복원\n",
    "print(s.DecodeIds(tokensIDs))"
   ]
  },
  {
   "cell_type": "code",
   "execution_count": 234,
   "id": "adaptive-cassette",
   "metadata": {},
   "outputs": [
    {
     "data": {
      "text/plain": [
       "[2, 2, 25, 22, 5]"
      ]
     },
     "execution_count": 234,
     "metadata": {},
     "output_type": "execute_result"
    }
   ],
   "source": [
    "corpusNum = [len(i.split()) for i in cleaned_corpus]\n",
    "corpusNum[:5]"
   ]
  },
  {
   "cell_type": "code",
   "execution_count": 235,
   "id": "preliminary-emission",
   "metadata": {},
   "outputs": [
    {
     "name": "stdout",
     "output_type": "stream",
     "text": [
      "문장길이 평균 :  7.903692242846055\n",
      "문장길이 최대 :  47\n",
      "문장길이 표준편차 :  6.694803379713627\n",
      "pad_sequences maxlen :  21\n",
      "전체 문장의 0.9372169648869402%가 maxlen 설정값 이내에 포함됩니다. \n"
     ]
    }
   ],
   "source": [
    "numList = np.array(corpusNum)\n",
    "# 문장길이의 평균값, 최대값, 표준편차를 계산해 본다. \n",
    "print('문장길이 평균 : ', np.mean(numList))\n",
    "print('문장길이 최대 : ', np.max(numList))\n",
    "print('문장길이 표준편차 : ', np.std(numList))\n",
    "\n",
    "# 예를들어, 최대 길이를 (평균 + 2*표준편차)로 한다면,  \n",
    "max_tokens = np.mean(numList) + 2 * np.std(numList)\n",
    "maxlen = int(max_tokens)\n",
    "print('pad_sequences maxlen : ', maxlen)\n",
    "print('전체 문장의 {}%가 maxlen 설정값 이내에 포함됩니다. '.format(np.sum(numList < max_tokens) / len(numList)))"
   ]
  },
  {
   "cell_type": "code",
   "execution_count": 236,
   "id": "crucial-accent",
   "metadata": {},
   "outputs": [
    {
     "name": "stderr",
     "output_type": "stream",
     "text": [
      "/opt/conda/lib/python3.7/site-packages/seaborn/distributions.py:2557: FutureWarning: `distplot` is a deprecated function and will be removed in a future version. Please adapt your code to use either `displot` (a figure-level function with similar flexibility) or `histplot` (an axes-level function for histograms).\n",
      "  warnings.warn(msg, FutureWarning)\n"
     ]
    },
    {
     "data": {
      "image/png": "[encoded data removed]",
      "text/plain": [
       "<Figure size 1080x576 with 1 Axes>"
      ]
     },
     "metadata": {
      "needs_background": "light"
     },
     "output_type": "display_data"
    }
   ],
   "source": [
    "f,ax = plt.subplots(1,1, figsize=(15,8))\n",
    "sns.distplot(a= numList, ax=ax)\n",
    "plt.xlabel('Length of Sentence')\n",
    "plt.ylabel('Probability')\n",
    "plt.title('Sentence Length Distribution')\n",
    "plt.vlines(21, 0,0.08, colors= 'red')\n",
    "plt.show()"
   ]
  },
  {
   "cell_type": "code",
   "execution_count": 240,
   "id": "authorized-immigration",
   "metadata": {},
   "outputs": [
    {
     "data": {
      "text/plain": [
       "['어두워서 좋았음',\n",
       " '사랑스러운 내용',\n",
       " '시궁창 같은시대의 보석 같은 다큐',\n",
       " '똥덩어리를 오줌에 비벼먹는 느낌의 영화',\n",
       " '진심이거 어옼']"
      ]
     },
     "execution_count": 240,
     "metadata": {},
     "output_type": "execute_result"
    }
   ],
   "source": [
    "selected_corpus = []\n",
    "for i in range(len(cleaned_corpus)):\n",
    "    if corpusNum[i] > 21 :\n",
    "        continue\n",
    "    else :\n",
    "        selected_corpus.append(cleaned_corpus[i])\n",
    "\n",
    "selected_corpus[:5]"
   ]
  },
  {
   "cell_type": "code",
   "execution_count": 241,
   "id": "separate-limitation",
   "metadata": {},
   "outputs": [
    {
     "data": {
      "text/plain": [
       "182329"
      ]
     },
     "execution_count": 241,
     "metadata": {},
     "output_type": "execute_result"
    }
   ],
   "source": [
    "len(selected_corpus)"
   ]
  },
  {
   "cell_type": "code",
   "execution_count": 242,
   "id": "popular-winter",
   "metadata": {},
   "outputs": [
    {
     "data": {
      "text/plain": [
       "['Decode',\n",
       " 'DecodeIds',\n",
       " 'DecodeIdsAsSerializedProto',\n",
       " 'DecodeIdsAsSerializedProtoWithCheck',\n",
       " 'DecodeIdsWithCheck',\n",
       " 'DecodePieces',\n",
       " 'DecodePiecesAsSerializedProto',\n",
       " 'Detokenize',\n",
       " 'Encode',\n",
       " 'EncodeAsIds',\n",
       " 'EncodeAsPieces',\n",
       " 'EncodeAsSerializedProto',\n",
       " 'GetEncoderVersion',\n",
       " 'GetPieceSize',\n",
       " 'GetScore',\n",
       " 'IdToPiece',\n",
       " 'Init',\n",
       " 'IsByte',\n",
       " 'IsControl',\n",
       " 'IsUnknown',\n",
       " 'IsUnused',\n",
       " 'Load',\n",
       " 'LoadFromFile',\n",
       " 'LoadFromSerializedProto',\n",
       " 'LoadVocabulary',\n",
       " 'NBestEncodeAsIds',\n",
       " 'NBestEncodeAsPieces',\n",
       " 'NBestEncodeAsSerializedProto',\n",
       " 'PieceToId',\n",
       " 'ResetVocabulary',\n",
       " 'SampleEncodeAsIds',\n",
       " 'SampleEncodeAsPieces',\n",
       " 'SampleEncodeAsSerializedProto',\n",
       " 'SetDecodeExtraOptions',\n",
       " 'SetEncodeExtraOptions',\n",
       " 'SetEncoderVersion',\n",
       " 'SetVocabulary',\n",
       " 'Tokenize',\n",
       " '__class__',\n",
       " '__delattr__',\n",
       " '__dict__',\n",
       " '__dir__',\n",
       " '__doc__',\n",
       " '__eq__',\n",
       " '__format__',\n",
       " '__ge__',\n",
       " '__getattribute__',\n",
       " '__getitem__',\n",
       " '__getstate__',\n",
       " '__gt__',\n",
       " '__hash__',\n",
       " '__init__',\n",
       " '__init_subclass__',\n",
       " '__le__',\n",
       " '__len__',\n",
       " '__lt__',\n",
       " '__module__',\n",
       " '__ne__',\n",
       " '__new__',\n",
       " '__reduce__',\n",
       " '__reduce_ex__',\n",
       " '__repr__',\n",
       " '__setattr__',\n",
       " '__setstate__',\n",
       " '__sizeof__',\n",
       " '__str__',\n",
       " '__subclasshook__',\n",
       " '__swig_destroy__',\n",
       " '__weakref__',\n",
       " '_add_bos',\n",
       " '_add_eos',\n",
       " '_alpha',\n",
       " '_enable_sampling',\n",
       " '_nbest_size',\n",
       " '_out_type',\n",
       " '_reverse',\n",
       " 'bos_id',\n",
       " 'decode',\n",
       " 'decode_ids',\n",
       " 'decode_ids_as_serialized_proto',\n",
       " 'decode_ids_as_serialized_proto_with_check',\n",
       " 'decode_ids_with_check',\n",
       " 'decode_pieces',\n",
       " 'decode_pieces_as_serialized_proto',\n",
       " 'detokenize',\n",
       " 'encode',\n",
       " 'encode_as_ids',\n",
       " 'encode_as_pieces',\n",
       " 'encode_as_serialized_proto',\n",
       " 'eos_id',\n",
       " 'get_encoder_version',\n",
       " 'get_piece_size',\n",
       " 'get_score',\n",
       " 'id_to_piece',\n",
       " 'init',\n",
       " 'is_byte',\n",
       " 'is_control',\n",
       " 'is_unknown',\n",
       " 'is_unused',\n",
       " 'load',\n",
       " 'load_from_file',\n",
       " 'load_from_serialized_proto',\n",
       " 'load_vocabulary',\n",
       " 'nbest_encode_as_ids',\n",
       " 'nbest_encode_as_pieces',\n",
       " 'nbest_encode_as_serialized_proto',\n",
       " 'pad_id',\n",
       " 'piece_size',\n",
       " 'piece_to_id',\n",
       " 'reset_vocabulary',\n",
       " 'sample_encode_as_ids',\n",
       " 'sample_encode_as_pieces',\n",
       " 'sample_encode_as_serialized_proto',\n",
       " 'serialized_model_proto',\n",
       " 'set_decode_extra_options',\n",
       " 'set_encode_extra_options',\n",
       " 'set_encoder_version',\n",
       " 'set_vocabulary',\n",
       " 'this',\n",
       " 'thisown',\n",
       " 'tokenize',\n",
       " 'unk_id',\n",
       " 'vocab_size']"
      ]
     },
     "execution_count": 242,
     "metadata": {},
     "output_type": "execute_result"
    }
   ],
   "source": [
    "dir(s)"
   ]
  },
  {
   "cell_type": "code",
   "execution_count": 253,
   "id": "increased-standard",
   "metadata": {},
   "outputs": [],
   "source": [
    "def sp_tokenize(s, corpus): # corpus : 문장들로 구성된 Corpus\n",
    "\n",
    "    tensor = []\n",
    "\n",
    "    for sen in corpus:\n",
    "        tensor.append(s.EncodeAsIds(sen))  # 자연어 형태를 word_index에 따라, 해당하는 숫자 값으로 변환\n",
    "\n",
    "    with open(\"./korean_spm.vocab\", 'r') as f:\n",
    "        vocab = f.readlines() # 문장들로 구성된 List 형태로 읽어들임\n",
    "\n",
    "    word_index = {} \n",
    "    index_word = {}\n",
    "\n",
    "    for idx, line in enumerate(vocab):\n",
    "        word = line.split(\"\\t\")[0] \n",
    "\n",
    "        index_word.update({idx:word})  #!!! Dict.update()\n",
    "        word_index.update({word:idx})\n",
    "\n",
    "    tensor = keras.preprocessing.sequence.pad_sequences(tensor, padding='post', maxlen=21)\n",
    "\n",
    "    return tensor, word_index, index_word"
   ]
  },
  {
   "cell_type": "code",
   "execution_count": 262,
   "id": "manual-support",
   "metadata": {},
   "outputs": [],
   "source": [
    "tensor, word_index, index_word = sp_tokenize(s, selected_corpus)"
   ]
  },
  {
   "cell_type": "code",
   "execution_count": 263,
   "id": "powered-memphis",
   "metadata": {},
   "outputs": [
    {
     "data": {
      "text/plain": [
       "21"
      ]
     },
     "execution_count": 263,
     "metadata": {},
     "output_type": "execute_result"
    }
   ],
   "source": [
    "len(tensor[0])"
   ]
  },
  {
   "cell_type": "code",
   "execution_count": 264,
   "id": "toxic-sarah",
   "metadata": {},
   "outputs": [
    {
     "data": {
      "text/plain": [
       "array([2967,  250,    0,    0,    0,    0,    0,    0,    0,    0,    0,\n",
       "          0,    0,    0,    0,    0,    0,    0,    0,    0,    0],\n",
       "      dtype=int32)"
      ]
     },
     "execution_count": 264,
     "metadata": {},
     "output_type": "execute_result"
    }
   ],
   "source": [
    "tensor[1]"
   ]
  },
  {
   "cell_type": "code",
   "execution_count": 265,
   "id": "marine-writing",
   "metadata": {},
   "outputs": [
    {
     "data": {
      "text/plain": [
       "'사랑스러운 내용'"
      ]
     },
     "execution_count": 265,
     "metadata": {},
     "output_type": "execute_result"
    }
   ],
   "source": [
    "selected_corpus[1]"
   ]
  },
  {
   "cell_type": "code",
   "execution_count": 266,
   "id": "seventh-summit",
   "metadata": {},
   "outputs": [
    {
     "data": {
      "text/plain": [
       "'<unk>'"
      ]
     },
     "execution_count": 266,
     "metadata": {},
     "output_type": "execute_result"
    }
   ],
   "source": [
    "index_word[0]"
   ]
  },
  {
   "cell_type": "code",
   "execution_count": 267,
   "id": "least-invite",
   "metadata": {},
   "outputs": [
    {
     "data": {
      "text/plain": [
       "'<s>'"
      ]
     },
     "execution_count": 267,
     "metadata": {},
     "output_type": "execute_result"
    }
   ],
   "source": [
    "index_word[1]"
   ]
  },
  {
   "cell_type": "code",
   "execution_count": 268,
   "id": "offensive-michael",
   "metadata": {},
   "outputs": [
    {
     "data": {
      "text/plain": [
       "'</s>'"
      ]
     },
     "execution_count": 268,
     "metadata": {},
     "output_type": "execute_result"
    }
   ],
   "source": [
    "index_word[2]"
   ]
  },
  {
   "cell_type": "code",
   "execution_count": 294,
   "id": "rocky-attachment",
   "metadata": {},
   "outputs": [],
   "source": [
    "def preprocess(df):\n",
    "  df = df.dropna()\n",
    "  df = df.drop_duplicates([\"document\"])\n",
    "  df[\"document\"] = df['document'].map(lambda x: preprocess_sentence(x))\n",
    "  df['document_len']  = df['document'].map(lambda x: len(x.split()))\n",
    "  del_idx =  df[df['document_len'] < 22].index\n",
    "  df = df.drop(del_idx)\n",
    "  df = df.drop(['document_len'],axis = 1)\n",
    "  df.reset_index(drop = True, inplace = True)\n",
    "  return df"
   ]
  },
  {
   "cell_type": "code",
   "execution_count": 295,
   "id": "together-crime",
   "metadata": {},
   "outputs": [],
   "source": [
    "def load_data(s):\n",
    "  train_data_path = \"~/aiffel/ratings_train.txt\"\n",
    "  test_data_path = \"~/aiffel/ratings_test.txt\"\n",
    "\n",
    "  train_data = pd.read_csv(train_data_path, sep=\"\\t\")\n",
    "  test_data = pd.read_csv(test_data_path, sep=\"\\t\")\n",
    "  print( f'original train_data:{len(train_data)}, test_data:{len(test_data)}' )\n",
    "\n",
    "\n",
    "  train_data = preprocess(train_data)\n",
    "  test_data = preprocess(test_data)\n",
    "  print( f'cleaned train_data:{len(train_data)}, test_data:{len(test_data)}' )\n",
    "\n",
    "  X_train = train_data[\"document\"]\n",
    "  y_train = train_data[\"label\"]\n",
    "  X_test = test_data[\"document\"]\n",
    "  y_test = test_data[\"label\"]\n",
    "\n",
    "  print(\"\\nSuccess!\")\n",
    "  print(f\"Train data sample : [{y_train[100]}] {X_train[100]}\")\n",
    "  print(f\"Test data sample : [{y_test[100]}] {X_test[100]}\")\n",
    "\n",
    "  print(\"\\nencoding..\")\n",
    "  X_train, word_index, index_word = sp_tokenize(s, X_train)\n",
    "  X_test, _, _ = sp_tokenize(s, X_test)\n",
    "  print(f\"Train data sample : [{y_train[100]}]\\n\\t{X_train[100].tolist()}\\n\\t{s.DecodeIds(X_train[100].tolist())}\")\n",
    "  print(f\"Test data sample : [{y_test[100]}]\\n\\t{X_test[100].tolist()}\\n\\t{s.DecodeIds(X_test[100].tolist())}\")\n",
    "\n",
    "  return X_train, y_train, X_test, y_test, word_index, index_word"
   ]
  },
  {
   "cell_type": "code",
   "execution_count": 296,
   "id": "thirty-bridge",
   "metadata": {},
   "outputs": [
    {
     "name": "stdout",
     "output_type": "stream",
     "text": [
      "original train_data:150000, test_data:50000\n",
      "cleaned train_data:9128, test_data:3090\n",
      "\n",
      "Success!\n",
      "Train data sample : [0] 요즘은함께하는거본다 옴니버스식이던데 그러기엔 가족이넘 많아요 머좀 빠져들려면 바뀌고바뀌고 전 시즌1부터 오로지 윤후 보려고보는데 점점 산만해지는 느낌이예요 우리 윤후 분량좀 많이많이 늘려주세요 너무착하고예쁜 후\n",
      "Test data sample : [1] 일본 영화다운 영화 보는 내내 힐링되었네요 잠시나마 도시를 벗어나 자연속에서 함께 시간을 보내고 온것 같았습니다 뽀너스로 손수 만드는 건강한 일본 집밥 보는 내내 배가 고팠다는 슬픔이\n",
      "\n",
      "encoding..\n",
      "Train data sample : [0]\n",
      "\t[1126, 21, 1491, 781, 1316, 437, 1230, 478, 5745, 262, 157, 1910, 1823, 144, 1617, 17, 2205, 38, 696, 3829, 336]\n",
      "\t산만해지는 느낌이예요 우리 윤후 분량좀 많이많이 늘려주세요 너무착하고예쁜 후\n",
      "Test data sample : [1]\n",
      "\t[64, 23, 1001, 68, 450, 6836, 16, 272, 1380, 3680, 129, 394, 603, 9, 3, 11, 7973, 13, 7, 2297, 4]\n",
      "\t스로 손수 만드는 건강한 일본 집밥 보는 내내 배가 고팠다는 슬픔이\n"
     ]
    }
   ],
   "source": [
    "s = spm.SentencePieceProcessor()\n",
    "s.Load('NSMC_spm.model')\n",
    "X_train, y_train, X_test, y_test, word_index, index_word = load_data(s)"
   ]
  },
  {
   "cell_type": "code",
   "execution_count": 297,
   "id": "synthetic-pharmaceutical",
   "metadata": {},
   "outputs": [
    {
     "data": {
      "text/plain": [
       "9128"
      ]
     },
     "execution_count": 297,
     "metadata": {},
     "output_type": "execute_result"
    }
   ],
   "source": [
    "len(X_train)"
   ]
  },
  {
   "cell_type": "code",
   "execution_count": 298,
   "id": "devoted-correction",
   "metadata": {},
   "outputs": [
    {
     "data": {
      "text/plain": [
       "9128"
      ]
     },
     "execution_count": 298,
     "metadata": {},
     "output_type": "execute_result"
    }
   ],
   "source": [
    "len(y_train)"
   ]
  },
  {
   "cell_type": "code",
   "execution_count": 299,
   "id": "rural-sussex",
   "metadata": {},
   "outputs": [
    {
     "data": {
      "text/plain": [
       "3090"
      ]
     },
     "execution_count": 299,
     "metadata": {},
     "output_type": "execute_result"
    }
   ],
   "source": [
    "len(X_test)"
   ]
  },
  {
   "cell_type": "code",
   "execution_count": 300,
   "id": "later-comedy",
   "metadata": {},
   "outputs": [
    {
     "data": {
      "text/plain": [
       "3090"
      ]
     },
     "execution_count": 300,
     "metadata": {},
     "output_type": "execute_result"
    }
   ],
   "source": [
    "len(y_test)"
   ]
  },
  {
   "cell_type": "markdown",
   "id": "minor-equilibrium",
   "metadata": {},
   "source": [
    "# 모델 학습"
   ]
  },
  {
   "cell_type": "markdown",
   "id": "limiting-guitar",
   "metadata": {},
   "source": [
    "# 모델구성 및 Validation Set 구성 "
   ]
  },
  {
   "cell_type": "code",
   "execution_count": 305,
   "id": "apart-avenue",
   "metadata": {},
   "outputs": [
    {
     "name": "stdout",
     "output_type": "stream",
     "text": [
      "Model: \"sequential_1\"\n",
      "_________________________________________________________________\n",
      "Layer (type)                 Output Shape              Param #   \n",
      "=================================================================\n",
      "embedding_1 (Embedding)      (None, None, 200)         1600000   \n",
      "_________________________________________________________________\n",
      "lstm_1 (LSTM)                (None, 8)                 6688      \n",
      "_________________________________________________________________\n",
      "dense_2 (Dense)              (None, 8)                 72        \n",
      "_________________________________________________________________\n",
      "dense_3 (Dense)              (None, 1)                 9         \n",
      "=================================================================\n",
      "Total params: 1,606,769\n",
      "Trainable params: 1,606,769\n",
      "Non-trainable params: 0\n",
      "_________________________________________________________________\n"
     ]
    }
   ],
   "source": [
    "vocab_size = 8000    # 어휘 사전의 크기\n",
    "word_vector_dim = 200  # 워드 벡터의 차원 수 \n",
    "\n",
    "# model 설계 \n",
    "model_1 = keras.Sequential()\n",
    "\n",
    "model_1.add(keras.layers.Embedding(vocab_size, word_vector_dim, input_shape=(None,)))\n",
    "model_1.add(keras.layers.LSTM(8)) # LSTM Layer의 Input Vector (a,b) : a는 timestep의 갯수, b는 feature들    \n",
    "model_1.add(keras.layers.Dense(8, activation='relu'))\n",
    "model_1.add(keras.layers.Dense(1, activation='sigmoid'))  # 최종 출력은 긍정/부정\n",
    "\n",
    "model_1.summary()"
   ]
  },
  {
   "cell_type": "code",
   "execution_count": 306,
   "id": "known-patient",
   "metadata": {},
   "outputs": [
    {
     "name": "stdout",
     "output_type": "stream",
     "text": [
      "train_data:5841, val_data:1461, test_data:3090\n"
     ]
    }
   ],
   "source": [
    "from sklearn.model_selection import train_test_split\n",
    "\n",
    "X_train, X_val, y_train, y_val = train_test_split(X_train, y_train, test_size=0.2)\n",
    "print( f'train_data:{len(X_train)}, val_data:{len(X_val)}, test_data:{len(X_test)}' )"
   ]
  },
  {
   "cell_type": "markdown",
   "id": "necessary-niagara",
   "metadata": {},
   "source": [
    "# 모델_1 (LSTM)"
   ]
  },
  {
   "cell_type": "code",
   "execution_count": 308,
   "id": "intimate-prophet",
   "metadata": {},
   "outputs": [
    {
     "name": "stdout",
     "output_type": "stream",
     "text": [
      "Epoch 1/20\n",
      "12/12 [==============================] - 3s 62ms/step - loss: 0.6905 - accuracy: 0.5495 - val_loss: 0.6781 - val_accuracy: 0.5756\n",
      "Epoch 2/20\n",
      "12/12 [==============================] - 0s 21ms/step - loss: 0.6657 - accuracy: 0.6049 - val_loss: 0.6508 - val_accuracy: 0.6804\n",
      "Epoch 3/20\n",
      "12/12 [==============================] - 0s 21ms/step - loss: 0.6159 - accuracy: 0.7295 - val_loss: 0.6077 - val_accuracy: 0.7331\n",
      "Epoch 4/20\n",
      "12/12 [==============================] - 0s 21ms/step - loss: 0.5426 - accuracy: 0.8149 - val_loss: 0.5582 - val_accuracy: 0.7803\n",
      "Epoch 5/20\n",
      "12/12 [==============================] - 0s 21ms/step - loss: 0.4523 - accuracy: 0.8862 - val_loss: 0.5145 - val_accuracy: 0.7906\n",
      "Epoch 6/20\n",
      "12/12 [==============================] - 0s 21ms/step - loss: 0.3433 - accuracy: 0.9325 - val_loss: 0.4976 - val_accuracy: 0.7693\n",
      "Epoch 7/20\n",
      "12/12 [==============================] - 0s 21ms/step - loss: 0.2341 - accuracy: 0.9637 - val_loss: 0.5189 - val_accuracy: 0.7645\n",
      "Epoch 8/20\n",
      "12/12 [==============================] - 0s 21ms/step - loss: 0.1577 - accuracy: 0.9785 - val_loss: 0.5654 - val_accuracy: 0.7536\n",
      "Epoch 9/20\n",
      "12/12 [==============================] - 0s 21ms/step - loss: 0.1013 - accuracy: 0.9885 - val_loss: 0.6186 - val_accuracy: 0.7509\n",
      "Epoch 10/20\n",
      "12/12 [==============================] - 0s 21ms/step - loss: 0.0722 - accuracy: 0.9928 - val_loss: 0.6725 - val_accuracy: 0.7433\n",
      "Epoch 11/20\n",
      "12/12 [==============================] - 0s 20ms/step - loss: 0.0591 - accuracy: 0.9933 - val_loss: 0.7322 - val_accuracy: 0.7399\n",
      "Epoch 12/20\n",
      "12/12 [==============================] - 0s 21ms/step - loss: 0.0453 - accuracy: 0.9954 - val_loss: 0.7816 - val_accuracy: 0.7399\n",
      "Epoch 13/20\n",
      "12/12 [==============================] - 0s 20ms/step - loss: 0.0425 - accuracy: 0.9945 - val_loss: 0.8177 - val_accuracy: 0.7406\n",
      "Epoch 14/20\n",
      "12/12 [==============================] - 0s 20ms/step - loss: 0.0343 - accuracy: 0.9955 - val_loss: 0.8634 - val_accuracy: 0.7379\n",
      "Epoch 15/20\n",
      "12/12 [==============================] - 0s 21ms/step - loss: 0.0283 - accuracy: 0.9966 - val_loss: 0.9141 - val_accuracy: 0.7379\n",
      "Epoch 16/20\n",
      "12/12 [==============================] - 0s 20ms/step - loss: 0.0233 - accuracy: 0.9974 - val_loss: 0.9474 - val_accuracy: 0.7385\n",
      "Epoch 17/20\n",
      "12/12 [==============================] - 0s 21ms/step - loss: 0.0196 - accuracy: 0.9976 - val_loss: 0.9960 - val_accuracy: 0.7310\n",
      "Epoch 18/20\n",
      "12/12 [==============================] - 0s 20ms/step - loss: 0.0176 - accuracy: 0.9981 - val_loss: 1.0306 - val_accuracy: 0.7276\n",
      "Epoch 19/20\n",
      "12/12 [==============================] - 0s 21ms/step - loss: 0.0144 - accuracy: 0.9988 - val_loss: 1.0738 - val_accuracy: 0.7248\n",
      "Epoch 20/20\n",
      "12/12 [==============================] - 0s 21ms/step - loss: 0.0164 - accuracy: 0.9976 - val_loss: 1.1135 - val_accuracy: 0.7207\n"
     ]
    }
   ],
   "source": [
    "model_1.compile(optimizer='adam',\n",
    "              loss='binary_crossentropy',\n",
    "              metrics=['accuracy'])\n",
    "              \n",
    "epochs=20  \n",
    "\n",
    "history_1 = model_1.fit(X_train,\n",
    "                    y_train,\n",
    "                    epochs=epochs,\n",
    "                    batch_size=512,\n",
    "                    validation_data=(X_val, y_val),\n",
    "                    verbose=1)"
   ]
  },
  {
   "cell_type": "code",
   "execution_count": 309,
   "id": "short-saturday",
   "metadata": {},
   "outputs": [
    {
     "name": "stdout",
     "output_type": "stream",
     "text": [
      "97/97 - 0s - loss: 1.2107 - accuracy: 0.6981\n",
      "[1.2106661796569824, 0.6980582475662231]\n"
     ]
    }
   ],
   "source": [
    "results_1 = model_1.evaluate(X_test,  y_test, verbose=2) # Loss 값 반환\n",
    "\n",
    "print(results_1)"
   ]
  },
  {
   "cell_type": "code",
   "execution_count": 310,
   "id": "oriented-birth",
   "metadata": {},
   "outputs": [
    {
     "data": {
      "text/plain": [
       "{'loss': [0.6885608434677124,\n",
       "  0.6593685150146484,\n",
       "  0.6073269248008728,\n",
       "  0.5298541188240051,\n",
       "  0.4337575435638428,\n",
       "  0.32648593187332153,\n",
       "  0.2230193018913269,\n",
       "  0.14946109056472778,\n",
       "  0.10136402398347855,\n",
       "  0.07225339859724045,\n",
       "  0.056042641401290894,\n",
       "  0.04503687098622322,\n",
       "  0.03754755109548569,\n",
       "  0.031375106424093246,\n",
       "  0.02738911658525467,\n",
       "  0.023310622200369835,\n",
       "  0.020295940339565277,\n",
       "  0.01800583489239216,\n",
       "  0.015868481248617172,\n",
       "  0.014514012262225151],\n",
       " 'accuracy': [0.5469954013824463,\n",
       "  0.6269474625587463,\n",
       "  0.7366889119148254,\n",
       "  0.8301660418510437,\n",
       "  0.8894025087356567,\n",
       "  0.9344290494918823,\n",
       "  0.9643896818161011,\n",
       "  0.9780859351158142,\n",
       "  0.9863036870956421,\n",
       "  0.992124617099762,\n",
       "  0.9940078854560852,\n",
       "  0.9953774809837341,\n",
       "  0.9958910942077637,\n",
       "  0.9964047074317932,\n",
       "  0.9965759515762329,\n",
       "  0.9972607493400574,\n",
       "  0.997603178024292,\n",
       "  0.9979455471038818,\n",
       "  0.9981167316436768,\n",
       "  0.9981167316436768],\n",
       " 'val_loss': [0.6781425476074219,\n",
       "  0.6508314609527588,\n",
       "  0.6077069640159607,\n",
       "  0.5582349896430969,\n",
       "  0.5144562125205994,\n",
       "  0.4975568950176239,\n",
       "  0.5188800692558289,\n",
       "  0.565398097038269,\n",
       "  0.618613064289093,\n",
       "  0.6724597811698914,\n",
       "  0.7322124242782593,\n",
       "  0.7816157937049866,\n",
       "  0.8176804184913635,\n",
       "  0.8633550405502319,\n",
       "  0.9141284823417664,\n",
       "  0.9474225640296936,\n",
       "  0.9960272312164307,\n",
       "  1.0305556058883667,\n",
       "  1.073808193206787,\n",
       "  1.1135034561157227],\n",
       " 'val_accuracy': [0.5756331086158752,\n",
       "  0.6803559064865112,\n",
       "  0.7330595254898071,\n",
       "  0.7802874445915222,\n",
       "  0.790554404258728,\n",
       "  0.7693360447883606,\n",
       "  0.7645448446273804,\n",
       "  0.7535934448242188,\n",
       "  0.750855565071106,\n",
       "  0.7433264851570129,\n",
       "  0.7399041652679443,\n",
       "  0.7399041652679443,\n",
       "  0.7405886650085449,\n",
       "  0.7378507852554321,\n",
       "  0.7378507852554321,\n",
       "  0.7385352253913879,\n",
       "  0.7310061454772949,\n",
       "  0.7275838255882263,\n",
       "  0.7248460054397583,\n",
       "  0.7207392454147339]}"
      ]
     },
     "execution_count": 310,
     "metadata": {},
     "output_type": "execute_result"
    }
   ],
   "source": [
    "history_1.history"
   ]
  },
  {
   "cell_type": "markdown",
   "id": "announced-accident",
   "metadata": {},
   "source": [
    "# Loss 시각화"
   ]
  },
  {
   "cell_type": "code",
   "execution_count": 311,
   "id": "experimental-mirror",
   "metadata": {},
   "outputs": [
    {
     "data": {
      "image/png": "[encoded data removed]",
      "text/plain": [
       "<Figure size 1080x576 with 1 Axes>"
      ]
     },
     "metadata": {
      "needs_background": "light"
     },
     "output_type": "display_data"
    }
   ],
   "source": [
    "f,ax = plt.subplots(1,1, figsize=(15,8))\n",
    "plt.plot(history_1.history['loss'])\n",
    "plt.plot(history_1.history['val_loss'],'rs')\n",
    "plt.xlabel('Epochs')\n",
    "plt.ylabel('Loss')\n",
    "plt.title('Loss Variation during Training')\n",
    "plt.show()"
   ]
  },
  {
   "cell_type": "markdown",
   "id": "convertible-percentage",
   "metadata": {},
   "source": [
    "# Accuracy 시각화"
   ]
  },
  {
   "cell_type": "code",
   "execution_count": 312,
   "id": "engaged-affiliate",
   "metadata": {
    "scrolled": true
   },
   "outputs": [
    {
     "data": {
      "image/png": "[encoded data removed]",
      "text/plain": [
       "<Figure size 1080x576 with 1 Axes>"
      ]
     },
     "metadata": {
      "needs_background": "light"
     },
     "output_type": "display_data"
    }
   ],
   "source": [
    "f,ax = plt.subplots(1,1, figsize=(15,8))\n",
    "plt.plot(history_1.history['accuracy'])\n",
    "plt.plot(history_1.history['val_accuracy'],'rs')\n",
    "plt.xlabel('Epochs')\n",
    "plt.ylabel('Accuracy')\n",
    "plt.title('Accuracy Variation during Training')\n",
    "plt.show()"
   ]
  },
  {
   "cell_type": "markdown",
   "id": "prostate-lincoln",
   "metadata": {},
   "source": [
    "# 모델_2 (GRU)"
   ]
  },
  {
   "cell_type": "code",
   "execution_count": 314,
   "id": "different-member",
   "metadata": {},
   "outputs": [
    {
     "name": "stdout",
     "output_type": "stream",
     "text": [
      "Model: \"sequential_2\"\n",
      "_________________________________________________________________\n",
      "Layer (type)                 Output Shape              Param #   \n",
      "=================================================================\n",
      "embedding_2 (Embedding)      (None, None, 200)         1600000   \n",
      "_________________________________________________________________\n",
      "gru (GRU)                    (None, 8)                 5040      \n",
      "_________________________________________________________________\n",
      "dense_4 (Dense)              (None, 8)                 72        \n",
      "_________________________________________________________________\n",
      "dense_5 (Dense)              (None, 1)                 9         \n",
      "=================================================================\n",
      "Total params: 1,605,121\n",
      "Trainable params: 1,605,121\n",
      "Non-trainable params: 0\n",
      "_________________________________________________________________\n"
     ]
    }
   ],
   "source": [
    "vocab_size = 8000    # 어휘 사전의 크기\n",
    "word_vector_dim = 200  # 워드 벡터의 차원 수 \n",
    "\n",
    "# model 설계 \n",
    "model_2 = keras.Sequential()\n",
    "\n",
    "model_2.add(keras.layers.Embedding(vocab_size, word_vector_dim, input_shape=(None,)))\n",
    "model_2.add(keras.layers.GRU(8))    \n",
    "model_2.add(keras.layers.Dense(8, activation='relu'))\n",
    "model_2.add(keras.layers.Dense(1, activation='sigmoid'))  # 최종 출력은 긍정/부정\n",
    "\n",
    "model_2.summary()"
   ]
  },
  {
   "cell_type": "markdown",
   "id": "twelve-pressing",
   "metadata": {},
   "source": [
    "# 모델 훈련 개시"
   ]
  },
  {
   "cell_type": "code",
   "execution_count": 315,
   "id": "direct-complex",
   "metadata": {},
   "outputs": [
    {
     "name": "stdout",
     "output_type": "stream",
     "text": [
      "Epoch 1/20\n",
      "12/12 [==============================] - 2s 75ms/step - loss: 0.6906 - accuracy: 0.5408 - val_loss: 0.6824 - val_accuracy: 0.5510\n",
      "Epoch 2/20\n",
      "12/12 [==============================] - 0s 20ms/step - loss: 0.6722 - accuracy: 0.5419 - val_loss: 0.6679 - val_accuracy: 0.5530\n",
      "Epoch 3/20\n",
      "12/12 [==============================] - 0s 21ms/step - loss: 0.6448 - accuracy: 0.5619 - val_loss: 0.6488 - val_accuracy: 0.6208\n",
      "Epoch 4/20\n",
      "12/12 [==============================] - 0s 20ms/step - loss: 0.5964 - accuracy: 0.7008 - val_loss: 0.6300 - val_accuracy: 0.6626\n",
      "Epoch 5/20\n",
      "12/12 [==============================] - 0s 21ms/step - loss: 0.5464 - accuracy: 0.7756 - val_loss: 0.6187 - val_accuracy: 0.6865\n",
      "Epoch 6/20\n",
      "12/12 [==============================] - 0s 21ms/step - loss: 0.4937 - accuracy: 0.8434 - val_loss: 0.6132 - val_accuracy: 0.6913\n",
      "Epoch 7/20\n",
      "12/12 [==============================] - 0s 21ms/step - loss: 0.4380 - accuracy: 0.8830 - val_loss: 0.6128 - val_accuracy: 0.7036\n",
      "Epoch 8/20\n",
      "12/12 [==============================] - 0s 21ms/step - loss: 0.3852 - accuracy: 0.9141 - val_loss: 0.6187 - val_accuracy: 0.7070\n",
      "Epoch 9/20\n",
      "12/12 [==============================] - 0s 21ms/step - loss: 0.3329 - accuracy: 0.9331 - val_loss: 0.6305 - val_accuracy: 0.7064\n",
      "Epoch 10/20\n",
      "12/12 [==============================] - 0s 21ms/step - loss: 0.2860 - accuracy: 0.9571 - val_loss: 0.6526 - val_accuracy: 0.7057\n",
      "Epoch 11/20\n",
      "12/12 [==============================] - 0s 21ms/step - loss: 0.2390 - accuracy: 0.9676 - val_loss: 0.6638 - val_accuracy: 0.7132\n",
      "Epoch 12/20\n",
      "12/12 [==============================] - 0s 21ms/step - loss: 0.1968 - accuracy: 0.9760 - val_loss: 0.6839 - val_accuracy: 0.7180\n",
      "Epoch 13/20\n",
      "12/12 [==============================] - 0s 22ms/step - loss: 0.1640 - accuracy: 0.9825 - val_loss: 0.7173 - val_accuracy: 0.7180\n",
      "Epoch 14/20\n",
      "12/12 [==============================] - 0s 21ms/step - loss: 0.1312 - accuracy: 0.9877 - val_loss: 0.7401 - val_accuracy: 0.7132\n",
      "Epoch 15/20\n",
      "12/12 [==============================] - 0s 21ms/step - loss: 0.1062 - accuracy: 0.9886 - val_loss: 0.7790 - val_accuracy: 0.7153\n",
      "Epoch 16/20\n",
      "12/12 [==============================] - 0s 21ms/step - loss: 0.0846 - accuracy: 0.9921 - val_loss: 0.8111 - val_accuracy: 0.7098\n",
      "Epoch 17/20\n",
      "12/12 [==============================] - 0s 21ms/step - loss: 0.0679 - accuracy: 0.9936 - val_loss: 0.8454 - val_accuracy: 0.7043\n",
      "Epoch 18/20\n",
      "12/12 [==============================] - 0s 21ms/step - loss: 0.0559 - accuracy: 0.9946 - val_loss: 0.8821 - val_accuracy: 0.7029\n",
      "Epoch 19/20\n",
      "12/12 [==============================] - 0s 21ms/step - loss: 0.0509 - accuracy: 0.9944 - val_loss: 0.9144 - val_accuracy: 0.7043\n",
      "Epoch 20/20\n",
      "12/12 [==============================] - 0s 21ms/step - loss: 0.0442 - accuracy: 0.9943 - val_loss: 0.9412 - val_accuracy: 0.7064\n"
     ]
    }
   ],
   "source": [
    "model_2.compile(optimizer='adam',\n",
    "              loss='binary_crossentropy',\n",
    "              metrics=['accuracy'])\n",
    "              \n",
    "epochs=20  \n",
    "\n",
    "history_2 = model_2.fit(X_train,\n",
    "                    y_train,\n",
    "                    epochs=epochs,\n",
    "                    batch_size=512,\n",
    "                    validation_data=(X_val, y_val),\n",
    "                    verbose=1)"
   ]
  },
  {
   "cell_type": "code",
   "execution_count": 316,
   "id": "sixth-empty",
   "metadata": {},
   "outputs": [
    {
     "name": "stdout",
     "output_type": "stream",
     "text": [
      "97/97 - 0s - loss: 1.0253 - accuracy: 0.6964\n",
      "[1.0252548456192017, 0.6964401006698608]\n"
     ]
    }
   ],
   "source": [
    "results_2 = model_2.evaluate(X_test,  y_test, verbose=2) # Loss 값 반환\n",
    "\n",
    "print(results_2)"
   ]
  },
  {
   "cell_type": "code",
   "execution_count": 317,
   "id": "varying-mortgage",
   "metadata": {},
   "outputs": [
    {
     "data": {
      "text/plain": [
       "{'loss': [0.68944251537323,\n",
       "  0.6694502830505371,\n",
       "  0.6372072696685791,\n",
       "  0.5921880006790161,\n",
       "  0.5388259291648865,\n",
       "  0.48383450508117676,\n",
       "  0.4306924343109131,\n",
       "  0.37928506731987,\n",
       "  0.32951125502586365,\n",
       "  0.2811554968357086,\n",
       "  0.23576927185058594,\n",
       "  0.19494420289993286,\n",
       "  0.15907329320907593,\n",
       "  0.12842300534248352,\n",
       "  0.10255327075719833,\n",
       "  0.08306225389242172,\n",
       "  0.06841130554676056,\n",
       "  0.056944333016872406,\n",
       "  0.04874458163976669,\n",
       "  0.04244042932987213],\n",
       " 'accuracy': [0.5377503633499146,\n",
       "  0.537236750125885,\n",
       "  0.5949323773384094,\n",
       "  0.7062146663665771,\n",
       "  0.7846259474754333,\n",
       "  0.8447183966636658,\n",
       "  0.8849512338638306,\n",
       "  0.9159390330314636,\n",
       "  0.9349426627159119,\n",
       "  0.9570279121398926,\n",
       "  0.9676425457000732,\n",
       "  0.9772299528121948,\n",
       "  0.9827084541320801,\n",
       "  0.9861325025558472,\n",
       "  0.9892141819000244,\n",
       "  0.9914398193359375,\n",
       "  0.9929806590080261,\n",
       "  0.9938367009162903,\n",
       "  0.9946926832199097,\n",
       "  0.9948638677597046],\n",
       " 'val_loss': [0.682425856590271,\n",
       "  0.6678658127784729,\n",
       "  0.6488167643547058,\n",
       "  0.6299856901168823,\n",
       "  0.6187487840652466,\n",
       "  0.6132380366325378,\n",
       "  0.612834632396698,\n",
       "  0.6186590194702148,\n",
       "  0.6304664015769958,\n",
       "  0.6526443958282471,\n",
       "  0.6638142466545105,\n",
       "  0.6839342713356018,\n",
       "  0.7173332571983337,\n",
       "  0.7400738000869751,\n",
       "  0.7790195345878601,\n",
       "  0.811115562915802,\n",
       "  0.8453609943389893,\n",
       "  0.8821418285369873,\n",
       "  0.9144465327262878,\n",
       "  0.9412117600440979],\n",
       " 'val_accuracy': [0.550992488861084,\n",
       "  0.5530458688735962,\n",
       "  0.6208076477050781,\n",
       "  0.6625598669052124,\n",
       "  0.6865161061286926,\n",
       "  0.6913073062896729,\n",
       "  0.7036276459693909,\n",
       "  0.7070499658584595,\n",
       "  0.7063655257225037,\n",
       "  0.7056810259819031,\n",
       "  0.7132101058959961,\n",
       "  0.7180013656616211,\n",
       "  0.7180013656616211,\n",
       "  0.7132101058959961,\n",
       "  0.7152635455131531,\n",
       "  0.7097878456115723,\n",
       "  0.7043120861053467,\n",
       "  0.7029432058334351,\n",
       "  0.7043120861053467,\n",
       "  0.7063655257225037]}"
      ]
     },
     "execution_count": 317,
     "metadata": {},
     "output_type": "execute_result"
    }
   ],
   "source": [
    "history_2.history"
   ]
  },
  {
   "cell_type": "markdown",
   "id": "reasonable-casting",
   "metadata": {},
   "source": [
    "# Loss 시각화"
   ]
  },
  {
   "cell_type": "code",
   "execution_count": 318,
   "id": "social-magic",
   "metadata": {},
   "outputs": [
    {
     "data": {
      "image/png": "[encoded data removed]",
      "text/plain": [
       "<Figure size 1080x576 with 1 Axes>"
      ]
     },
     "metadata": {
      "needs_background": "light"
     },
     "output_type": "display_data"
    }
   ],
   "source": [
    "f,ax = plt.subplots(1,1, figsize=(15,8))\n",
    "plt.plot(history_2.history['loss'])\n",
    "plt.plot(history_2.history['val_loss'],'rs')\n",
    "plt.xlabel('Epochs')\n",
    "plt.ylabel('Loss')\n",
    "plt.title('Loss Variation during Training')\n",
    "plt.show()"
   ]
  },
  {
   "cell_type": "markdown",
   "id": "deluxe-advertiser",
   "metadata": {},
   "source": [
    "# Accuracy 시각화"
   ]
  },
  {
   "cell_type": "code",
   "execution_count": 319,
   "id": "everyday-collaboration",
   "metadata": {
    "scrolled": false
   },
   "outputs": [
    {
     "data": {
      "image/png": "[encoded data removed]",
      "text/plain": [
       "<Figure size 1080x576 with 1 Axes>"
      ]
     },
     "metadata": {
      "needs_background": "light"
     },
     "output_type": "display_data"
    }
   ],
   "source": [
    "f,ax = plt.subplots(1,1, figsize=(15,8))\n",
    "plt.plot(history_2.history['accuracy'])\n",
    "plt.plot(history_2.history['val_accuracy'],'rs')\n",
    "plt.xlabel('Epochs')\n",
    "plt.ylabel('Accuracy')\n",
    "plt.title('Accuracy Variation during Training')\n",
    "plt.show()"
   ]
  },
  {
   "cell_type": "markdown",
   "id": "anticipated-jersey",
   "metadata": {},
   "source": [
    "# 모델_3 (LSTM * 2)"
   ]
  },
  {
   "cell_type": "code",
   "execution_count": 321,
   "id": "coral-section",
   "metadata": {},
   "outputs": [
    {
     "name": "stdout",
     "output_type": "stream",
     "text": [
      "Model: \"sequential_3\"\n",
      "_________________________________________________________________\n",
      "Layer (type)                 Output Shape              Param #   \n",
      "=================================================================\n",
      "embedding_3 (Embedding)      (None, None, 200)         1600000   \n",
      "_________________________________________________________________\n",
      "lstm_2 (LSTM)                (None, None, 8)           6688      \n",
      "_________________________________________________________________\n",
      "lstm_3 (LSTM)                (None, 8)                 544       \n",
      "_________________________________________________________________\n",
      "dense_6 (Dense)              (None, 8)                 72        \n",
      "_________________________________________________________________\n",
      "dense_7 (Dense)              (None, 1)                 9         \n",
      "=================================================================\n",
      "Total params: 1,607,313\n",
      "Trainable params: 1,607,313\n",
      "Non-trainable params: 0\n",
      "_________________________________________________________________\n"
     ]
    }
   ],
   "source": [
    "vocab_size = 8000    # 어휘 사전의 크기\n",
    "word_vector_dim = 200  # 워드 벡터의 차원 수 \n",
    "\n",
    "# model 설계 \n",
    "model_3 = keras.Sequential()\n",
    "\n",
    "model_3.add(keras.layers.Embedding(vocab_size, word_vector_dim, input_shape=(None,)))\n",
    "model_3.add(keras.layers.LSTM(8,return_sequences = True))\n",
    "model_3.add(keras.layers.LSTM(8))\n",
    "model_3.add(keras.layers.Dense(8, activation='relu'))\n",
    "model_3.add(keras.layers.Dense(1, activation='sigmoid'))  # 최종 출력은 긍정/부정\n",
    "\n",
    "model_3.summary()"
   ]
  },
  {
   "cell_type": "markdown",
   "id": "focused-weapon",
   "metadata": {},
   "source": [
    "# 모델 훈련 개시"
   ]
  },
  {
   "cell_type": "code",
   "execution_count": 323,
   "id": "celtic-algebra",
   "metadata": {},
   "outputs": [
    {
     "name": "stdout",
     "output_type": "stream",
     "text": [
      "Epoch 1/20\n",
      "12/12 [==============================] - 4s 88ms/step - loss: 0.6912 - accuracy: 0.5390 - val_loss: 0.6815 - val_accuracy: 0.5524\n",
      "Epoch 2/20\n",
      "12/12 [==============================] - 0s 26ms/step - loss: 0.6728 - accuracy: 0.5570 - val_loss: 0.6546 - val_accuracy: 0.6386\n",
      "Epoch 3/20\n",
      "12/12 [==============================] - 0s 26ms/step - loss: 0.6255 - accuracy: 0.6943 - val_loss: 0.6034 - val_accuracy: 0.7146\n",
      "Epoch 4/20\n",
      "12/12 [==============================] - 0s 26ms/step - loss: 0.5411 - accuracy: 0.7995 - val_loss: 0.5559 - val_accuracy: 0.7789\n",
      "Epoch 5/20\n",
      "12/12 [==============================] - 0s 26ms/step - loss: 0.4381 - accuracy: 0.8923 - val_loss: 0.5554 - val_accuracy: 0.7604\n",
      "Epoch 6/20\n",
      "12/12 [==============================] - 0s 26ms/step - loss: 0.3437 - accuracy: 0.9441 - val_loss: 0.5838 - val_accuracy: 0.7488\n",
      "Epoch 7/20\n",
      "12/12 [==============================] - 0s 26ms/step - loss: 0.2621 - accuracy: 0.9609 - val_loss: 0.6102 - val_accuracy: 0.7379\n",
      "Epoch 8/20\n",
      "12/12 [==============================] - 0s 26ms/step - loss: 0.1981 - accuracy: 0.9699 - val_loss: 0.6533 - val_accuracy: 0.7344\n",
      "Epoch 9/20\n",
      "12/12 [==============================] - 0s 27ms/step - loss: 0.1473 - accuracy: 0.9787 - val_loss: 0.7132 - val_accuracy: 0.7283\n",
      "Epoch 10/20\n",
      "12/12 [==============================] - 0s 27ms/step - loss: 0.1179 - accuracy: 0.9816 - val_loss: 0.7656 - val_accuracy: 0.7194\n",
      "Epoch 11/20\n",
      "12/12 [==============================] - 0s 26ms/step - loss: 0.0954 - accuracy: 0.9855 - val_loss: 0.8306 - val_accuracy: 0.7064\n",
      "Epoch 12/20\n",
      "12/12 [==============================] - 0s 26ms/step - loss: 0.0793 - accuracy: 0.9874 - val_loss: 0.8966 - val_accuracy: 0.7070\n",
      "Epoch 13/20\n",
      "12/12 [==============================] - 0s 27ms/step - loss: 0.0690 - accuracy: 0.9889 - val_loss: 0.9423 - val_accuracy: 0.7118\n",
      "Epoch 14/20\n",
      "12/12 [==============================] - 0s 26ms/step - loss: 0.0567 - accuracy: 0.9918 - val_loss: 0.9657 - val_accuracy: 0.7159\n",
      "Epoch 15/20\n",
      "12/12 [==============================] - 0s 26ms/step - loss: 0.0529 - accuracy: 0.9906 - val_loss: 1.0010 - val_accuracy: 0.7125\n",
      "Epoch 16/20\n",
      "12/12 [==============================] - 0s 26ms/step - loss: 0.0455 - accuracy: 0.9931 - val_loss: 1.0445 - val_accuracy: 0.7125\n",
      "Epoch 17/20\n",
      "12/12 [==============================] - 0s 26ms/step - loss: 0.0431 - accuracy: 0.9929 - val_loss: 1.1090 - val_accuracy: 0.7023\n",
      "Epoch 18/20\n",
      "12/12 [==============================] - 0s 27ms/step - loss: 0.0358 - accuracy: 0.9947 - val_loss: 1.1512 - val_accuracy: 0.6961\n",
      "Epoch 19/20\n",
      "12/12 [==============================] - 0s 26ms/step - loss: 0.0383 - accuracy: 0.9941 - val_loss: 1.1688 - val_accuracy: 0.6940\n",
      "Epoch 20/20\n",
      "12/12 [==============================] - 0s 26ms/step - loss: 0.0400 - accuracy: 0.9931 - val_loss: 1.1994 - val_accuracy: 0.6947\n"
     ]
    }
   ],
   "source": [
    "model_3.compile(optimizer='adam',\n",
    "              loss='binary_crossentropy',\n",
    "              metrics=['accuracy'])\n",
    "              \n",
    "epochs=20  \n",
    "\n",
    "history_3 = model_3.fit(X_train,\n",
    "                    y_train,\n",
    "                    epochs=epochs,\n",
    "                    batch_size=512,\n",
    "                    validation_data=(X_val, y_val),\n",
    "                    verbose=1)"
   ]
  },
  {
   "cell_type": "code",
   "execution_count": 324,
   "id": "unnecessary-refund",
   "metadata": {},
   "outputs": [
    {
     "name": "stdout",
     "output_type": "stream",
     "text": [
      "97/97 - 0s - loss: 1.2673 - accuracy: 0.6861\n",
      "[1.2672724723815918, 0.6860841512680054]\n"
     ]
    }
   ],
   "source": [
    "results_3 = model_3.evaluate(X_test,  y_test, verbose=2) # Loss 값 반환\n",
    "\n",
    "print(results_3)"
   ]
  },
  {
   "cell_type": "code",
   "execution_count": 325,
   "id": "empty-strengthening",
   "metadata": {},
   "outputs": [
    {
     "data": {
      "text/plain": [
       "{'loss': [0.6896072030067444,\n",
       "  0.6666767597198486,\n",
       "  0.612689197063446,\n",
       "  0.5234949588775635,\n",
       "  0.4235653281211853,\n",
       "  0.33053648471832275,\n",
       "  0.24678592383861542,\n",
       "  0.18545901775360107,\n",
       "  0.14290191233158112,\n",
       "  0.11375045776367188,\n",
       "  0.09099822491407394,\n",
       "  0.07622408866882324,\n",
       "  0.06586737185716629,\n",
       "  0.05855043604969978,\n",
       "  0.05528835952281952,\n",
       "  0.04868030175566673,\n",
       "  0.0447048544883728,\n",
       "  0.04118511453270912,\n",
       "  0.03911043331027031,\n",
       "  0.03576185926795006],\n",
       " 'accuracy': [0.5374079942703247,\n",
       "  0.5803800821304321,\n",
       "  0.7086115479469299,\n",
       "  0.8174970149993896,\n",
       "  0.9019003510475159,\n",
       "  0.9436740279197693,\n",
       "  0.9635336399078369,\n",
       "  0.9727786183357239,\n",
       "  0.9785995483398438,\n",
       "  0.9825372099876404,\n",
       "  0.9864749312400818,\n",
       "  0.9881869554519653,\n",
       "  0.9892141819000244,\n",
       "  0.9904125928878784,\n",
       "  0.9905837774276733,\n",
       "  0.9917822480201721,\n",
       "  0.992124617099762,\n",
       "  0.993151843547821,\n",
       "  0.9934942722320557,\n",
       "  0.9940078854560852],\n",
       " 'val_loss': [0.681526780128479,\n",
       "  0.6546200513839722,\n",
       "  0.6033716797828674,\n",
       "  0.5559123158454895,\n",
       "  0.5553513765335083,\n",
       "  0.5838493704795837,\n",
       "  0.6101577877998352,\n",
       "  0.6532650589942932,\n",
       "  0.7131568193435669,\n",
       "  0.7656433582305908,\n",
       "  0.830615222454071,\n",
       "  0.8965515494346619,\n",
       "  0.9422990083694458,\n",
       "  0.965670645236969,\n",
       "  1.0010215044021606,\n",
       "  1.0444673299789429,\n",
       "  1.1090468168258667,\n",
       "  1.1511547565460205,\n",
       "  1.168785810470581,\n",
       "  1.19942307472229],\n",
       " 'val_accuracy': [0.5523613691329956,\n",
       "  0.638603687286377,\n",
       "  0.7145790457725525,\n",
       "  0.7789185643196106,\n",
       "  0.760438084602356,\n",
       "  0.7488021850585938,\n",
       "  0.7378507852554321,\n",
       "  0.7344284653663635,\n",
       "  0.7282683253288269,\n",
       "  0.7193703055381775,\n",
       "  0.7063655257225037,\n",
       "  0.7070499658584595,\n",
       "  0.7118412256240845,\n",
       "  0.7159479856491089,\n",
       "  0.7125256657600403,\n",
       "  0.7125256657600403,\n",
       "  0.7022587060928345,\n",
       "  0.6960985660552979,\n",
       "  0.6940451860427856,\n",
       "  0.6947296261787415]}"
      ]
     },
     "execution_count": 325,
     "metadata": {},
     "output_type": "execute_result"
    }
   ],
   "source": [
    "history_3.history"
   ]
  },
  {
   "cell_type": "markdown",
   "id": "resident-classification",
   "metadata": {},
   "source": [
    "# Loss 시각화"
   ]
  },
  {
   "cell_type": "code",
   "execution_count": 326,
   "id": "collected-league",
   "metadata": {},
   "outputs": [
    {
     "data": {
      "image/png": "[encoded data removed]",
      "text/plain": [
       "<Figure size 1080x576 with 1 Axes>"
      ]
     },
     "metadata": {
      "needs_background": "light"
     },
     "output_type": "display_data"
    }
   ],
   "source": [
    "f,ax = plt.subplots(1,1, figsize=(15,8))\n",
    "plt.plot(history_3.history['loss'])\n",
    "plt.plot(history_3.history['val_loss'],'rs')\n",
    "plt.xlabel('Epochs')\n",
    "plt.ylabel('Loss')\n",
    "plt.title('Loss Variation during Training')\n",
    "plt.show()"
   ]
  },
  {
   "cell_type": "markdown",
   "id": "therapeutic-drill",
   "metadata": {},
   "source": [
    "# Accuracy 시각화"
   ]
  },
  {
   "cell_type": "code",
   "execution_count": 327,
   "id": "devoted-therapy",
   "metadata": {
    "scrolled": true
   },
   "outputs": [
    {
     "data": {
      "image/png": "[encoded data removed]",
      "text/plain": [
       "<Figure size 1080x576 with 1 Axes>"
      ]
     },
     "metadata": {
      "needs_background": "light"
     },
     "output_type": "display_data"
    }
   ],
   "source": [
    "f,ax = plt.subplots(1,1, figsize=(15,8))\n",
    "plt.plot(history_3.history['accuracy'])\n",
    "plt.plot(history_3.history['val_accuracy'],'rs')\n",
    "plt.xlabel('Epochs')\n",
    "plt.ylabel('Accuracy')\n",
    "plt.title('Accuracy Variation during Training')\n",
    "plt.show()"
   ]
  }
 ],
 "metadata": {
  "kernelspec": {
   "display_name": "Python 3",
   "language": "python",
   "name": "python3"
  },
  "language_info": {
   "codemirror_mode": {
    "name": "ipython",
    "version": 3
   },
   "file_extension": ".py",
   "mimetype": "text/x-python",
   "name": "python",
   "nbconvert_exporter": "python",
   "pygments_lexer": "ipython3",
   "version": "3.7.9"
  }
 },
 "nbformat": 4,
 "nbformat_minor": 5
}
