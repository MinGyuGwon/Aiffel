{
 "cells": [
  {
   "cell_type": "markdown",
   "id": "designed-stack",
   "metadata": {},
   "source": [
    "### 8-1. Seq2seq 기반 한영 번역기 만들기"
   ]
  },
  {
   "cell_type": "markdown",
   "id": "joint-offer",
   "metadata": {},
   "source": [
    "###### 한국어 폰트 준비 ( NanumBarunGothic )"
   ]
  },
  {
   "cell_type": "code",
   "execution_count": 73,
   "id": "russian-purple",
   "metadata": {},
   "outputs": [
    {
     "name": "stdout",
     "output_type": "stream",
     "text": [
      "완료!\n"
     ]
    }
   ],
   "source": [
    "import matplotlib as mpl\n",
    "import matplotlib.pyplot as plt\n",
    " \n",
    "%config InlineBackend.figure_format = 'retina'\n",
    " \n",
    "import matplotlib.font_manager as fm\n",
    "fontpath = '/usr/share/fonts/truetype/nanum/NanumBarunGothic.ttf'\n",
    "font = fm.FontProperties(fname=fontpath, size=9)\n",
    "plt.rc('font', family='NanumBarunGothic') \n",
    "mpl.font_manager._rebuild()\n",
    "\n",
    "print(\"완료!\")"
   ]
  },
  {
   "cell_type": "markdown",
   "id": "extra-onion",
   "metadata": {},
   "source": [
    "### 8-2. 데이터 전처리"
   ]
  },
  {
   "cell_type": "markdown",
   "id": "productive-rugby",
   "metadata": {},
   "source": [
    "#### 데이터 준비하기\n",
    "먼저 프로젝트에 사용될 라이브러리를 import 하도록 합시다."
   ]
  },
  {
   "cell_type": "code",
   "execution_count": 74,
   "id": "typical-update",
   "metadata": {},
   "outputs": [
    {
     "name": "stdout",
     "output_type": "stream",
     "text": [
      "2.4.1\n"
     ]
    }
   ],
   "source": [
    "import tensorflow as tf\n",
    "import numpy as np\n",
    "\n",
    "from sklearn.model_selection import train_test_split\n",
    "\n",
    "import matplotlib.ticker as ticker\n",
    "import matplotlib.pyplot as plt\n",
    "\n",
    "import time\n",
    "import re\n",
    "import os\n",
    "import io\n",
    "\n",
    "print(tf.__version__)"
   ]
  },
  {
   "cell_type": "code",
   "execution_count": 75,
   "id": "automotive-aviation",
   "metadata": {},
   "outputs": [
    {
     "data": {
      "text/plain": [
       "'\\n! tar -zxvf ~/aiffel/s2s_translation/korean-english-park.dev.tar.gz\\n! tar -zxvf ~/aiffel/s2s_translation/korean-english-park.test.tar.gz\\n! tar -zxvf ~/aiffel/s2s_translation/korean-english-park.train.tar.gz\\n'"
      ]
     },
     "execution_count": 75,
     "metadata": {},
     "output_type": "execute_result"
    }
   ],
   "source": [
    "# 압축 풀기\n",
    "\n",
    "'''\n",
    "! tar -zxvf ~/aiffel/s2s_translation/korean-english-park.dev.tar.gz\n",
    "! tar -zxvf ~/aiffel/s2s_translation/korean-english-park.test.tar.gz\n",
    "! tar -zxvf ~/aiffel/s2s_translation/korean-english-park.train.tar.gz\n",
    "'''"
   ]
  },
  {
   "cell_type": "code",
   "execution_count": 76,
   "id": "cardiovascular-assumption",
   "metadata": {},
   "outputs": [],
   "source": [
    "train_folder_path = os.getenv('HOME') + '/aiffel/s2s_translation/train/'\n",
    "test_folder_path = os.getenv('HOME') + '/aiffel/s2s_translation/test/'"
   ]
  },
  {
   "cell_type": "code",
   "execution_count": 77,
   "id": "standard-kennedy",
   "metadata": {},
   "outputs": [],
   "source": [
    "train_ko_data_path = train_folder_path + 'korean-english-park.train.ko'\n",
    "train_en_data_path = train_folder_path + 'korean-english-park.train.en'"
   ]
  },
  {
   "cell_type": "code",
   "execution_count": 78,
   "id": "furnished-familiar",
   "metadata": {},
   "outputs": [],
   "source": [
    "with open(train_ko_data_path, 'r') as f:\n",
    "    train_ko_data = f.read().splitlines()\n",
    "    \n",
    "with open(train_en_data_path, 'r') as f:\n",
    "    train_en_data = f.read().splitlines()"
   ]
  },
  {
   "cell_type": "code",
   "execution_count": 79,
   "id": "annual-chair",
   "metadata": {},
   "outputs": [
    {
     "name": "stdout",
     "output_type": "stream",
     "text": [
      "train_ko_data size :  94123\n",
      "train_en_data size :  94123\n"
     ]
    }
   ],
   "source": [
    "print('train_ko_data size : ', len(train_ko_data))\n",
    "print('train_en_data size : ', len(train_en_data))"
   ]
  },
  {
   "cell_type": "code",
   "execution_count": 80,
   "id": "elect-valve",
   "metadata": {},
   "outputs": [
    {
     "name": "stdout",
     "output_type": "stream",
     "text": [
      ">>  개인용 컴퓨터 사용의 상당 부분은 \"이것보다 뛰어날 수 있느냐?\"\n",
      ">>  Much of personal computing is about \"can you top this?\" \n",
      "\n",
      ">>  북한의 핵무기 계획을 포기하도록 하려는 압력이 거세지고 있는 가운데, 일본과 북한의 외교관들이 외교 관계를 정상화하려는 회담을 재개했다.\n",
      ">>  Amid mounting pressure on North Korea to abandon its nuclear weapons program Japanese and North Korean diplomats have resumed talks on normalizing diplomatic relations. \n",
      "\n",
      ">>  \"경호 로보트가 침입자나 화재를 탐지하기 위해서 개인적으로, 그리고 전문적으로 사용되고 있습니다.\"\n",
      ">>  “Guard robots are used privately and professionally to detect intruders or fire,” Karlsson said. \n",
      "\n",
      ">>  수자원부 당국은 논란이 되고 있고, 막대한 비용이 드는 이 사업에 대해 내년에 건설을 시작할 계획이다.\n",
      ">>  Authorities from the Water Resources Ministry plan to begin construction next year on the controversial and hugely expensive project. \n",
      "\n",
      ">>  또한 근력 운동은 활발하게 걷는 것이나 최소한 20분 동안 뛰는 것과 같은 유산소 활동에서 얻는 운동 효과를 심장과 폐에 주지 않기 때문에, 연구학자들은 근력 운동이 심장에 큰 영향을 미치는지 여부에 대해 논쟁을 해왔다.\n",
      ">>  Researchers also have debated whether weight-training has a big impact on the heart, since it does not give the heart and lungs the kind of workout they get from aerobic activities such as brisk walking or running for at least 20 minutes. \n",
      "\n"
     ]
    }
   ],
   "source": [
    "for i in range(0,100,20):\n",
    "    print('>> ', train_ko_data[i])\n",
    "    print('>> ', train_en_data[i], '\\n')"
   ]
  },
  {
   "cell_type": "markdown",
   "id": "willing-praise",
   "metadata": {},
   "source": [
    "###### 중복 데이터 제거"
   ]
  },
  {
   "cell_type": "code",
   "execution_count": 81,
   "id": "ready-grill",
   "metadata": {},
   "outputs": [],
   "source": [
    "temporal_list = []\n",
    "\n",
    "for i in range(len(train_ko_data)):\n",
    "    temporal_list.append(train_ko_data[i]+' \\t '+ train_en_data[i])"
   ]
  },
  {
   "cell_type": "code",
   "execution_count": 82,
   "id": "polish-appraisal",
   "metadata": {},
   "outputs": [
    {
     "data": {
      "text/plain": [
       "78968"
      ]
     },
     "execution_count": 82,
     "metadata": {},
     "output_type": "execute_result"
    }
   ],
   "source": [
    "cleaned_corpus = list(set(temporal_list))\n",
    "len(cleaned_corpus )"
   ]
  },
  {
   "cell_type": "code",
   "execution_count": 83,
   "id": "homeless-narrow",
   "metadata": {},
   "outputs": [],
   "source": [
    "train_ko = []\n",
    "train_en = []\n",
    "for i in cleaned_corpus:\n",
    "    temp = i.split(' \\t ')\n",
    "    train_ko.append(temp[0])\n",
    "    train_en.append(temp[1])"
   ]
  },
  {
   "cell_type": "markdown",
   "id": "south-thriller",
   "metadata": {},
   "source": [
    "###### 한국어 문장 분포 확인"
   ]
  },
  {
   "cell_type": "code",
   "execution_count": 84,
   "id": "immune-romance",
   "metadata": {},
   "outputs": [
    {
     "name": "stdout",
     "output_type": "stream",
     "text": [
      "문장의 최단 길이: 1\n",
      "문장의 최장 길이: 377\n",
      "문장의 평균 길이: 63\n"
     ]
    },
    {
     "data": {
      "image/png": "[encoded data removed]",
      "text/plain": [
       "<Figure size 432x288 with 1 Axes>"
      ]
     },
     "metadata": {
      "image/png": {
       "height": 265,
       "width": 379
      },
      "needs_background": "light"
     },
     "output_type": "display_data"
    }
   ],
   "source": [
    "min_len = 999\n",
    "max_len = 0\n",
    "sum_len = 0\n",
    "\n",
    "for sen in train_ko:\n",
    "    length = len(sen)\n",
    "    if min_len > length: min_len = length\n",
    "    if max_len < length: max_len = length\n",
    "    sum_len += length\n",
    "\n",
    "print(\"문장의 최단 길이:\", min_len)\n",
    "print(\"문장의 최장 길이:\", max_len)\n",
    "print(\"문장의 평균 길이:\", sum_len // len(train_ko))\n",
    "\n",
    "sentence_length = np.zeros((max_len), dtype=np.int)\n",
    "\n",
    "for sen in train_ko:\n",
    "    sentence_length[len(sen)-1] += 1 # 문장의 길이 별 개수를 담은 Numpy Array\n",
    "\n",
    "plt.bar(range(max_len), sentence_length, width=1.0)\n",
    "plt.title(\"Sentence Length Distribution\")\n",
    "plt.show()"
   ]
  },
  {
   "cell_type": "markdown",
   "id": "departmental-small",
   "metadata": {},
   "source": [
    "###### 영어 문장 분포 확인"
   ]
  },
  {
   "cell_type": "code",
   "execution_count": 85,
   "id": "mediterranean-morocco",
   "metadata": {
    "scrolled": true
   },
   "outputs": [
    {
     "name": "stdout",
     "output_type": "stream",
     "text": [
      "문장의 최단 길이: 1\n",
      "문장의 최장 길이: 605\n",
      "문장의 평균 길이: 133\n"
     ]
    },
    {
     "data": {
      "image/png": "[encoded data removed]",
      "text/plain": [
       "<Figure size 432x288 with 1 Axes>"
      ]
     },
     "metadata": {
      "image/png": {
       "height": 265,
       "width": 373
      },
      "needs_background": "light"
     },
     "output_type": "display_data"
    }
   ],
   "source": [
    "min_len = 999\n",
    "max_len = 0\n",
    "sum_len = 0\n",
    "\n",
    "for sen in train_en:\n",
    "    length = len(sen)\n",
    "    if min_len > length: min_len = length\n",
    "    if max_len < length: max_len = length\n",
    "    sum_len += length\n",
    "\n",
    "print(\"문장의 최단 길이:\", min_len)\n",
    "print(\"문장의 최장 길이:\", max_len)\n",
    "print(\"문장의 평균 길이:\", sum_len // len(train_en))\n",
    "\n",
    "sentence_length = np.zeros((max_len), dtype=np.int)\n",
    "\n",
    "for sen in train_en:\n",
    "    sentence_length[len(sen)-1] += 1 # 문장의 길이 별 개수를 담은 Numpy Array\n",
    "\n",
    "plt.bar(range(max_len), sentence_length, width=1.0)\n",
    "plt.title(\"Sentence Length Distribution\")\n",
    "plt.show()"
   ]
  },
  {
   "cell_type": "markdown",
   "id": "featured-enclosure",
   "metadata": {},
   "source": [
    "#### 데이터 전처리: 정제하기"
   ]
  },
  {
   "cell_type": "code",
   "execution_count": 86,
   "id": "returning-symphony",
   "metadata": {},
   "outputs": [
    {
     "name": "stdout",
     "output_type": "stream",
     "text": [
      "실행\n"
     ]
    }
   ],
   "source": [
    "#정제는 아래 소스를 실행함으로써 진행할 수 있습니다.\n",
    "\n",
    "def preprocess_sentence(sentence, s_token=False, e_token=False,lang = 'KOR'):\n",
    "    sentence = sentence.lower().strip()\n",
    "\n",
    "    sentence = re.sub(r\"([?.!,])\", r\" \\1 \", sentence)\n",
    "    sentence = re.sub(r'[\" \"]+', \" \", sentence)\n",
    "\n",
    "    if lang == 'KOR' :\n",
    "        sentence = re.sub(r\"[^가-힣?.!,]+\", \" \", sentence)\n",
    "        sentence = sentence.strip()\n",
    "        \n",
    "        mecab = Mecab()\n",
    "        sentence = mecab.morphs(sentence)\n",
    "        \n",
    "    elif lang == 'ENG' :\n",
    "        sentence = re.sub(r\"[^a-zA-Z?.!,]+\", \" \", sentence)\n",
    "        sentence = sentence.strip()\n",
    "        if s_token:\n",
    "            sentence = '<start> ' + sentence\n",
    "        if e_token:\n",
    "            sentence += ' <end>'\n",
    "        sentence = sentence.split()\n",
    "    return sentence\n",
    "\n",
    "print(\"실행\")"
   ]
  },
  {
   "cell_type": "markdown",
   "id": "minor-thong",
   "metadata": {},
   "source": [
    "###### 토큰의 길이가 30 이하인 데이터로 코퍼스 구축"
   ]
  },
  {
   "cell_type": "code",
   "execution_count": 87,
   "id": "further-balloon",
   "metadata": {},
   "outputs": [],
   "source": [
    "enc_corpus = []\n",
    "dec_corpus = []\n",
    "\n",
    "for pair in cleaned_corpus:\n",
    "    kor, eng = pair.split(\" \\t \")\n",
    "    if len(kor.split()) <= 20 & len(eng.split())<= 20: \n",
    "        enc_corpus.append(preprocess_sentence(kor, lang = 'KOR'))\n",
    "        dec_corpus.append(preprocess_sentence(eng, s_token=True, e_token=True, lang= 'ENG'))"
   ]
  },
  {
   "cell_type": "markdown",
   "id": "parliamentary-retrieval",
   "metadata": {},
   "source": [
    "###### 데이터 토큰화"
   ]
  },
  {
   "cell_type": "code",
   "execution_count": 88,
   "id": "activated-lobby",
   "metadata": {},
   "outputs": [],
   "source": [
    "def tokenize(corpus):\n",
    "    tokenizer = tf.keras.preprocessing.text.Tokenizer(num_words=15000, filters='', oov_token=\"<unk>\")\n",
    "    tokenizer.fit_on_texts(corpus)\n",
    "    \n",
    "    tensor = tokenizer.texts_to_sequences(corpus)\n",
    "    tensor = tf.keras.preprocessing.sequence.pad_sequences(tensor, padding='post')\n",
    "    \n",
    "    return tensor, tokenizer"
   ]
  },
  {
   "cell_type": "code",
   "execution_count": 89,
   "id": "breathing-kentucky",
   "metadata": {},
   "outputs": [],
   "source": [
    "enc_tensor, enc_tokenizer = tokenize(enc_corpus)\n",
    "dec_tensor, dec_tokenizer = tokenize(dec_corpus)"
   ]
  },
  {
   "cell_type": "code",
   "execution_count": 90,
   "id": "suited-evaluation",
   "metadata": {},
   "outputs": [
    {
     "data": {
      "text/plain": [
       "(30237, 30237)"
      ]
     },
     "execution_count": 90,
     "metadata": {},
     "output_type": "execute_result"
    }
   ],
   "source": [
    "len(enc_tokenizer.index_word), len(enc_tokenizer.index_word)"
   ]
  },
  {
   "cell_type": "code",
   "execution_count": 91,
   "id": "hungarian-albuquerque",
   "metadata": {},
   "outputs": [
    {
     "data": {
      "text/plain": [
       "array([13939,   868,     7,   329,     4,  8736,   261,     2,     0,\n",
       "           0,     0,     0,     0,     0,     0,     0,     0,     0,\n",
       "           0,     0,     0,     0,     0,     0,     0,     0,     0,\n",
       "           0,     0,     0,     0,     0,     0,     0,     0,     0,\n",
       "           0,     0,     0,     0,     0,     0,     0,     0,     0,\n",
       "           0,     0,     0,     0,     0,     0,     0,     0,     0],\n",
       "      dtype=int32)"
      ]
     },
     "execution_count": 91,
     "metadata": {},
     "output_type": "execute_result"
    }
   ],
   "source": [
    "enc_tensor[0]"
   ]
  },
  {
   "cell_type": "code",
   "execution_count": 92,
   "id": "changed-literacy",
   "metadata": {},
   "outputs": [
    {
     "data": {
      "text/plain": [
       "array([    5,  6842, 10238,    10,  1895,    12,  2091,   276,     3,\n",
       "           6,     0,     0,     0,     0,     0,     0,     0,     0,\n",
       "           0,     0,     0,     0,     0,     0,     0,     0,     0,\n",
       "           0,     0,     0,     0,     0,     0,     0,     0,     0,\n",
       "           0,     0,     0,     0,     0,     0,     0,     0,     0,\n",
       "           0,     0,     0,     0,     0,     0,     0,     0,     0,\n",
       "           0,     0,     0,     0,     0,     0,     0,     0,     0,\n",
       "           0,     0,     0,     0,     0,     0,     0,     0,     0,\n",
       "           0], dtype=int32)"
      ]
     },
     "execution_count": 92,
     "metadata": {},
     "output_type": "execute_result"
    }
   ],
   "source": [
    "dec_tensor[0]"
   ]
  },
  {
   "attachments": {},
   "cell_type": "markdown",
   "id": "desirable-certification",
   "metadata": {},
   "source": [
    "### 8-3. 모델 설계"
   ]
  },
  {
   "cell_type": "code",
   "execution_count": 93,
   "id": "medical-enhancement",
   "metadata": {},
   "outputs": [
    {
     "name": "stdout",
     "output_type": "stream",
     "text": [
      "슝~\n"
     ]
    }
   ],
   "source": [
    "class BahdanauAttention(tf.keras.layers.Layer):\n",
    "    def __init__(self, units):\n",
    "        super(BahdanauAttention, self).__init__()\n",
    "        self.w_dec = tf.keras.layers.Dense(units)\n",
    "        self.w_enc = tf.keras.layers.Dense(units)\n",
    "        self.w_com = tf.keras.layers.Dense(1)\n",
    "    \n",
    "    def call(self, h_enc, h_dec):\n",
    "        # h_enc shape: [batch x length x units]\n",
    "        # h_dec shape: [batch x units]\n",
    "\n",
    "        h_enc = self.w_enc(h_enc)\n",
    "        h_dec = tf.expand_dims(h_dec, 1)\n",
    "        h_dec = self.w_dec(h_dec)\n",
    "\n",
    "        score = self.w_com(tf.nn.tanh(h_dec + h_enc))\n",
    "        \n",
    "        attn = tf.nn.softmax(score, axis=1)\n",
    "\n",
    "        context_vec = attn * h_enc\n",
    "        context_vec = tf.reduce_sum(context_vec, axis=1)\n",
    "\n",
    "        return context_vec, attn\n",
    "\n",
    "print(\"슝~\")"
   ]
  },
  {
   "cell_type": "markdown",
   "id": "informational-entertainment",
   "metadata": {},
   "source": [
    "위 그림과 동일한 구조를 갖는 Encoder 클래스와 Decoder 클래스를 설계하고, 아래 소스를 실행해 답안과 같은 결과를 얻으세요."
   ]
  },
  {
   "cell_type": "code",
   "execution_count": 94,
   "id": "compatible-margin",
   "metadata": {},
   "outputs": [],
   "source": [
    "class Encoder(tf.keras.Model):\n",
    "    def __init__(self, vocab_size, embedding_dim, enc_units):\n",
    "        super(Encoder, self).__init__()\n",
    "        \n",
    "        self.enc_units = enc_units\n",
    "        self.embedding = tf.keras.layers.Embedding(vocab_size, embedding_dim)\n",
    "        self.gru = tf.keras.layers.GRU(enc_units,\n",
    "                                       return_sequences=True)\n",
    "        \n",
    "    def call(self, x):\n",
    "        out = self.embedding(x)\n",
    "        out = self.gru(out)\n",
    "        \n",
    "        return out"
   ]
  },
  {
   "cell_type": "code",
   "execution_count": 95,
   "id": "compact-range",
   "metadata": {},
   "outputs": [],
   "source": [
    "class Decoder(tf.keras.Model):\n",
    "    def __init__(self, vocab_size, embedding_dim, dec_units):\n",
    "        super(Decoder, self).__init__()\n",
    "        self.dec_units = dec_units\n",
    "        self.embedding = tf.keras.layers.Embedding(vocab_size, embedding_dim)\n",
    "        self.gru = tf.keras.layers.GRU(dec_units,\n",
    "                                       return_sequences=True,\n",
    "                                       return_state=True)\n",
    "        self.fc = tf.keras.layers.Dense(vocab_size)\n",
    "\n",
    "        self.attention = BahdanauAttention(self.dec_units)\n",
    "\n",
    "    def call(self, x, h_dec, enc_out):\n",
    "        context_vec, attn = self.attention(enc_out, h_dec)\n",
    "\n",
    "        out = self.embedding(x)\n",
    "        out = tf.concat([tf.expand_dims(context_vec, 1), out], axis=-1)\n",
    "        \n",
    "        out, h_dec = self.gru(out)\n",
    "        out = tf.reshape(out, (-1, out.shape[2]))\n",
    "        out = self.fc(out)\n",
    "\n",
    "        return out, h_dec, attn"
   ]
  },
  {
   "cell_type": "code",
   "execution_count": 96,
   "id": "smaller-memphis",
   "metadata": {},
   "outputs": [
    {
     "name": "stdout",
     "output_type": "stream",
     "text": [
      "Encoder Output: (128, 30, 512)\n",
      "Decoder Output: (128, 31843)\n",
      "Decoder Hidden State: (128, 512)\n",
      "Attention: (128, 30, 1)\n"
     ]
    }
   ],
   "source": [
    "# 코드를 실행하세요.\n",
    "\n",
    "BATCH_SIZE     = 128\n",
    "SRC_VOCAB_SIZE = len(enc_tokenizer.index_word) + 1\n",
    "TGT_VOCAB_SIZE = len(dec_tokenizer.index_word) + 1\n",
    "\n",
    "units         = 512\n",
    "embedding_dim = 256\n",
    "\n",
    "encoder = Encoder(SRC_VOCAB_SIZE, embedding_dim, units)\n",
    "decoder = Decoder(TGT_VOCAB_SIZE, embedding_dim, units)\n",
    "\n",
    "# sample input\n",
    "sequence_len = 30\n",
    "\n",
    "sample_enc = tf.random.uniform((BATCH_SIZE, sequence_len))\n",
    "sample_output = encoder(sample_enc)\n",
    "\n",
    "print ('Encoder Output:', sample_output.shape)\n",
    "\n",
    "sample_state = tf.random.uniform((BATCH_SIZE, units))\n",
    "\n",
    "sample_logits, h_dec, attn = decoder(tf.random.uniform((BATCH_SIZE, 1)),\n",
    "                                     sample_state, sample_output)\n",
    "\n",
    "print ('Decoder Output:', sample_logits.shape)\n",
    "print ('Decoder Hidden State:', h_dec.shape)\n",
    "print ('Attention:', attn.shape)"
   ]
  },
  {
   "cell_type": "markdown",
   "id": "practical-talent",
   "metadata": {},
   "source": [
    "### 8-4. 훈련하기 (1) Optimizer & Loss"
   ]
  },
  {
   "cell_type": "markdown",
   "id": "southeast-responsibility",
   "metadata": {},
   "source": [
    "#### Optimizer & Loss"
   ]
  },
  {
   "cell_type": "code",
   "execution_count": 97,
   "id": "similar-instrumentation",
   "metadata": {},
   "outputs": [
    {
     "name": "stdout",
     "output_type": "stream",
     "text": [
      "완료\n"
     ]
    }
   ],
   "source": [
    "optimizer = tf.keras.optimizers.Adam()\n",
    "loss_object = tf.keras.losses.SparseCategoricalCrossentropy(\n",
    "    from_logits=True, reduction='none')\n",
    "\n",
    "def loss_function(real, pred):\n",
    "    mask = tf.math.logical_not(tf.math.equal(real, 0)) # 0인 경우,False, 0이 아닌 경우, True \n",
    "    loss = loss_object(real, pred) # ???\n",
    "    \n",
    "    mask = tf.cast(mask, dtype=loss.dtype) # loss와 동일한 데이터타입으로 변환\n",
    "    loss *= mask # loss에 mask를 더해주는 것의 의미는?\n",
    "    \n",
    "    return tf.reduce_mean(loss) # axis가 따로 설정 안되어있다면, None이고, 이는 모든 차원을 축소시킨다. \n",
    "                                 # tf.reduce_mean을 사용할때는 dtype을 유의하도록 하자 \n",
    "print(\"완료\")"
   ]
  },
  {
   "cell_type": "markdown",
   "id": "organic-smoke",
   "metadata": {},
   "source": [
    "### 8-5. 훈련하기 (2) train_step 구현하기\n",
    "\n",
    "train_step()은 학습에 필요한 것을 모두 가져가 Loss를 계산한 후 반환하는 함수입니다."
   ]
  },
  {
   "cell_type": "code",
   "execution_count": 98,
   "id": "abroad-success",
   "metadata": {},
   "outputs": [],
   "source": [
    "@tf.function\n",
    "def train_step(src, tgt, encoder, decoder, optimizer, dec_tok):\n",
    "    bsz = src.shape[0]\n",
    "    loss = 0\n",
    "\n",
    "    with tf.GradientTape() as tape:\n",
    "        enc_out = encoder(src)\n",
    "        h_dec = enc_out[:, -1]\n",
    "        \n",
    "        dec_src = tf.expand_dims([dec_tok.word_index['<start>']] * bsz, 1)\n",
    "\n",
    "        for t in range(1, tgt.shape[1]):\n",
    "            pred, h_dec, _ = decoder(dec_src, h_dec, enc_out)\n",
    "\n",
    "            loss += loss_function(tgt[:, t], pred)\n",
    "            dec_src = tf.expand_dims(tgt[:, t], 1)\n",
    "        \n",
    "    batch_loss = (loss / int(tgt.shape[1]))\n",
    "\n",
    "    variables = encoder.trainable_variables + decoder.trainable_variables\n",
    "    gradients = tape.gradient(loss, variables)\n",
    "    optimizer.apply_gradients(zip(gradients, variables))\n",
    "    \n",
    "    return batch_loss"
   ]
  },
  {
   "cell_type": "markdown",
   "id": "foster-officer",
   "metadata": {},
   "source": [
    "### 8-6. 훈련하기 (3) 훈련 시작하기"
   ]
  },
  {
   "cell_type": "code",
   "execution_count": 99,
   "id": "funny-intensity",
   "metadata": {},
   "outputs": [
    {
     "name": "stderr",
     "output_type": "stream",
     "text": [
      "Epoch  1: 100%|██████████| 273/273 [10:30<00:00,  2.31s/it, Loss 2.3671] \n",
      "Epoch  2: 100%|██████████| 273/273 [08:11<00:00,  1.80s/it, Loss 2.3185]\n",
      "Epoch  3: 100%|██████████| 273/273 [08:19<00:00,  1.83s/it, Loss 2.3182]\n",
      "Epoch  4: 100%|██████████| 273/273 [08:18<00:00,  1.82s/it, Loss 2.3185]\n",
      "Epoch  5: 100%|██████████| 273/273 [08:17<00:00,  1.82s/it, Loss 2.3182]\n",
      "Epoch  6: 100%|██████████| 273/273 [08:17<00:00,  1.82s/it, Loss 2.3184]\n",
      "Epoch  7: 100%|██████████| 273/273 [08:15<00:00,  1.81s/it, Loss 2.3183]\n",
      "Epoch  8: 100%|██████████| 273/273 [08:15<00:00,  1.81s/it, Loss 2.3184]\n",
      "Epoch  9: 100%|██████████| 273/273 [08:17<00:00,  1.82s/it, Loss 2.3185]\n",
      "Epoch 10: 100%|██████████| 273/273 [08:16<00:00,  1.82s/it, Loss 2.3183]\n",
      "Epoch 11: 100%|██████████| 273/273 [08:15<00:00,  1.82s/it, Loss 2.3184]\n",
      "Epoch 12: 100%|██████████| 273/273 [08:15<00:00,  1.81s/it, Loss 2.3185]\n",
      "Epoch 13: 100%|██████████| 273/273 [08:16<00:00,  1.82s/it, Loss 2.3186]\n",
      "Epoch 14: 100%|██████████| 273/273 [08:15<00:00,  1.82s/it, Loss 2.3187]\n",
      "Epoch 15: 100%|██████████| 273/273 [08:18<00:00,  1.83s/it, Loss 2.3183]\n",
      "Epoch 16: 100%|██████████| 273/273 [08:14<00:00,  1.81s/it, Loss 2.3181]\n",
      "Epoch 17: 100%|██████████| 273/273 [08:16<00:00,  1.82s/it, Loss 2.3186]\n",
      "Epoch 18: 100%|██████████| 273/273 [08:15<00:00,  1.81s/it, Loss 2.3184]\n",
      "Epoch 19: 100%|██████████| 273/273 [08:15<00:00,  1.82s/it, Loss 2.3186]\n",
      "Epoch 20: 100%|██████████| 273/273 [08:17<00:00,  1.82s/it, Loss 2.3185]\n"
     ]
    }
   ],
   "source": [
    "from tqdm import tqdm    # tqdm\n",
    "import random\n",
    "\n",
    "EPOCHS = 20\n",
    "\n",
    "for epoch in range(EPOCHS):\n",
    "    total_loss = 0\n",
    "    \n",
    "    idx_list = list(range(0, enc_tensor.shape[0], BATCH_SIZE))\n",
    "    random.shuffle(idx_list)\n",
    "    t = tqdm(idx_list)    # tqdm\n",
    "\n",
    "    for (batch, idx) in enumerate(t):\n",
    "        batch_loss = train_step(enc_tensor[idx:idx+BATCH_SIZE],\n",
    "                                dec_tensor[idx:idx+BATCH_SIZE],\n",
    "                                encoder,\n",
    "                                decoder,\n",
    "                                optimizer,\n",
    "                                dec_tokenizer)\n",
    "    \n",
    "        total_loss += batch_loss\n",
    "        \n",
    "        t.set_description_str('Epoch %2d' % (epoch + 1))    # tqdm\n",
    "        t.set_postfix_str('Loss %.4f' % (total_loss.numpy() / (batch + 1)))    # tqdm"
   ]
  },
  {
   "cell_type": "code",
   "execution_count": 113,
   "id": "breathing-dominant",
   "metadata": {},
   "outputs": [],
   "source": [
    "def evaluate(sentence, encoder, decoder):\n",
    "    attention = np.zeros((dec_tensor.shape[-1], enc_tensor.shape[-1]))\n",
    "    \n",
    "    sentence = preprocess_sentence(sentence)\n",
    "    inputs = enc_tokenizer.texts_to_sequences([sentence])\n",
    "    inputs = tf.keras.preprocessing.sequence.pad_sequences(inputs,\n",
    "                                                           maxlen=enc_tensor.shape[-1],\n",
    "                                                           padding='post')\n",
    "\n",
    "    result = ''\n",
    "\n",
    "    enc_out = encoder(inputs)\n",
    "\n",
    "    dec_hidden = enc_out[:, -1]\n",
    "    dec_input = tf.expand_dims([dec_tokenizer.word_index['<start>']], 0)\n",
    "\n",
    "    for t in range(dec_tensor.shape[-1]):\n",
    "        predictions, dec_hidden, attention_weights = decoder(dec_input,\n",
    "                                                             dec_hidden,\n",
    "                                                             enc_out)\n",
    "\n",
    "        attention_weights = tf.reshape(attention_weights, (-1, ))\n",
    "        attention[t] = attention_weights.numpy()\n",
    "\n",
    "        predicted_id = \\\n",
    "        tf.argmax(tf.math.softmax(predictions, axis=-1)[0]).numpy()\n",
    "\n",
    "        result += dec_tokenizer.index_word[predicted_id] + ' '\n",
    "\n",
    "        if dec_tokenizer.index_word[predicted_id] == '<end>':\n",
    "            return result, sentence, attention\n",
    "\n",
    "        dec_input = tf.expand_dims([predicted_id], 0)\n",
    "\n",
    "    return result, sentence, attention\n",
    "\n",
    "\n",
    "def plot_attention(attention, sentence, predicted_sentence):\n",
    "    fig = plt.figure(figsize=(10,10))\n",
    "    ax = fig.add_subplot(1, 1, 1)\n",
    "    ax.matshow(attention, cmap='viridis')\n",
    "\n",
    "    fontdict = {'fontsize': 14}\n",
    "\n",
    "    ax.set_xticklabels([''] + sentence, fontdict=fontdict, rotation=90)\n",
    "    ax.set_yticklabels([''] + predicted_sentence, fontdict=fontdict)\n",
    "\n",
    "    ax.xaxis.set_major_locator(ticker.MultipleLocator(1))\n",
    "    ax.yaxis.set_major_locator(ticker.MultipleLocator(1))\n",
    "\n",
    "    plt.show()\n",
    "\n",
    "\n",
    "def translate(sentence, encoder, decoder):\n",
    "    result, sentence, attention = evaluate(sentence, encoder, decoder)\n",
    "\n",
    "    print('Input: %s' % (sentence))\n",
    "    print('Predicted translation: {}'.format(result))\n",
    "    \n",
    "    attention = attention[:len(result.split()), :len(sentence)]\n",
    "    plot_attention(attention, sentence, result.split(' '))"
   ]
  },
  {
   "cell_type": "code",
   "execution_count": 115,
   "id": "described-killer",
   "metadata": {},
   "outputs": [
    {
     "name": "stdout",
     "output_type": "stream",
     "text": [
      "Input: ['미국', '과', '중국', '사이', '에', '전쟁', '이', '벌어졌', '다', '.']\n",
      "Predicted translation: the the the the the the the the the the the the the the the the the the the the the the the the the the the the the the the the the the the the the the the the the the the the the the the the the the the the the the the the the the the the the the the the the the the the the the the the the \n"
     ]
    },
    {
     "name": "stderr",
     "output_type": "stream",
     "text": [
      "/opt/conda/lib/python3.7/site-packages/ipykernel_launcher.py:45: UserWarning: FixedFormatter should only be used together with FixedLocator\n",
      "/opt/conda/lib/python3.7/site-packages/ipykernel_launcher.py:46: UserWarning: FixedFormatter should only be used together with FixedLocator\n"
     ]
    },
    {
     "data": {
      "image/png": "[encoded data removed]",
      "text/plain": [
       "<Figure size 720x720 with 1 Axes>"
      ]
     },
     "metadata": {
      "image/png": {
       "height": 608,
       "width": 120
      },
      "needs_background": "light"
     },
     "output_type": "display_data"
    }
   ],
   "source": [
    "translate(\"미국과 중국 사이에 전쟁이 벌어졌다.\", encoder, decoder)"
   ]
  },
  {
   "cell_type": "code",
   "execution_count": 116,
   "id": "adequate-norman",
   "metadata": {},
   "outputs": [
    {
     "name": "stdout",
     "output_type": "stream",
     "text": [
      "Input: ['경호', '로보트', '가', '화재', '를', '막', '기', '위해', '사용', '되', '고', '있', '다', '.']\n",
      "Predicted translation: the the the the the the the the the the the the the the the the the the the the the the the the the the the the the the the the the the the the the the the the the the the the the the the the the the the the the the the the the the the the the the the the the the the the the the the the the \n"
     ]
    },
    {
     "name": "stderr",
     "output_type": "stream",
     "text": [
      "/opt/conda/lib/python3.7/site-packages/ipykernel_launcher.py:45: UserWarning: FixedFormatter should only be used together with FixedLocator\n",
      "/opt/conda/lib/python3.7/site-packages/ipykernel_launcher.py:46: UserWarning: FixedFormatter should only be used together with FixedLocator\n"
     ]
    },
    {
     "data": {
      "image/png": "[encoded data removed]",
      "text/plain": [
       "<Figure size 720x720 with 1 Axes>"
      ]
     },
     "metadata": {
      "image/png": {
       "height": 608,
       "width": 150
      },
      "needs_background": "light"
     },
     "output_type": "display_data"
    }
   ],
   "source": [
    "translate(\"경호 로보트가 화재를 막기 위해 사용되고 있다.\", encoder, decoder)"
   ]
  },
  {
   "cell_type": "markdown",
   "id": "double-acquisition",
   "metadata": {},
   "source": [
    "#### 회고록\n",
    "\n",
    "결과가 좋지 못하다. \n",
    "여러 하이퍼파라미터 튜닝을 시도해보고 싶었지만, resource 관련된 error로 인해, 하이퍼 파라미터 튜닝이라기보다는 weight의 개수를 줄이는 시도를 했던 것 같다. 컴퓨팅 능력의 필요성과 컴퓨팅을 효율적으로 하기 위한 알고리즘의 필요성을 더욱 느낀 하루다"
   ]
  }
 ],
 "metadata": {
  "kernelspec": {
   "display_name": "Python 3",
   "language": "python",
   "name": "python3"
  },
  "language_info": {
   "codemirror_mode": {
    "name": "ipython",
    "version": 3
   },
   "file_extension": ".py",
   "mimetype": "text/x-python",
   "name": "python",
   "nbconvert_exporter": "python",
   "pygments_lexer": "ipython3",
   "version": "3.7.9"
  }
 },
 "nbformat": 4,
 "nbformat_minor": 5
}
