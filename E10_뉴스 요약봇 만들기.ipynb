{
 "cells": [
  {
   "cell_type": "markdown",
   "id": "worst-tuesday",
   "metadata": {},
   "source": [
    "#  프로젝트"
   ]
  },
  {
   "cell_type": "markdown",
   "id": "dramatic-interpretation",
   "metadata": {},
   "source": [
    "###### 사전 준비 "
   ]
  },
  {
   "cell_type": "code",
   "execution_count": 22,
   "id": "sealed-productivity",
   "metadata": {},
   "outputs": [
    {
     "name": "stderr",
     "output_type": "stream",
     "text": [
      "[nltk_data] Downloading package stopwords to /aiffel/nltk_data...\n",
      "[nltk_data]   Unzipping corpora/stopwords.zip.\n"
     ]
    }
   ],
   "source": [
    "import nltk\n",
    "nltk.download('stopwords')\n",
    "\n",
    "import numpy as np\n",
    "import pandas as pd\n",
    "import os\n",
    "import re\n",
    "import matplotlib.pyplot as plt\n",
    "from nltk.corpus import stopwords\n",
    "from bs4 import BeautifulSoup \n",
    "from tensorflow.keras.preprocessing.text import Tokenizer \n",
    "from tensorflow.keras.preprocessing.sequence import pad_sequences\n",
    "import urllib.request"
   ]
  },
  {
   "cell_type": "code",
   "execution_count": 23,
   "id": "accurate-newcastle",
   "metadata": {},
   "outputs": [],
   "source": [
    "urllib.request.urlretrieve(\"https://raw.githubusercontent.com/sunnysai12345/News_Summary/master/news_summary_more.csv\", filename=\"news_summary_more.csv\")\n",
    "data = pd.read_csv('news_summary_more.csv', encoding='iso-8859-1')"
   ]
  },
  {
   "cell_type": "code",
   "execution_count": 24,
   "id": "textile-desktop",
   "metadata": {},
   "outputs": [
    {
     "data": {
      "text/plain": [
       "(98401, 2)"
      ]
     },
     "execution_count": 24,
     "metadata": {},
     "output_type": "execute_result"
    }
   ],
   "source": [
    "# 데이터 형태 확인\n",
    "data.shape"
   ]
  },
  {
   "cell_type": "code",
   "execution_count": 25,
   "id": "legendary-kansas",
   "metadata": {},
   "outputs": [
    {
     "data": {
      "text/html": [
       "<div>\n",
       "<style scoped>\n",
       "    .dataframe tbody tr th:only-of-type {\n",
       "        vertical-align: middle;\n",
       "    }\n",
       "\n",
       "    .dataframe tbody tr th {\n",
       "        vertical-align: top;\n",
       "    }\n",
       "\n",
       "    .dataframe thead th {\n",
       "        text-align: right;\n",
       "    }\n",
       "</style>\n",
       "<table border=\"1\" class=\"dataframe\">\n",
       "  <thead>\n",
       "    <tr style=\"text-align: right;\">\n",
       "      <th></th>\n",
       "      <th>headlines</th>\n",
       "      <th>text</th>\n",
       "    </tr>\n",
       "  </thead>\n",
       "  <tbody>\n",
       "    <tr>\n",
       "      <th>50607</th>\n",
       "      <td>Uber to launch bike service in Amritsar and Ka...</td>\n",
       "      <td>Ride-hailing startup Uber is planning to launc...</td>\n",
       "    </tr>\n",
       "    <tr>\n",
       "      <th>82548</th>\n",
       "      <td>It's like wine: Dhoni on getting better with age</td>\n",
       "      <td>Following his knock of 78*(79) against Windies...</td>\n",
       "    </tr>\n",
       "    <tr>\n",
       "      <th>84087</th>\n",
       "      <td>84% Indians want Yoga in school curriculum: In...</td>\n",
       "      <td>On International Yoga Day, a poll by Inshorts ...</td>\n",
       "    </tr>\n",
       "    <tr>\n",
       "      <th>16886</th>\n",
       "      <td>China imposes retaliatory tariffs on $60 bn of...</td>\n",
       "      <td>China on Tuesday announced tariffs on US goods...</td>\n",
       "    </tr>\n",
       "    <tr>\n",
       "      <th>60274</th>\n",
       "      <td>Odisha teen jumps off ambulance after driver a...</td>\n",
       "      <td>A 19-year-old girl jumped off a moving ambulan...</td>\n",
       "    </tr>\n",
       "    <tr>\n",
       "      <th>68797</th>\n",
       "      <td>Arvind Subramanian's term as CEA extended for ...</td>\n",
       "      <td>The government has extended the term of Chief ...</td>\n",
       "    </tr>\n",
       "    <tr>\n",
       "      <th>27506</th>\n",
       "      <td>Collapsed Mumbai bridge cleared safety audit i...</td>\n",
       "      <td>The overbridge that collapsed on Tuesday injur...</td>\n",
       "    </tr>\n",
       "    <tr>\n",
       "      <th>43108</th>\n",
       "      <td>Chahal no. 2 in T20I rankings, Sundar jumps 15...</td>\n",
       "      <td>Indian leg-spinner Yuzvendra Chahal has jumped...</td>\n",
       "    </tr>\n",
       "    <tr>\n",
       "      <th>65109</th>\n",
       "      <td>3 killed, 2 injured in shooting in US state of...</td>\n",
       "      <td>At least three people were killed and two othe...</td>\n",
       "    </tr>\n",
       "    <tr>\n",
       "      <th>6930</th>\n",
       "      <td>Robert Vadra is the fountainhead of corruption...</td>\n",
       "      <td>BJP spokesperson Sambit Patra on Saturday call...</td>\n",
       "    </tr>\n",
       "  </tbody>\n",
       "</table>\n",
       "</div>"
      ],
      "text/plain": [
       "                                               headlines  \\\n",
       "50607  Uber to launch bike service in Amritsar and Ka...   \n",
       "82548   It's like wine: Dhoni on getting better with age   \n",
       "84087  84% Indians want Yoga in school curriculum: In...   \n",
       "16886  China imposes retaliatory tariffs on $60 bn of...   \n",
       "60274  Odisha teen jumps off ambulance after driver a...   \n",
       "68797  Arvind Subramanian's term as CEA extended for ...   \n",
       "27506  Collapsed Mumbai bridge cleared safety audit i...   \n",
       "43108  Chahal no. 2 in T20I rankings, Sundar jumps 15...   \n",
       "65109  3 killed, 2 injured in shooting in US state of...   \n",
       "6930   Robert Vadra is the fountainhead of corruption...   \n",
       "\n",
       "                                                    text  \n",
       "50607  Ride-hailing startup Uber is planning to launc...  \n",
       "82548  Following his knock of 78*(79) against Windies...  \n",
       "84087  On International Yoga Day, a poll by Inshorts ...  \n",
       "16886  China on Tuesday announced tariffs on US goods...  \n",
       "60274  A 19-year-old girl jumped off a moving ambulan...  \n",
       "68797  The government has extended the term of Chief ...  \n",
       "27506  The overbridge that collapsed on Tuesday injur...  \n",
       "43108  Indian leg-spinner Yuzvendra Chahal has jumped...  \n",
       "65109  At least three people were killed and two othe...  \n",
       "6930   BJP spokesperson Sambit Patra on Saturday call...  "
      ]
     },
     "execution_count": 25,
     "metadata": {},
     "output_type": "execute_result"
    }
   ],
   "source": [
    "# 데이터 일부 확인\n",
    "data.sample(10)"
   ]
  },
  {
   "cell_type": "markdown",
   "id": "warming-track",
   "metadata": {},
   "source": [
    "### 데이터 전처리 1단계"
   ]
  },
  {
   "cell_type": "markdown",
   "id": "imposed-belize",
   "metadata": {},
   "source": [
    "###  중복 데이터 확인"
   ]
  },
  {
   "cell_type": "markdown",
   "id": "european-astronomy",
   "metadata": {},
   "source": [
    "######  'text' 열"
   ]
  },
  {
   "cell_type": "code",
   "execution_count": 26,
   "id": "continuing-chile",
   "metadata": {},
   "outputs": [
    {
     "data": {
      "text/plain": [
       "98401"
      ]
     },
     "execution_count": 26,
     "metadata": {},
     "output_type": "execute_result"
    }
   ],
   "source": [
    "# text열 데이터의 총 개수\n",
    "len(data.text)"
   ]
  },
  {
   "cell_type": "code",
   "execution_count": 27,
   "id": "acoustic-netscape",
   "metadata": {},
   "outputs": [
    {
     "data": {
      "text/plain": [
       "98360"
      ]
     },
     "execution_count": 27,
     "metadata": {},
     "output_type": "execute_result"
    }
   ],
   "source": [
    "# text열의 고유한 데이터의 개수\n",
    "data.text.nunique()"
   ]
  },
  {
   "cell_type": "code",
   "execution_count": 28,
   "id": "assigned-coach",
   "metadata": {
    "scrolled": true
   },
   "outputs": [
    {
     "name": "stdout",
     "output_type": "stream",
     "text": [
      "text 열에는 41개의 중복 데이터가 있습니다\n"
     ]
    }
   ],
   "source": [
    "print(f\"text 열에는 {len(data.text)-data.text.nunique()}개의 중복 데이터가 있습니다\")"
   ]
  },
  {
   "cell_type": "code",
   "execution_count": 29,
   "id": "gothic-rings",
   "metadata": {},
   "outputs": [],
   "source": [
    "# 중복된 데이터를 제거하겠습니다.\n",
    "data.drop_duplicates(subset = ['text'], inplace = True)"
   ]
  },
  {
   "cell_type": "code",
   "execution_count": 30,
   "id": "competent-nerve",
   "metadata": {},
   "outputs": [
    {
     "name": "stdout",
     "output_type": "stream",
     "text": [
      "text 열에는 0개의 중복 데이터가 있습니다\n"
     ]
    }
   ],
   "source": [
    "# 결과 확인 \n",
    "print(f\"text 열에는 {len(data.text)-data.text.nunique()}개의 중복 데이터가 있습니다\")"
   ]
  },
  {
   "cell_type": "markdown",
   "id": "apparent-packing",
   "metadata": {},
   "source": [
    "######  'headlines' 열"
   ]
  },
  {
   "cell_type": "code",
   "execution_count": 31,
   "id": "established-retail",
   "metadata": {
    "scrolled": false
   },
   "outputs": [
    {
     "name": "stdout",
     "output_type": "stream",
     "text": [
      "headlines 열에는 98개의 중복 데이터가 있습니다\n"
     ]
    }
   ],
   "source": [
    "print(f\"headlines 열에는 {len(data.headlines)-data.headlines.nunique()}개의 중복 데이터가 있습니다\")"
   ]
  },
  {
   "cell_type": "code",
   "execution_count": 32,
   "id": "composite-bouquet",
   "metadata": {},
   "outputs": [],
   "source": [
    "# 중복된 데이터를 제거하겠습니다.\n",
    "data.drop_duplicates(subset = ['headlines'], inplace = True)"
   ]
  },
  {
   "cell_type": "code",
   "execution_count": 33,
   "id": "pending-bulgarian",
   "metadata": {
    "scrolled": true
   },
   "outputs": [
    {
     "name": "stdout",
     "output_type": "stream",
     "text": [
      "headlines 열에는 0개의 중복 데이터가 있습니다\n"
     ]
    }
   ],
   "source": [
    "print(f\"headlines 열에는 {len(data.headlines)-data.headlines.nunique()}개의 중복 데이터가 있습니다\")"
   ]
  },
  {
   "cell_type": "markdown",
   "id": "small-fetish",
   "metadata": {},
   "source": [
    "### 결측치 확인 "
   ]
  },
  {
   "cell_type": "code",
   "execution_count": 34,
   "id": "instructional-assessment",
   "metadata": {
    "scrolled": true
   },
   "outputs": [
    {
     "data": {
      "text/plain": [
       "headlines    0\n",
       "text         0\n",
       "dtype: int64"
      ]
     },
     "execution_count": 34,
     "metadata": {},
     "output_type": "execute_result"
    }
   ],
   "source": [
    "data.isnull().sum()"
   ]
  },
  {
   "cell_type": "markdown",
   "id": "stable-canvas",
   "metadata": {},
   "source": [
    "### 중복 및 결측치 제거 데이터 확인"
   ]
  },
  {
   "cell_type": "code",
   "execution_count": 35,
   "id": "serious-program",
   "metadata": {
    "scrolled": true
   },
   "outputs": [],
   "source": [
    "data = data.reset_index()"
   ]
  },
  {
   "cell_type": "code",
   "execution_count": 37,
   "id": "found-stranger",
   "metadata": {},
   "outputs": [],
   "source": [
    "data.drop('index', axis = 1, inplace= True)"
   ]
  },
  {
   "cell_type": "code",
   "execution_count": 38,
   "id": "natural-traffic",
   "metadata": {},
   "outputs": [
    {
     "data": {
      "text/html": [
       "<div>\n",
       "<style scoped>\n",
       "    .dataframe tbody tr th:only-of-type {\n",
       "        vertical-align: middle;\n",
       "    }\n",
       "\n",
       "    .dataframe tbody tr th {\n",
       "        vertical-align: top;\n",
       "    }\n",
       "\n",
       "    .dataframe thead th {\n",
       "        text-align: right;\n",
       "    }\n",
       "</style>\n",
       "<table border=\"1\" class=\"dataframe\">\n",
       "  <thead>\n",
       "    <tr style=\"text-align: right;\">\n",
       "      <th></th>\n",
       "      <th>headlines</th>\n",
       "      <th>text</th>\n",
       "    </tr>\n",
       "  </thead>\n",
       "  <tbody>\n",
       "    <tr>\n",
       "      <th>0</th>\n",
       "      <td>upGrad learner switches to career in ML &amp; Al w...</td>\n",
       "      <td>Saurav Kant, an alumnus of upGrad and IIIT-B's...</td>\n",
       "    </tr>\n",
       "    <tr>\n",
       "      <th>1</th>\n",
       "      <td>Delhi techie wins free food from Swiggy for on...</td>\n",
       "      <td>Kunal Shah's credit card bill payment platform...</td>\n",
       "    </tr>\n",
       "    <tr>\n",
       "      <th>2</th>\n",
       "      <td>New Zealand end Rohit Sharma-led India's 12-ma...</td>\n",
       "      <td>New Zealand defeated India by 8 wickets in the...</td>\n",
       "    </tr>\n",
       "    <tr>\n",
       "      <th>3</th>\n",
       "      <td>Aegon life iTerm insurance plan helps customer...</td>\n",
       "      <td>With Aegon Life iTerm Insurance plan, customer...</td>\n",
       "    </tr>\n",
       "    <tr>\n",
       "      <th>4</th>\n",
       "      <td>Have known Hirani for yrs, what if MeToo claim...</td>\n",
       "      <td>Speaking about the sexual harassment allegatio...</td>\n",
       "    </tr>\n",
       "  </tbody>\n",
       "</table>\n",
       "</div>"
      ],
      "text/plain": [
       "                                           headlines  \\\n",
       "0  upGrad learner switches to career in ML & Al w...   \n",
       "1  Delhi techie wins free food from Swiggy for on...   \n",
       "2  New Zealand end Rohit Sharma-led India's 12-ma...   \n",
       "3  Aegon life iTerm insurance plan helps customer...   \n",
       "4  Have known Hirani for yrs, what if MeToo claim...   \n",
       "\n",
       "                                                text  \n",
       "0  Saurav Kant, an alumnus of upGrad and IIIT-B's...  \n",
       "1  Kunal Shah's credit card bill payment platform...  \n",
       "2  New Zealand defeated India by 8 wickets in the...  \n",
       "3  With Aegon Life iTerm Insurance plan, customer...  \n",
       "4  Speaking about the sexual harassment allegatio...  "
      ]
     },
     "execution_count": 38,
     "metadata": {},
     "output_type": "execute_result"
    }
   ],
   "source": [
    "data.head()"
   ]
  },
  {
   "cell_type": "code",
   "execution_count": 39,
   "id": "coordinate-capacity",
   "metadata": {
    "scrolled": true
   },
   "outputs": [
    {
     "data": {
      "text/html": [
       "<div>\n",
       "<style scoped>\n",
       "    .dataframe tbody tr th:only-of-type {\n",
       "        vertical-align: middle;\n",
       "    }\n",
       "\n",
       "    .dataframe tbody tr th {\n",
       "        vertical-align: top;\n",
       "    }\n",
       "\n",
       "    .dataframe thead th {\n",
       "        text-align: right;\n",
       "    }\n",
       "</style>\n",
       "<table border=\"1\" class=\"dataframe\">\n",
       "  <thead>\n",
       "    <tr style=\"text-align: right;\">\n",
       "      <th></th>\n",
       "      <th>headlines</th>\n",
       "      <th>text</th>\n",
       "    </tr>\n",
       "  </thead>\n",
       "  <tbody>\n",
       "    <tr>\n",
       "      <th>7532</th>\n",
       "      <td>Man held for running prostitution racket in na...</td>\n",
       "      <td>A 70-year-old man has been arrested for allege...</td>\n",
       "    </tr>\n",
       "    <tr>\n",
       "      <th>216</th>\n",
       "      <td>Our stars play only positive roles all their l...</td>\n",
       "      <td>Actor Nawazuddin Siddiqui, in a recent intervi...</td>\n",
       "    </tr>\n",
       "    <tr>\n",
       "      <th>85956</th>\n",
       "      <td>Cadila now India's 2nd most valued drug firm w...</td>\n",
       "      <td>Cadila Healthcare has become India's second-mo...</td>\n",
       "    </tr>\n",
       "    <tr>\n",
       "      <th>86588</th>\n",
       "      <td>US cannot renegotiate Paris climate deal: Fran...</td>\n",
       "      <td>In a rare joint statement, leaders of France, ...</td>\n",
       "    </tr>\n",
       "    <tr>\n",
       "      <th>78203</th>\n",
       "      <td>Flyer at Delhi Airport hides gold worth Ã¢ÂÂ¹...</td>\n",
       "      <td>A 37-year-old man was arrested for allegedly t...</td>\n",
       "    </tr>\n",
       "    <tr>\n",
       "      <th>20275</th>\n",
       "      <td>US, Afghanistan reject Russia-led peace talks ...</td>\n",
       "      <td>The US and Afghanistan will not attend Russia-...</td>\n",
       "    </tr>\n",
       "    <tr>\n",
       "      <th>51634</th>\n",
       "      <td>Central Railway to install 11,000 CCTVs in all...</td>\n",
       "      <td>The Central Railway has planned to install 11,...</td>\n",
       "    </tr>\n",
       "    <tr>\n",
       "      <th>21185</th>\n",
       "      <td>Became Lok Sabha Speaker due to Vajpayee: Shiv...</td>\n",
       "      <td>Senior Shiv Sena leader Manohar Joshi said he ...</td>\n",
       "    </tr>\n",
       "    <tr>\n",
       "      <th>31800</th>\n",
       "      <td>Nobody broke into our system: EC on fake IDs f...</td>\n",
       "      <td>After nearly 10,000 fake voter IDs were found ...</td>\n",
       "    </tr>\n",
       "    <tr>\n",
       "      <th>31342</th>\n",
       "      <td>Fan enters field to touch Kohli's feet, take s...</td>\n",
       "      <td>A fan invaded the field and took a selfie with...</td>\n",
       "    </tr>\n",
       "  </tbody>\n",
       "</table>\n",
       "</div>"
      ],
      "text/plain": [
       "                                               headlines  \\\n",
       "7532   Man held for running prostitution racket in na...   \n",
       "216    Our stars play only positive roles all their l...   \n",
       "85956  Cadila now India's 2nd most valued drug firm w...   \n",
       "86588  US cannot renegotiate Paris climate deal: Fran...   \n",
       "78203  Flyer at Delhi Airport hides gold worth Ã¢ÂÂ¹...   \n",
       "20275  US, Afghanistan reject Russia-led peace talks ...   \n",
       "51634  Central Railway to install 11,000 CCTVs in all...   \n",
       "21185  Became Lok Sabha Speaker due to Vajpayee: Shiv...   \n",
       "31800  Nobody broke into our system: EC on fake IDs f...   \n",
       "31342  Fan enters field to touch Kohli's feet, take s...   \n",
       "\n",
       "                                                    text  \n",
       "7532   A 70-year-old man has been arrested for allege...  \n",
       "216    Actor Nawazuddin Siddiqui, in a recent intervi...  \n",
       "85956  Cadila Healthcare has become India's second-mo...  \n",
       "86588  In a rare joint statement, leaders of France, ...  \n",
       "78203  A 37-year-old man was arrested for allegedly t...  \n",
       "20275  The US and Afghanistan will not attend Russia-...  \n",
       "51634  The Central Railway has planned to install 11,...  \n",
       "21185  Senior Shiv Sena leader Manohar Joshi said he ...  \n",
       "31800  After nearly 10,000 fake voter IDs were found ...  \n",
       "31342  A fan invaded the field and took a selfie with...  "
      ]
     },
     "execution_count": 39,
     "metadata": {},
     "output_type": "execute_result"
    }
   ],
   "source": [
    "data.sample(10)"
   ]
  },
  {
   "cell_type": "markdown",
   "id": "mineral-independence",
   "metadata": {},
   "source": [
    "### 데이터 전처리 2단계"
   ]
  },
  {
   "cell_type": "code",
   "execution_count": 40,
   "id": "respected-purchase",
   "metadata": {},
   "outputs": [
    {
     "name": "stdout",
     "output_type": "stream",
     "text": [
      "정규화 사전의 수:  120\n"
     ]
    }
   ],
   "source": [
    "# 텍스트 정규화 \n",
    "contractions = {\"ain't\": \"is not\", \"aren't\": \"are not\",\"can't\": \"cannot\", \"'cause\": \"because\", \"could've\": \"could have\", \"couldn't\": \"could not\",\n",
    "                           \"didn't\": \"did not\",  \"doesn't\": \"does not\", \"don't\": \"do not\", \"hadn't\": \"had not\", \"hasn't\": \"has not\", \"haven't\": \"have not\",\n",
    "                           \"he'd\": \"he would\",\"he'll\": \"he will\", \"he's\": \"he is\", \"how'd\": \"how did\", \"how'd'y\": \"how do you\", \"how'll\": \"how will\", \"how's\": \"how is\",\n",
    "                           \"I'd\": \"I would\", \"I'd've\": \"I would have\", \"I'll\": \"I will\", \"I'll've\": \"I will have\",\"I'm\": \"I am\", \"I've\": \"I have\", \"i'd\": \"i would\",\n",
    "                           \"i'd've\": \"i would have\", \"i'll\": \"i will\",  \"i'll've\": \"i will have\",\"i'm\": \"i am\", \"i've\": \"i have\", \"isn't\": \"is not\", \"it'd\": \"it would\",\n",
    "                           \"it'd've\": \"it would have\", \"it'll\": \"it will\", \"it'll've\": \"it will have\",\"it's\": \"it is\", \"let's\": \"let us\", \"ma'am\": \"madam\",\n",
    "                           \"mayn't\": \"may not\", \"might've\": \"might have\",\"mightn't\": \"might not\",\"mightn't've\": \"might not have\", \"must've\": \"must have\",\n",
    "                           \"mustn't\": \"must not\", \"mustn't've\": \"must not have\", \"needn't\": \"need not\", \"needn't've\": \"need not have\",\"o'clock\": \"of the clock\",\n",
    "                           \"oughtn't\": \"ought not\", \"oughtn't've\": \"ought not have\", \"shan't\": \"shall not\", \"sha'n't\": \"shall not\", \"shan't've\": \"shall not have\",\n",
    "                           \"she'd\": \"she would\", \"she'd've\": \"she would have\", \"she'll\": \"she will\", \"she'll've\": \"she will have\", \"she's\": \"she is\",\n",
    "                           \"should've\": \"should have\", \"shouldn't\": \"should not\", \"shouldn't've\": \"should not have\", \"so've\": \"so have\",\"so's\": \"so as\",\n",
    "                           \"this's\": \"this is\",\"that'd\": \"that would\", \"that'd've\": \"that would have\", \"that's\": \"that is\", \"there'd\": \"there would\",\n",
    "                           \"there'd've\": \"there would have\", \"there's\": \"there is\", \"here's\": \"here is\",\"they'd\": \"they would\", \"they'd've\": \"they would have\",\n",
    "                           \"they'll\": \"they will\", \"they'll've\": \"they will have\", \"they're\": \"they are\", \"they've\": \"they have\", \"to've\": \"to have\",\n",
    "                           \"wasn't\": \"was not\", \"we'd\": \"we would\", \"we'd've\": \"we would have\", \"we'll\": \"we will\", \"we'll've\": \"we will have\", \"we're\": \"we are\",\n",
    "                           \"we've\": \"we have\", \"weren't\": \"were not\", \"what'll\": \"what will\", \"what'll've\": \"what will have\", \"what're\": \"what are\",\n",
    "                           \"what's\": \"what is\", \"what've\": \"what have\", \"when's\": \"when is\", \"when've\": \"when have\", \"where'd\": \"where did\", \"where's\": \"where is\",\n",
    "                           \"where've\": \"where have\", \"who'll\": \"who will\", \"who'll've\": \"who will have\", \"who's\": \"who is\", \"who've\": \"who have\",\n",
    "                           \"why's\": \"why is\", \"why've\": \"why have\", \"will've\": \"will have\", \"won't\": \"will not\", \"won't've\": \"will not have\",\n",
    "                           \"would've\": \"would have\", \"wouldn't\": \"would not\", \"wouldn't've\": \"would not have\", \"y'all\": \"you all\",\n",
    "                           \"y'all'd\": \"you all would\",\"y'all'd've\": \"you all would have\",\"y'all're\": \"you all are\",\"y'all've\": \"you all have\",\n",
    "                           \"you'd\": \"you would\", \"you'd've\": \"you would have\", \"you'll\": \"you will\", \"you'll've\": \"you will have\",\n",
    "                           \"you're\": \"you are\", \"you've\": \"you have\"}\n",
    "\n",
    "print(\"정규화 사전의 수: \", len(contractions))"
   ]
  },
  {
   "cell_type": "code",
   "execution_count": 41,
   "id": "rolled-pipeline",
   "metadata": {},
   "outputs": [
    {
     "data": {
      "text/plain": [
       "'\\nimport re \\n\\noutlier = []\\nfor i in data.text:\\n    outlier.append(re.match(\\'[^a-zA-Z0-9_\\'\"]\\' ,i)) \\n\\nfor j in data.headlines:\\n    outlier.append(re.match(\\'[^a-zA-Z0-9_\\'\"]\\' ,j))\\n    \\nlen(outlier)\\n\\n\\nfrom collections import Counter\\n\\noutlier_hash = Counter(outlier)\\n\\n\\noutlier_hash.most_common()\\n\\n'"
      ]
     },
     "execution_count": 41,
     "metadata": {},
     "output_type": "execute_result"
    }
   ],
   "source": [
    "# 정규 표현식과 Counter 모듈을 통해 특이 데이터 색출 모색\n",
    "'''\n",
    "import re \n",
    "\n",
    "outlier = []\n",
    "for i in data.text:\n",
    "    outlier.append(re.match('[^a-zA-Z0-9_\\'\\\"]' ,i)) \n",
    "\n",
    "for j in data.headlines:\n",
    "    outlier.append(re.match('[^a-zA-Z0-9_\\'\\\"]' ,j))\n",
    "    \n",
    "len(outlier)\n",
    "\n",
    "\n",
    "from collections import Counter\n",
    "\n",
    "outlier_hash = Counter(outlier)\n",
    "\n",
    "\n",
    "outlier_hash.most_common()\n",
    "\n",
    "'''"
   ]
  },
  {
   "cell_type": "code",
   "execution_count": 42,
   "id": "loaded-xerox",
   "metadata": {
    "scrolled": true
   },
   "outputs": [
    {
     "name": "stdout",
     "output_type": "stream",
     "text": [
      "불용어 개수 : 179\n",
      "['i', 'me', 'my', 'myself', 'we', 'our', 'ours', 'ourselves', 'you', \"you're\", \"you've\", \"you'll\", \"you'd\", 'your', 'yours', 'yourself', 'yourselves', 'he', 'him', 'his', 'himself', 'she', \"she's\", 'her', 'hers', 'herself', 'it', \"it's\", 'its', 'itself', 'they', 'them', 'their', 'theirs', 'themselves', 'what', 'which', 'who', 'whom', 'this', 'that', \"that'll\", 'these', 'those', 'am', 'is', 'are', 'was', 'were', 'be', 'been', 'being', 'have', 'has', 'had', 'having', 'do', 'does', 'did', 'doing', 'a', 'an', 'the', 'and', 'but', 'if', 'or', 'because', 'as', 'until', 'while', 'of', 'at', 'by', 'for', 'with', 'about', 'against', 'between', 'into', 'through', 'during', 'before', 'after', 'above', 'below', 'to', 'from', 'up', 'down', 'in', 'out', 'on', 'off', 'over', 'under', 'again', 'further', 'then', 'once', 'here', 'there', 'when', 'where', 'why', 'how', 'all', 'any', 'both', 'each', 'few', 'more', 'most', 'other', 'some', 'such', 'no', 'nor', 'not', 'only', 'own', 'same', 'so', 'than', 'too', 'very', 's', 't', 'can', 'will', 'just', 'don', \"don't\", 'should', \"should've\", 'now', 'd', 'll', 'm', 'o', 're', 've', 'y', 'ain', 'aren', \"aren't\", 'couldn', \"couldn't\", 'didn', \"didn't\", 'doesn', \"doesn't\", 'hadn', \"hadn't\", 'hasn', \"hasn't\", 'haven', \"haven't\", 'isn', \"isn't\", 'ma', 'mightn', \"mightn't\", 'mustn', \"mustn't\", 'needn', \"needn't\", 'shan', \"shan't\", 'shouldn', \"shouldn't\", 'wasn', \"wasn't\", 'weren', \"weren't\", 'won', \"won't\", 'wouldn', \"wouldn't\"]\n"
     ]
    }
   ],
   "source": [
    "#불용어 제거\n",
    "print('불용어 개수 :', len(stopwords.words('english') ))\n",
    "print(stopwords.words('english'))"
   ]
  },
  {
   "cell_type": "code",
   "execution_count": 43,
   "id": "fleet-commissioner",
   "metadata": {},
   "outputs": [],
   "source": [
    "# 데이터 전처리 함수\n",
    "def preprocess_sentence(sentence, remove_stopwords=True): \n",
    "    sentence = sentence.lower() \n",
    "    sentence = re.sub(r'\\([^)]*\\)', '', sentence) # 괄호로 닫힌 문자열 (...) 제거 Ex) my husband (and myself!) for => my husband for\n",
    "    sentence = re.sub('\"','', sentence) # 쌍따옴표 \" 제거\n",
    "    sentence = ' '.join([contractions[t] if t in contractions else t for t in sentence.split(\" \")]) # 약어 정규화\n",
    "    sentence = re.sub(r\"'s\\b\",\"\", sentence) # 소유격 제거. Ex) roland's -> roland\n",
    "    sentence = re.sub(\"[^a-zA-Z]\", \" \", sentence) # 영어 외 문자(숫자, 특수문자 등) 공백으로 변환\n",
    "    sentence = re.sub('[m]{2,}', 'mm', sentence) # m이 3개 이상이면 2개로 변경. Ex) ummmmmmm yeah -> umm yeah\n",
    "    \n",
    "    # 불용어 제거 (Text)\n",
    "    if remove_stopwords:\n",
    "        tokens = ' '.join(word for word in sentence.split() if not word in stopwords.words('english') if len(word) > 1) # if문 두 번 사용\n",
    "    # 불용어 미제거 (Summary)\n",
    "    else:\n",
    "        tokens = ' '.join(word for word in sentence.split() if len(word) > 1)\n",
    "    return tokens"
   ]
  },
  {
   "cell_type": "code",
   "execution_count": 44,
   "id": "limited-review",
   "metadata": {},
   "outputs": [
    {
     "name": "stdout",
     "output_type": "stream",
     "text": [
      "222.4437255859375  seconds\n",
      "['saurav kant alumnus upgrad iiit pg program machine learning artificial intelligence sr systems engineer infosys almost years work experience program upgrad degree career support helped transition data scientist tech mahindra salary hike upgrad online power learning powered lakh careers'\n",
      " 'kunal shah credit card bill payment platform cred gave users chance win free food swiggy one year pranav kaushik delhi techie bagged reward spending cred coins users get one cred coin per rupee bill paid used avail rewards brands like ixigo bookmyshow ubereats cult fit'\n",
      " 'new zealand defeated india wickets fourth odi hamilton thursday win first match five match odi series india lost international match rohit sharma captaincy consecutive victories dating back march match witnessed india getting seventh lowest total odi cricket history'\n",
      " ...\n",
      " 'according reports new version science fiction film matrix development michael jordan reportedly play lead role film screenwriter zak penn talks write script film reports added actor keanu reeves starred original film followed two sequels'\n",
      " 'new music video shows rapper snoop dogg aiming toy gun clown character parodying us president donald trump video also shows tv airing news conference headline ronald klump wants deport doggs airing live clown house video remixed version song lavender'\n",
      " 'madhesi morcha alliance seven political parties withdrawn support pm pushpa kamal dahal led nepal government failed meet seven day ultimatum fulfil demands including endorsement revised constitution amendment bill morcha seats parliament despite withdrawal support immediate threat government']\n",
      "0.6095261573791504  seconds\n",
      "['upgrad learner switches to career in ml al with salary hike'\n",
      " 'delhi techie wins free food from swiggy for one year on cred'\n",
      " 'new zealand end rohit sharma led india match winning streak' ...\n",
      " 'the matrix film to get reboot reports'\n",
      " 'snoop dogg aims gun at clown dressed as trump in new video'\n",
      " 'madhesi morcha withdraws support to nepalese government']\n"
     ]
    }
   ],
   "source": [
    "import multiprocessing as mp   \n",
    "from multiprocessing import Pool\n",
    "import numpy as np\n",
    "import time\n",
    "from functools import partial \n",
    "\n",
    "start = time.time()\n",
    "\n",
    "def appendTexts(sentences, remove_stopwords):\n",
    "  texts = []\n",
    "  for s in sentences:\n",
    "    texts += preprocess_sentence(s, remove_stopwords),\n",
    "  return texts\n",
    "\n",
    "def preprocess_data(data, remove_stopwords=True):\n",
    "  start_time = time.time()\n",
    "  num_cores = mp.cpu_count()  \n",
    "    \n",
    "  text_data_split = np.array_split(data, num_cores)  \n",
    "  pool = Pool(num_cores)\n",
    "\n",
    "  processed_data = np.concatenate(pool.map(partial(appendTexts, remove_stopwords=remove_stopwords), text_data_split))  \n",
    "  pool.close()\n",
    "  pool.join()\n",
    "  print(time.time() - start_time, \" seconds\")\n",
    "  return processed_data\n",
    "\n",
    "clean_text = preprocess_data(data['text']) \n",
    "print(clean_text)\n",
    "\n",
    "clean_headlines = preprocess_data(data['headlines'], remove_stopwords=False) \n",
    "print(clean_headlines)"
   ]
  },
  {
   "cell_type": "code",
   "execution_count": 45,
   "id": "smooth-beast",
   "metadata": {},
   "outputs": [],
   "source": [
    "data['text'] = clean_text\n",
    "data['headlines'] = clean_headlines\n",
    "\n",
    "# 빈 값을 Null 값으로 변환\n",
    "data.replace('', np.nan, inplace=True)"
   ]
  },
  {
   "cell_type": "code",
   "execution_count": 46,
   "id": "nonprofit-hungary",
   "metadata": {},
   "outputs": [
    {
     "data": {
      "text/plain": [
       "headlines    0\n",
       "text         0\n",
       "dtype: int64"
      ]
     },
     "execution_count": 46,
     "metadata": {},
     "output_type": "execute_result"
    }
   ],
   "source": [
    "# 결측치 확인 \n",
    "data.isnull().sum()"
   ]
  },
  {
   "cell_type": "markdown",
   "id": "french-garlic",
   "metadata": {},
   "source": [
    "#### 훈련 데이터와 테스트 데이터 구분"
   ]
  },
  {
   "cell_type": "code",
   "execution_count": 48,
   "id": "stupid-pitch",
   "metadata": {},
   "outputs": [
    {
     "name": "stdout",
     "output_type": "stream",
     "text": [
      "텍스트의 최소 길이 : 1\n",
      "텍스트의 최대 길이 : 60\n",
      "텍스트의 평균 길이 : 35.10029309397326\n",
      "제목의 최소 길이 : 1\n",
      "제목의 최대 길이 : 16\n",
      "제목의 평균 길이 : 9.299444342675704\n"
     ]
    },
    {
     "data": {
      "image/png": "[encoded data removed]",
      "text/plain": [
       "<Figure size 432x288 with 2 Axes>"
      ]
     },
     "metadata": {
      "needs_background": "light"
     },
     "output_type": "display_data"
    },
    {
     "data": {
      "image/png": "[encoded data removed]",
      "text/plain": [
       "<Figure size 432x288 with 1 Axes>"
      ]
     },
     "metadata": {
      "needs_background": "light"
     },
     "output_type": "display_data"
    },
    {
     "data": {
      "image/png": "[encoded data removed]",
      "text/plain": [
       "<Figure size 432x288 with 1 Axes>"
      ]
     },
     "metadata": {
      "needs_background": "light"
     },
     "output_type": "display_data"
    }
   ],
   "source": [
    "text_len = [len(s.split()) for s in data['text']]\n",
    "headline_len = [len(s.split()) for s in data['headlines']]\n",
    "\n",
    "print('텍스트의 최소 길이 : {}'.format(np.min(text_len)))\n",
    "print('텍스트의 최대 길이 : {}'.format(np.max(text_len)))\n",
    "print('텍스트의 평균 길이 : {}'.format(np.mean(text_len)))\n",
    "print('제목의 최소 길이 : {}'.format(np.min(headline_len)))\n",
    "print('제목의 최대 길이 : {}'.format(np.max(headline_len)))\n",
    "print('제목의 평균 길이 : {}'.format(np.mean(headline_len)))\n",
    "\n",
    "plt.subplot(1,2,1)\n",
    "plt.boxplot(headline_len)\n",
    "plt.title('Headlines')\n",
    "plt.subplot(1,2,2)\n",
    "plt.boxplot(text_len)\n",
    "plt.title('Text')\n",
    "plt.tight_layout()\n",
    "plt.show()\n",
    "\n",
    "plt.title('Headlines')\n",
    "plt.hist(headline_len, bins = 40)\n",
    "plt.xlabel('length of samples')\n",
    "plt.ylabel('number of samples')\n",
    "plt.show()\n",
    "\n",
    "plt.title('Text')\n",
    "plt.hist(text_len, bins = 40)\n",
    "plt.xlabel('length of samples')\n",
    "plt.ylabel('number of samples')\n",
    "plt.show()"
   ]
  },
  {
   "cell_type": "code",
   "execution_count": 49,
   "id": "mysterious-voice",
   "metadata": {},
   "outputs": [],
   "source": [
    "text_max_len = 40\n",
    "headline_max_len = 10"
   ]
  },
  {
   "cell_type": "code",
   "execution_count": 50,
   "id": "amber-landing",
   "metadata": {},
   "outputs": [],
   "source": [
    "def below_threshold_len(max_len, nested_list):\n",
    "  cnt = 0\n",
    "  for s in nested_list:\n",
    "    if(len(s.split()) <= max_len):\n",
    "        cnt = cnt + 1\n",
    "  print('전체 샘플 중 길이가 %s 이하인 샘플의 비율: %s'%(max_len, (cnt / len(nested_list))))"
   ]
  },
  {
   "cell_type": "code",
   "execution_count": 51,
   "id": "theoretical-subscription",
   "metadata": {
    "scrolled": true
   },
   "outputs": [
    {
     "name": "stdout",
     "output_type": "stream",
     "text": [
      "전체 샘플 중 길이가 40 이하인 샘플의 비율: 0.92383627444994\n",
      "전체 샘플 중 길이가 10 이하인 샘플의 비율: 0.816317599886019\n"
     ]
    }
   ],
   "source": [
    "below_threshold_len(text_max_len, data['text'])\n",
    "below_threshold_len(headline_max_len,  data['headlines'])"
   ]
  },
  {
   "cell_type": "code",
   "execution_count": 52,
   "id": "supported-pharmaceutical",
   "metadata": {},
   "outputs": [
    {
     "name": "stdout",
     "output_type": "stream",
     "text": [
      "전체 샘플수 : 74028\n"
     ]
    }
   ],
   "source": [
    "data = data[data['text'].apply(lambda x: len(x.split()) <= text_max_len)]\n",
    "data = data[data['headlines'].apply(lambda x: len(x.split()) <= headline_max_len)]\n",
    "print('전체 샘플수 :', (len(data)))"
   ]
  },
  {
   "cell_type": "code",
   "execution_count": 53,
   "id": "demographic-chair",
   "metadata": {},
   "outputs": [
    {
     "data": {
      "text/html": [
       "<div>\n",
       "<style scoped>\n",
       "    .dataframe tbody tr th:only-of-type {\n",
       "        vertical-align: middle;\n",
       "    }\n",
       "\n",
       "    .dataframe tbody tr th {\n",
       "        vertical-align: top;\n",
       "    }\n",
       "\n",
       "    .dataframe thead th {\n",
       "        text-align: right;\n",
       "    }\n",
       "</style>\n",
       "<table border=\"1\" class=\"dataframe\">\n",
       "  <thead>\n",
       "    <tr style=\"text-align: right;\">\n",
       "      <th></th>\n",
       "      <th>headlines</th>\n",
       "      <th>text</th>\n",
       "      <th>decoder_input</th>\n",
       "      <th>decoder_target</th>\n",
       "    </tr>\n",
       "  </thead>\n",
       "  <tbody>\n",
       "    <tr>\n",
       "      <th>2</th>\n",
       "      <td>new zealand end rohit sharma led india match w...</td>\n",
       "      <td>new zealand defeated india wickets fourth odi ...</td>\n",
       "      <td>sostoken new zealand end rohit sharma led indi...</td>\n",
       "      <td>new zealand end rohit sharma led india match w...</td>\n",
       "    </tr>\n",
       "    <tr>\n",
       "      <th>3</th>\n",
       "      <td>aegon life iterm insurance plan helps customer...</td>\n",
       "      <td>aegon life iterm insurance plan customers enjo...</td>\n",
       "      <td>sostoken aegon life iterm insurance plan helps...</td>\n",
       "      <td>aegon life iterm insurance plan helps customer...</td>\n",
       "    </tr>\n",
       "    <tr>\n",
       "      <th>5</th>\n",
       "      <td>rahat fateh ali khan denies getting notice for...</td>\n",
       "      <td>pakistani singer rahat fateh ali khan denied r...</td>\n",
       "      <td>sostoken rahat fateh ali khan denies getting n...</td>\n",
       "      <td>rahat fateh ali khan denies getting notice for...</td>\n",
       "    </tr>\n",
       "    <tr>\n",
       "      <th>9</th>\n",
       "      <td>cong wins ramgarh bypoll in rajasthan takes to...</td>\n",
       "      <td>congress candidate shafia zubair ramgarh assem...</td>\n",
       "      <td>sostoken cong wins ramgarh bypoll in rajasthan...</td>\n",
       "      <td>cong wins ramgarh bypoll in rajasthan takes to...</td>\n",
       "    </tr>\n",
       "    <tr>\n",
       "      <th>10</th>\n",
       "      <td>up cousins fed human excreta for friendship wi...</td>\n",
       "      <td>two minor cousins uttar pradesh gorakhpur alle...</td>\n",
       "      <td>sostoken up cousins fed human excreta for frie...</td>\n",
       "      <td>up cousins fed human excreta for friendship wi...</td>\n",
       "    </tr>\n",
       "  </tbody>\n",
       "</table>\n",
       "</div>"
      ],
      "text/plain": [
       "                                            headlines  \\\n",
       "2   new zealand end rohit sharma led india match w...   \n",
       "3   aegon life iterm insurance plan helps customer...   \n",
       "5   rahat fateh ali khan denies getting notice for...   \n",
       "9   cong wins ramgarh bypoll in rajasthan takes to...   \n",
       "10  up cousins fed human excreta for friendship wi...   \n",
       "\n",
       "                                                 text  \\\n",
       "2   new zealand defeated india wickets fourth odi ...   \n",
       "3   aegon life iterm insurance plan customers enjo...   \n",
       "5   pakistani singer rahat fateh ali khan denied r...   \n",
       "9   congress candidate shafia zubair ramgarh assem...   \n",
       "10  two minor cousins uttar pradesh gorakhpur alle...   \n",
       "\n",
       "                                        decoder_input  \\\n",
       "2   sostoken new zealand end rohit sharma led indi...   \n",
       "3   sostoken aegon life iterm insurance plan helps...   \n",
       "5   sostoken rahat fateh ali khan denies getting n...   \n",
       "9   sostoken cong wins ramgarh bypoll in rajasthan...   \n",
       "10  sostoken up cousins fed human excreta for frie...   \n",
       "\n",
       "                                       decoder_target  \n",
       "2   new zealand end rohit sharma led india match w...  \n",
       "3   aegon life iterm insurance plan helps customer...  \n",
       "5   rahat fateh ali khan denies getting notice for...  \n",
       "9   cong wins ramgarh bypoll in rajasthan takes to...  \n",
       "10  up cousins fed human excreta for friendship wi...  "
      ]
     },
     "execution_count": 53,
     "metadata": {},
     "output_type": "execute_result"
    }
   ],
   "source": [
    "# headline 데이터에는 시작 토큰과 종료 토큰을 추가한다.\n",
    "data['decoder_input'] = data['headlines'].apply(lambda x : 'sostoken '+ x)  \n",
    "data['decoder_target'] = data['headlines'].apply(lambda x : x + ' eostoken')\n",
    "data.head()"
   ]
  },
  {
   "cell_type": "code",
   "execution_count": 54,
   "id": "musical-growth",
   "metadata": {},
   "outputs": [],
   "source": [
    "encoder_input = np.array(data['text']) # 인코더의 입력\n",
    "decoder_input = np.array(data['decoder_input']) # 디코더의 입력\n",
    "decoder_target = np.array(data['decoder_target']) # 디코더의 레이블"
   ]
  },
  {
   "cell_type": "code",
   "execution_count": 55,
   "id": "auburn-review",
   "metadata": {},
   "outputs": [
    {
     "data": {
      "text/plain": [
       "(74028,)"
      ]
     },
     "execution_count": 55,
     "metadata": {},
     "output_type": "execute_result"
    }
   ],
   "source": [
    "encoder_input.shape"
   ]
  },
  {
   "cell_type": "code",
   "execution_count": 56,
   "id": "confidential-residence",
   "metadata": {},
   "outputs": [
    {
     "name": "stdout",
     "output_type": "stream",
     "text": [
      "[21881 36239 20147 ... 32868  4050 18429]\n"
     ]
    }
   ],
   "source": [
    "indices = np.arange(encoder_input.shape[0])\n",
    "np.random.shuffle(indices)\n",
    "print(indices)"
   ]
  },
  {
   "cell_type": "code",
   "execution_count": 57,
   "id": "threatened-spine",
   "metadata": {},
   "outputs": [],
   "source": [
    "encoder_input = encoder_input[indices]\n",
    "decoder_input = decoder_input[indices]\n",
    "decoder_target = decoder_target[indices]"
   ]
  },
  {
   "cell_type": "code",
   "execution_count": 58,
   "id": "olive-method",
   "metadata": {},
   "outputs": [
    {
     "name": "stdout",
     "output_type": "stream",
     "text": [
      "테스트 데이터의 수 : 14805\n"
     ]
    }
   ],
   "source": [
    "n_of_val = int(len(encoder_input)*0.2)\n",
    "print('테스트 데이터의 수 :', n_of_val)"
   ]
  },
  {
   "cell_type": "code",
   "execution_count": 59,
   "id": "electrical-nelson",
   "metadata": {},
   "outputs": [
    {
     "name": "stdout",
     "output_type": "stream",
     "text": [
      "훈련 데이터의 개수 : 59223\n",
      "훈련 레이블의 개수 : 59223\n",
      "테스트 데이터의 개수 : 14805\n",
      "테스트 레이블의 개수 : 14805\n"
     ]
    }
   ],
   "source": [
    "encoder_input_train = encoder_input[:-n_of_val]\n",
    "decoder_input_train = decoder_input[:-n_of_val]\n",
    "decoder_target_train = decoder_target[:-n_of_val]\n",
    "\n",
    "encoder_input_test = encoder_input[-n_of_val:]\n",
    "decoder_input_test = decoder_input[-n_of_val:]\n",
    "decoder_target_test = decoder_target[-n_of_val:]\n",
    "\n",
    "print('훈련 데이터의 개수 :', len(encoder_input_train))\n",
    "print('훈련 레이블의 개수 :', len(decoder_input_train))\n",
    "print('테스트 데이터의 개수 :', len(encoder_input_test))\n",
    "print('테스트 레이블의 개수 :', len(decoder_input_test))"
   ]
  },
  {
   "cell_type": "markdown",
   "id": "suspected-backing",
   "metadata": {},
   "source": [
    "### step3. 정수 인코딩 "
   ]
  },
  {
   "cell_type": "code",
   "execution_count": 60,
   "id": "clinical-tribute",
   "metadata": {},
   "outputs": [],
   "source": [
    "src_tokenizer = Tokenizer() # 토크나이저 정의\n",
    "src_tokenizer.fit_on_texts(encoder_input_train) # 입력된 데이터로부터 단어 집합 생성\n",
    "# 생성된 단어는 src_tokenizer.word_index에서 확인 가능 "
   ]
  },
  {
   "cell_type": "code",
   "execution_count": 61,
   "id": "broadband-jenny",
   "metadata": {},
   "outputs": [
    {
     "name": "stdout",
     "output_type": "stream",
     "text": [
      "단어 집합(vocabulary)의 크기 : 61570\n",
      "등장 빈도가 6번 이하인 희귀 단어의 수: 42238\n",
      "단어 집합에서 희귀 단어를 제외시킬 경우의 단어 집합의 크기 19332\n",
      "단어 집합에서 희귀 단어의 비율: 68.60159168426182\n",
      "전체 등장 빈도에서 희귀 단어 등장 빈도 비율: 4.185355944326187\n"
     ]
    }
   ],
   "source": [
    "threshold = 7\n",
    "total_cnt = len(src_tokenizer.word_index) # 단어의 수\n",
    "rare_cnt = 0 # 등장 빈도수가 threshold보다 작은 단어의 개수를 카운트\n",
    "total_freq = 0 # 훈련 데이터의 전체 단어 빈도수 총 합\n",
    "rare_freq = 0 # 등장 빈도수가 threshold보다 작은 단어의 등장 빈도수의 총 합\n",
    "\n",
    "# 단어와 빈도수의 쌍(pair)을 key와 value로 받는다.\n",
    "for key, value in src_tokenizer.word_counts.items():\n",
    "    total_freq = total_freq + value\n",
    "\n",
    "    # 단어의 등장 빈도수가 threshold보다 작으면\n",
    "    if(value < threshold):\n",
    "        rare_cnt = rare_cnt + 1\n",
    "        rare_freq = rare_freq + value\n",
    "\n",
    "print('단어 집합(vocabulary)의 크기 :', total_cnt)\n",
    "print('등장 빈도가 %s번 이하인 희귀 단어의 수: %s'%(threshold - 1, rare_cnt))\n",
    "print('단어 집합에서 희귀 단어를 제외시킬 경우의 단어 집합의 크기 %s'%(total_cnt - rare_cnt))\n",
    "print(\"단어 집합에서 희귀 단어의 비율:\", (rare_cnt / total_cnt)*100)\n",
    "print(\"전체 등장 빈도에서 희귀 단어 등장 빈도 비율:\", (rare_freq / total_freq)*100)"
   ]
  },
  {
   "cell_type": "code",
   "execution_count": 62,
   "id": "fossil-bachelor",
   "metadata": {},
   "outputs": [],
   "source": [
    "src_vocab = 20000\n",
    "src_tokenizer = Tokenizer(num_words=src_vocab) # 단어 집합의 크기를 20,000으로 제한\n",
    "src_tokenizer.fit_on_texts(encoder_input_train) # 단어 집합 재생성."
   ]
  },
  {
   "cell_type": "code",
   "execution_count": 63,
   "id": "refined-belly",
   "metadata": {},
   "outputs": [
    {
     "name": "stdout",
     "output_type": "stream",
     "text": [
      "[[308, 19, 12, 400, 696, 1008, 24, 1147, 5603, 217, 418, 1347, 1042, 178, 523, 155, 333, 10025, 391, 25, 1, 2664, 16, 5535, 6616, 696, 6, 1544, 2804, 10305, 227, 303, 77, 178], [4502, 2470, 39, 2078, 11285, 166, 675, 121, 519, 447, 617, 130, 103, 675, 172, 7, 1563, 2570, 575, 724, 5889, 4906, 7, 68, 297, 576, 519, 5211, 617], [127, 2604, 2820, 18, 224, 83, 16844, 2046, 1312, 13183, 2604, 1219, 7, 635, 6617, 2209, 16844, 874, 25, 1, 1630, 668, 30, 2604, 1312, 1484, 427, 11, 2604, 13183, 184, 7]]\n"
     ]
    }
   ],
   "source": [
    "# 텍스트 시퀀스를 정수 시퀀스로 변환\n",
    "encoder_input_train = src_tokenizer.texts_to_sequences(encoder_input_train) \n",
    "encoder_input_test = src_tokenizer.texts_to_sequences(encoder_input_test)\n",
    "\n",
    "# 잘 진행되었는지 샘플 출력\n",
    "print(encoder_input_train[:3])"
   ]
  },
  {
   "cell_type": "code",
   "execution_count": 64,
   "id": "usual-yellow",
   "metadata": {},
   "outputs": [],
   "source": [
    "# target\n",
    "tar_tokenizer = Tokenizer() \n",
    "tar_tokenizer.fit_on_texts(decoder_input_train)"
   ]
  },
  {
   "cell_type": "code",
   "execution_count": 65,
   "id": "international-mauritius",
   "metadata": {},
   "outputs": [
    {
     "name": "stdout",
     "output_type": "stream",
     "text": [
      "단어 집합(vocabulary)의 크기 : 27303\n",
      "등장 빈도가 5번 이하인 희귀 단어의 수: 18263\n",
      "단어 집합에서 희귀 단어를 제외시킬 경우의 단어 집합의 크기 9040\n",
      "단어 집합에서 희귀 단어의 비율: 66.89008533860748\n",
      "전체 등장 빈도에서 희귀 단어 등장 빈도 비율: 6.011677296970364\n"
     ]
    }
   ],
   "source": [
    "threshold = 6\n",
    "total_cnt = len(tar_tokenizer.word_index) # 단어의 수\n",
    "rare_cnt = 0 # 등장 빈도수가 threshold보다 작은 단어의 개수를 카운트\n",
    "total_freq = 0 # 훈련 데이터의 전체 단어 빈도수 총 합\n",
    "rare_freq = 0 # 등장 빈도수가 threshold보다 작은 단어의 등장 빈도수의 총 합\n",
    "\n",
    "# 단어와 빈도수의 쌍(pair)을 key와 value로 받는다.\n",
    "for key, value in tar_tokenizer.word_counts.items():\n",
    "    total_freq = total_freq + value\n",
    "\n",
    "    # 단어의 등장 빈도수가 threshold보다 작으면\n",
    "    if(value < threshold):\n",
    "        rare_cnt = rare_cnt + 1\n",
    "        rare_freq = rare_freq + value\n",
    "\n",
    "print('단어 집합(vocabulary)의 크기 :', total_cnt)\n",
    "print('등장 빈도가 %s번 이하인 희귀 단어의 수: %s'%(threshold - 1, rare_cnt))\n",
    "print('단어 집합에서 희귀 단어를 제외시킬 경우의 단어 집합의 크기 %s'%(total_cnt - rare_cnt))\n",
    "print(\"단어 집합에서 희귀 단어의 비율:\", (rare_cnt / total_cnt)*100)\n",
    "print(\"전체 등장 빈도에서 희귀 단어 등장 빈도 비율:\", (rare_freq / total_freq)*100)"
   ]
  },
  {
   "cell_type": "code",
   "execution_count": 66,
   "id": "outside-jefferson",
   "metadata": {},
   "outputs": [
    {
     "name": "stdout",
     "output_type": "stream",
     "text": [
      "input\n",
      "input  [[1, 116, 3, 72, 36, 59, 457, 2293, 1882], [1, 300, 3, 244, 20, 83, 10, 522, 542, 5, 141], [1, 1318, 1448, 4, 794, 7, 47, 1751, 4, 825], [1, 1883, 2294, 4660, 50, 2937, 7551, 4], [1, 192, 875, 333, 10, 20, 5433, 826, 4, 4884]]\n",
      "target\n",
      "decoder  [[116, 3, 72, 36, 59, 457, 2293, 1882, 2], [300, 3, 244, 20, 83, 10, 522, 542, 5, 141, 2], [1318, 1448, 4, 794, 7, 47, 1751, 4, 825, 2], [1883, 2294, 4660, 50, 2937, 7551, 4, 2], [192, 875, 333, 10, 20, 5433, 826, 4, 4884, 2]]\n"
     ]
    }
   ],
   "source": [
    "tar_vocab = 10000\n",
    "tar_tokenizer = Tokenizer(num_words=tar_vocab) \n",
    "tar_tokenizer.fit_on_texts(decoder_input_train)\n",
    "tar_tokenizer.fit_on_texts(decoder_target_train)\n",
    "\n",
    "# 텍스트 시퀀스를 정수 시퀀스로 변환\n",
    "decoder_input_train = tar_tokenizer.texts_to_sequences(decoder_input_train) \n",
    "decoder_target_train = tar_tokenizer.texts_to_sequences(decoder_target_train)\n",
    "decoder_input_test = tar_tokenizer.texts_to_sequences(decoder_input_test)\n",
    "decoder_target_test = tar_tokenizer.texts_to_sequences(decoder_target_test)\n",
    "\n",
    "# 잘 변환되었는지 확인\n",
    "print('input')\n",
    "print('input ',decoder_input_train[:5])\n",
    "print('target')\n",
    "print('decoder ',decoder_target_train[:5])"
   ]
  },
  {
   "cell_type": "code",
   "execution_count": 67,
   "id": "ongoing-occupation",
   "metadata": {},
   "outputs": [],
   "source": [
    "drop_train = [index for index, sentence in enumerate(decoder_input_train) if len(sentence) == 1]\n",
    "drop_test = [index for index, sentence in enumerate(decoder_input_test) if len(sentence) == 1]"
   ]
  },
  {
   "cell_type": "code",
   "execution_count": 68,
   "id": "large-archive",
   "metadata": {},
   "outputs": [
    {
     "name": "stdout",
     "output_type": "stream",
     "text": [
      "0\n"
     ]
    },
    {
     "data": {
      "text/plain": [
       "[]"
      ]
     },
     "execution_count": 68,
     "metadata": {},
     "output_type": "execute_result"
    }
   ],
   "source": [
    "print(len(drop_train))\n",
    "drop_train[:5]"
   ]
  },
  {
   "cell_type": "code",
   "execution_count": 69,
   "id": "upset-bread",
   "metadata": {},
   "outputs": [
    {
     "name": "stdout",
     "output_type": "stream",
     "text": [
      "0\n"
     ]
    },
    {
     "data": {
      "text/plain": [
       "[]"
      ]
     },
     "execution_count": 69,
     "metadata": {},
     "output_type": "execute_result"
    }
   ],
   "source": [
    "print(len(drop_test))\n",
    "drop_test[:5]"
   ]
  },
  {
   "cell_type": "code",
   "execution_count": 71,
   "id": "subject-surprise",
   "metadata": {},
   "outputs": [],
   "source": [
    "# 패딩\n",
    "encoder_input_train = pad_sequences(encoder_input_train, maxlen=text_max_len, padding='post')\n",
    "encoder_input_test = pad_sequences(encoder_input_test, maxlen=text_max_len, padding='post')\n",
    "decoder_input_train = pad_sequences(decoder_input_train, maxlen=headline_max_len, padding='post')\n",
    "decoder_target_train = pad_sequences(decoder_target_train, maxlen=headline_max_len, padding='post')\n",
    "decoder_input_test = pad_sequences(decoder_input_test, maxlen=headline_max_len, padding='post')\n",
    "decoder_target_test = pad_sequences(decoder_target_test, maxlen=headline_max_len, padding='post')"
   ]
  },
  {
   "cell_type": "markdown",
   "id": "hundred-chase",
   "metadata": {},
   "source": [
    "#  모델 설계하기"
   ]
  },
  {
   "cell_type": "code",
   "execution_count": 72,
   "id": "pacific-hypothetical",
   "metadata": {},
   "outputs": [
    {
     "name": "stdout",
     "output_type": "stream",
     "text": [
      "WARNING:tensorflow:Layer lstm will not use cuDNN kernel since it doesn't meet the cuDNN kernel criteria. It will use generic GPU kernel as fallback when running on GPU\n",
      "WARNING:tensorflow:Layer lstm_1 will not use cuDNN kernel since it doesn't meet the cuDNN kernel criteria. It will use generic GPU kernel as fallback when running on GPU\n",
      "WARNING:tensorflow:Layer lstm_2 will not use cuDNN kernel since it doesn't meet the cuDNN kernel criteria. It will use generic GPU kernel as fallback when running on GPU\n"
     ]
    }
   ],
   "source": [
    "from tensorflow.keras.layers import Input, LSTM, Embedding, Dense, Concatenate\n",
    "from tensorflow.keras.models import Model\n",
    "from tensorflow.keras.callbacks import EarlyStopping, ModelCheckpoint\n",
    "\n",
    "\n",
    "# 인코더 설계 시작\n",
    "embedding_dim = 128\n",
    "hidden_size = 256\n",
    "\n",
    "# 인코더\n",
    "encoder_inputs = Input(shape=(text_max_len,))\n",
    "\n",
    "# 인코더의 임베딩 층\n",
    "enc_emb = Embedding(src_vocab, embedding_dim)(encoder_inputs)\n",
    "\n",
    "# 인코더의 LSTM 1\n",
    "encoder_lstm1 = LSTM(hidden_size, return_sequences=True, return_state=True ,dropout = 0.4, recurrent_dropout = 0.4)\n",
    "encoder_output1, state_h1, state_c1 = encoder_lstm1(enc_emb)\n",
    "\n",
    "# 인코더의 LSTM 2\n",
    "encoder_lstm2 = LSTM(hidden_size, return_sequences=True, return_state=True, dropout=0.4, recurrent_dropout=0.4)\n",
    "encoder_output2, state_h2, state_c2 = encoder_lstm2(encoder_output1)\n",
    "\n",
    "# 인코더의 LSTM 3\n",
    "encoder_lstm3 = LSTM(hidden_size, return_state=True, return_sequences=True, dropout=0.4, recurrent_dropout=0.4)\n",
    "encoder_outputs, state_h, state_c= encoder_lstm3(encoder_output2)"
   ]
  },
  {
   "cell_type": "code",
   "execution_count": 73,
   "id": "incoming-alcohol",
   "metadata": {},
   "outputs": [
    {
     "name": "stdout",
     "output_type": "stream",
     "text": [
      "WARNING:tensorflow:Layer lstm_3 will not use cuDNN kernel since it doesn't meet the cuDNN kernel criteria. It will use generic GPU kernel as fallback when running on GPU\n"
     ]
    }
   ],
   "source": [
    "# 디코더 설계\n",
    "decoder_inputs = Input(shape=(None,))\n",
    "\n",
    "# 디코더의 임베딩 층\n",
    "dec_emb_layer = Embedding(tar_vocab, embedding_dim)\n",
    "dec_emb = dec_emb_layer(decoder_inputs)\n",
    "\n",
    "# 디코더의 LSTM\n",
    "decoder_lstm = LSTM(hidden_size, return_sequences=True, return_state=True, dropout=0.4, recurrent_dropout=0.2)\n",
    "decoder_outputs, _, _ = decoder_lstm(dec_emb, initial_state=[state_h, state_c]) # encoder_lstm3의 hidden state, cell state"
   ]
  },
  {
   "cell_type": "code",
   "execution_count": 74,
   "id": "general-mortality",
   "metadata": {},
   "outputs": [
    {
     "name": "stdout",
     "output_type": "stream",
     "text": [
      "Model: \"model\"\n",
      "__________________________________________________________________________________________________\n",
      "Layer (type)                    Output Shape         Param #     Connected to                     \n",
      "==================================================================================================\n",
      "input_1 (InputLayer)            [(None, 40)]         0                                            \n",
      "__________________________________________________________________________________________________\n",
      "embedding (Embedding)           (None, 40, 128)      2560000     input_1[0][0]                    \n",
      "__________________________________________________________________________________________________\n",
      "lstm (LSTM)                     [(None, 40, 256), (N 394240      embedding[0][0]                  \n",
      "__________________________________________________________________________________________________\n",
      "input_2 (InputLayer)            [(None, None)]       0                                            \n",
      "__________________________________________________________________________________________________\n",
      "lstm_1 (LSTM)                   [(None, 40, 256), (N 525312      lstm[0][0]                       \n",
      "__________________________________________________________________________________________________\n",
      "embedding_1 (Embedding)         (None, None, 128)    1280000     input_2[0][0]                    \n",
      "__________________________________________________________________________________________________\n",
      "lstm_2 (LSTM)                   [(None, 40, 256), (N 525312      lstm_1[0][0]                     \n",
      "__________________________________________________________________________________________________\n",
      "lstm_3 (LSTM)                   [(None, None, 256),  394240      embedding_1[0][0]                \n",
      "                                                                 lstm_2[0][1]                     \n",
      "                                                                 lstm_2[0][2]                     \n",
      "__________________________________________________________________________________________________\n",
      "dense (Dense)                   (None, None, 10000)  2570000     lstm_3[0][0]                     \n",
      "==================================================================================================\n",
      "Total params: 8,249,104\n",
      "Trainable params: 8,249,104\n",
      "Non-trainable params: 0\n",
      "__________________________________________________________________________________________________\n"
     ]
    }
   ],
   "source": [
    "# 디코더의 출력층\n",
    "decoder_softmax_layer = Dense(tar_vocab, activation='softmax')\n",
    "decoder_softmax_outputs = decoder_softmax_layer(decoder_outputs) \n",
    "\n",
    "# 모델 정의\n",
    "# Model(inputs, output) \n",
    "model = Model([encoder_inputs, decoder_inputs], decoder_softmax_outputs)\n",
    "model.summary()"
   ]
  },
  {
   "cell_type": "markdown",
   "id": "welsh-uruguay",
   "metadata": {},
   "source": [
    "### step3.어텐션 메커니즘 사용하기 (추상적 요약)"
   ]
  },
  {
   "cell_type": "markdown",
   "id": "organized-magazine",
   "metadata": {},
   "source": [
    "일반적인 seq2seq보다는 어텐션 메커니즘을 사용한 seq2seq를 사용하는 것이 더 나은 성능을 얻을 수 있어요. 실습 내용을 참고하여 어텐션 메커니즘을 사용한 seq2seq를 설계해 보세요."
   ]
  },
  {
   "cell_type": "code",
   "execution_count": 75,
   "id": "innovative-focus",
   "metadata": {},
   "outputs": [],
   "source": [
    "# 어텐션 함수 다운로드 \n",
    "urllib.request.urlretrieve(\"https://raw.githubusercontent.com/thushv89/attention_keras/master/src/layers/attention.py\", filename=\"attention.py\")\n",
    "from attention import AttentionLayer"
   ]
  },
  {
   "cell_type": "code",
   "execution_count": 76,
   "id": "theoretical-praise",
   "metadata": {},
   "outputs": [
    {
     "name": "stdout",
     "output_type": "stream",
     "text": [
      "Model: \"model_1\"\n",
      "__________________________________________________________________________________________________\n",
      "Layer (type)                    Output Shape         Param #     Connected to                     \n",
      "==================================================================================================\n",
      "input_1 (InputLayer)            [(None, 40)]         0                                            \n",
      "__________________________________________________________________________________________________\n",
      "embedding (Embedding)           (None, 40, 128)      2560000     input_1[0][0]                    \n",
      "__________________________________________________________________________________________________\n",
      "lstm (LSTM)                     [(None, 40, 256), (N 394240      embedding[0][0]                  \n",
      "__________________________________________________________________________________________________\n",
      "input_2 (InputLayer)            [(None, None)]       0                                            \n",
      "__________________________________________________________________________________________________\n",
      "lstm_1 (LSTM)                   [(None, 40, 256), (N 525312      lstm[0][0]                       \n",
      "__________________________________________________________________________________________________\n",
      "embedding_1 (Embedding)         (None, None, 128)    1280000     input_2[0][0]                    \n",
      "__________________________________________________________________________________________________\n",
      "lstm_2 (LSTM)                   [(None, 40, 256), (N 525312      lstm_1[0][0]                     \n",
      "__________________________________________________________________________________________________\n",
      "lstm_3 (LSTM)                   [(None, None, 256),  394240      embedding_1[0][0]                \n",
      "                                                                 lstm_2[0][1]                     \n",
      "                                                                 lstm_2[0][2]                     \n",
      "__________________________________________________________________________________________________\n",
      "attention_layer (AttentionLayer ((None, None, 256),  131328      lstm_2[0][0]                     \n",
      "                                                                 lstm_3[0][0]                     \n",
      "__________________________________________________________________________________________________\n",
      "concat_layer (Concatenate)      (None, None, 512)    0           lstm_3[0][0]                     \n",
      "                                                                 attention_layer[0][0]            \n",
      "__________________________________________________________________________________________________\n",
      "dense_1 (Dense)                 (None, None, 10000)  5130000     concat_layer[0][0]               \n",
      "==================================================================================================\n",
      "Total params: 10,940,432\n",
      "Trainable params: 10,940,432\n",
      "Non-trainable params: 0\n",
      "__________________________________________________________________________________________________\n"
     ]
    }
   ],
   "source": [
    "# 어텐션 층(어텐션 함수)\n",
    "attn_layer = AttentionLayer(name='attention_layer')\n",
    "# 인코더와 디코더의 모든 time step의 hidden state를 어텐션 층에 전달하고 결과를 리턴\n",
    "attn_out, attn_states = attn_layer([encoder_outputs, decoder_outputs])\n",
    "\n",
    "# 어텐션의 결과와 디코더의 hidden state들을 연결\n",
    "decoder_concat_input = Concatenate(axis=-1, name='concat_layer')([decoder_outputs, attn_out])\n",
    "\n",
    "# 디코더의 출력층\n",
    "decoder_softmax_layer = Dense(tar_vocab, activation='softmax')\n",
    "decoder_softmax_outputs = decoder_softmax_layer(decoder_concat_input)\n",
    "\n",
    "# 모델 정의\n",
    "model = Model([encoder_inputs, decoder_inputs], decoder_softmax_outputs)\n",
    "model.summary()"
   ]
  },
  {
   "cell_type": "code",
   "execution_count": 77,
   "id": "beneficial-indonesia",
   "metadata": {},
   "outputs": [
    {
     "name": "stdout",
     "output_type": "stream",
     "text": [
      "Epoch 1/50\n",
      "232/232 [==============================] - 183s 726ms/step - loss: 6.7605 - val_loss: 5.9762\n",
      "Epoch 2/50\n",
      "232/232 [==============================] - 169s 727ms/step - loss: 5.9361 - val_loss: 5.6361\n",
      "Epoch 3/50\n",
      "232/232 [==============================] - 168s 726ms/step - loss: 5.5896 - val_loss: 5.3554\n",
      "Epoch 4/50\n",
      "232/232 [==============================] - 169s 730ms/step - loss: 5.2816 - val_loss: 5.1683\n",
      "Epoch 5/50\n",
      "232/232 [==============================] - 169s 728ms/step - loss: 5.0283 - val_loss: 4.9863\n",
      "Epoch 6/50\n",
      "232/232 [==============================] - 167s 718ms/step - loss: 4.8143 - val_loss: 4.8674\n",
      "Epoch 7/50\n",
      "232/232 [==============================] - 168s 724ms/step - loss: 4.6189 - val_loss: 4.7389\n",
      "Epoch 8/50\n",
      "232/232 [==============================] - 169s 727ms/step - loss: 4.4559 - val_loss: 4.6616\n",
      "Epoch 9/50\n",
      "232/232 [==============================] - 169s 728ms/step - loss: 4.3161 - val_loss: 4.5850\n",
      "Epoch 10/50\n",
      "232/232 [==============================] - 169s 728ms/step - loss: 4.1745 - val_loss: 4.5185\n",
      "Epoch 11/50\n",
      "232/232 [==============================] - 168s 727ms/step - loss: 4.0554 - val_loss: 4.4618\n",
      "Epoch 12/50\n",
      "232/232 [==============================] - 169s 730ms/step - loss: 3.9563 - val_loss: 4.4198\n",
      "Epoch 13/50\n",
      "232/232 [==============================] - 170s 734ms/step - loss: 3.8477 - val_loss: 4.3909\n",
      "Epoch 14/50\n",
      "232/232 [==============================] - 169s 729ms/step - loss: 3.7535 - val_loss: 4.3728\n",
      "Epoch 15/50\n",
      "232/232 [==============================] - 169s 730ms/step - loss: 3.6708 - val_loss: 4.3355\n",
      "Epoch 16/50\n",
      "232/232 [==============================] - 169s 730ms/step - loss: 3.5901 - val_loss: 4.3184\n",
      "Epoch 17/50\n",
      "232/232 [==============================] - 170s 735ms/step - loss: 3.5115 - val_loss: 4.3015\n",
      "Epoch 18/50\n",
      "232/232 [==============================] - 169s 727ms/step - loss: 3.4583 - val_loss: 4.3129\n",
      "Epoch 19/50\n",
      "232/232 [==============================] - 169s 731ms/step - loss: 3.3936 - val_loss: 4.2681\n",
      "Epoch 20/50\n",
      "232/232 [==============================] - 169s 730ms/step - loss: 3.3359 - val_loss: 4.2538\n",
      "Epoch 21/50\n",
      "232/232 [==============================] - 170s 735ms/step - loss: 3.2765 - val_loss: 4.2502\n",
      "Epoch 22/50\n",
      "232/232 [==============================] - 169s 729ms/step - loss: 3.2155 - val_loss: 4.2443\n",
      "Epoch 23/50\n",
      "232/232 [==============================] - 170s 732ms/step - loss: 3.1665 - val_loss: 4.2433\n",
      "Epoch 24/50\n",
      "232/232 [==============================] - 170s 731ms/step - loss: 3.1093 - val_loss: 4.2293\n",
      "Epoch 25/50\n",
      "232/232 [==============================] - 169s 729ms/step - loss: 3.0584 - val_loss: 4.2218\n",
      "Epoch 26/50\n",
      "232/232 [==============================] - 170s 732ms/step - loss: 3.0069 - val_loss: 4.2338\n",
      "Epoch 27/50\n",
      "232/232 [==============================] - 169s 728ms/step - loss: 2.9663 - val_loss: 4.2549\n",
      "Epoch 00027: early stopping\n"
     ]
    }
   ],
   "source": [
    "model.compile(optimizer='rmsprop', loss='sparse_categorical_crossentropy')\n",
    "es = EarlyStopping(monitor='val_loss', patience=2, verbose=1)\n",
    "history = model.fit(x=[encoder_input_train, decoder_input_train], y=decoder_target_train, \\\n",
    "          validation_data=([encoder_input_test, decoder_input_test], decoder_target_test), \\\n",
    "          batch_size=256, callbacks=[es], epochs=50)"
   ]
  },
  {
   "cell_type": "code",
   "execution_count": 78,
   "id": "medium-harvey",
   "metadata": {},
   "outputs": [
    {
     "data": {
      "image/png": "[encoded data removed]",
      "text/plain": [
       "<Figure size 432x288 with 1 Axes>"
      ]
     },
     "metadata": {
      "needs_background": "light"
     },
     "output_type": "display_data"
    }
   ],
   "source": [
    "plt.plot(history.history['loss'], label='train')\n",
    "plt.plot(history.history['val_loss'], label='test')\n",
    "plt.legend()\n",
    "plt.vlines(5, 3.5 ,6.5)\n",
    "plt.show()"
   ]
  },
  {
   "cell_type": "markdown",
   "id": "waiting-diploma",
   "metadata": {},
   "source": [
    "### 인퍼런스 모델 구현하기"
   ]
  },
  {
   "cell_type": "code",
   "execution_count": 79,
   "id": "younger-hanging",
   "metadata": {},
   "outputs": [],
   "source": [
    "src_index_to_word = src_tokenizer.index_word # 원문 단어 집합에서 정수 -> 단어를 얻음\n",
    "tar_word_to_index = tar_tokenizer.word_index # 요약 단어 집합에서 단어 -> 정수를 얻음\n",
    "tar_index_to_word = tar_tokenizer.index_word # 요약 단어 집합에서 정수 -> 단어를 얻음"
   ]
  },
  {
   "cell_type": "code",
   "execution_count": 80,
   "id": "incorporated-patrol",
   "metadata": {},
   "outputs": [],
   "source": [
    "# 인코더 설계\n",
    "encoder_model = Model(inputs=encoder_inputs, outputs=[encoder_outputs, state_h, state_c])\n",
    "\n",
    "# 이전 시점의 상태들을 저장하는 텐서\n",
    "decoder_state_input_h = Input(shape=(hidden_size,))\n",
    "decoder_state_input_c = Input(shape=(hidden_size,))\n",
    "\n",
    "dec_emb2 = dec_emb_layer(decoder_inputs)\n",
    "\n",
    "# 문장의 다음 단어를 예측하기 위해서 초기 상태(initial_state)를 이전 시점의 상태로 사용. 이는 뒤의 함수 decode_sequence()에 구현\n",
    "# 훈련 과정에서와 달리 LSTM의 리턴하는 은닉 상태와 셀 상태인 state_h와 state_c를 버리지 않음.\n",
    "decoder_outputs2, state_h2, state_c2 = decoder_lstm(dec_emb2, initial_state=[decoder_state_input_h, decoder_state_input_c])"
   ]
  },
  {
   "cell_type": "code",
   "execution_count": 81,
   "id": "pediatric-saint",
   "metadata": {},
   "outputs": [],
   "source": [
    "# 어텐션 함수\n",
    "decoder_hidden_state_input = Input(shape=(text_max_len, hidden_size))\n",
    "attn_out_inf, attn_states_inf = attn_layer([decoder_hidden_state_input, decoder_outputs2])\n",
    "decoder_inf_concat = Concatenate(axis=-1, name='concat')([decoder_outputs2, attn_out_inf])\n",
    "\n",
    "# 디코더의 출력층\n",
    "decoder_outputs2 = decoder_softmax_layer(decoder_inf_concat) \n",
    "\n",
    "# 최종 디코더 모델\n",
    "decoder_model = Model(\n",
    "    [decoder_inputs] + [decoder_hidden_state_input,decoder_state_input_h, decoder_state_input_c],\n",
    "    [decoder_outputs2] + [state_h2, state_c2])"
   ]
  },
  {
   "cell_type": "code",
   "execution_count": 82,
   "id": "preliminary-rental",
   "metadata": {},
   "outputs": [],
   "source": [
    "def decode_sequence(input_seq):\n",
    "    e_out, e_h, e_c = encoder_model.predict(input_seq)\n",
    "\n",
    "    target_seq = np.zeros((1,1))\n",
    "    target_seq[0, 0] = tar_word_to_index['sostoken']\n",
    "\n",
    "    stop_condition = False\n",
    "    decoded_sentence = ''\n",
    "    while not stop_condition: # stop_condition이 True가 될 때까지 루프 반복\n",
    "\n",
    "        output_tokens, h, c = decoder_model.predict([target_seq] + [e_out, e_h, e_c])\n",
    "        sampled_token_index = np.argmax(output_tokens[0, -1, :])\n",
    "        sampled_token = tar_index_to_word[sampled_token_index]\n",
    "\n",
    "        if (sampled_token!='eostoken'):\n",
    "            decoded_sentence += ' '+sampled_token\n",
    "\n",
    "        #  <eos>에 도달하거나 최대 길이를 넘으면 중단.\n",
    "        if (sampled_token == 'eostoken'  or len(decoded_sentence.split()) >= (headline_max_len-1)):\n",
    "            stop_condition = True\n",
    "\n",
    "        # 길이가 1인 타겟 시퀀스를 업데이트\n",
    "        target_seq = np.zeros((1,1))\n",
    "        target_seq[0, 0] = sampled_token_index\n",
    "\n",
    "        # 상태를 업데이트 합니다.\n",
    "        e_h, e_c = h, c\n",
    "\n",
    "    return decoded_sentence"
   ]
  },
  {
   "cell_type": "markdown",
   "id": "urban-ivory",
   "metadata": {},
   "source": [
    "### 모델 테스트하기"
   ]
  },
  {
   "cell_type": "code",
   "execution_count": 83,
   "id": "relative-mechanics",
   "metadata": {},
   "outputs": [],
   "source": [
    "# 원문의 정수 시퀀스를 텍스트 시퀀스로 변환\n",
    "def seq2text(input_seq):\n",
    "    temp=''\n",
    "    for i in input_seq:\n",
    "        if (i!=0):\n",
    "            temp = temp + src_index_to_word[i]+' '\n",
    "    return temp\n",
    "\n",
    "# 요약문의 정수 시퀀스를 텍스트 시퀀스로 변환\n",
    "def seq2headline(input_seq):\n",
    "    temp=''\n",
    "    for i in input_seq:\n",
    "        if ((i!=0 and i!=tar_word_to_index['sostoken']) and i!=tar_word_to_index['eostoken']):\n",
    "            temp = temp + tar_index_to_word[i] + ' '\n",
    "    return temp"
   ]
  },
  {
   "cell_type": "markdown",
   "id": "structural-istanbul",
   "metadata": {},
   "source": [
    "### Step 4. 실제 결과와 요약문 비교하기 (추상적 요약)"
   ]
  },
  {
   "cell_type": "code",
   "execution_count": 84,
   "id": "prepared-curve",
   "metadata": {},
   "outputs": [
    {
     "name": "stdout",
     "output_type": "stream",
     "text": [
      "원문 : maharashtra government new development plan mumbai legally allows functioning restaurants rooftops city currently rooftop bars restaurants operating mumbai either allowed temporary structures illegal decision comes months fire two rooftop eateries city kamala mills left people dead \n",
      "실제 요약 : new development plan allows eateries on in mumbai \n",
      "예측 요약 :  maharashtra to get new state shops in maharashtra\n",
      "\n",
      "\n",
      "원문 : former windies captain brian lara became first cricketer history score plus runs first class innings june playing durham lara slammed record runs boundaries world record innings lara spent almost eight hours crease knock \n",
      "실제 요약 : lara slammed record in hours hit in and \n",
      "예측 요약 :  years since bradman fastest runs to score in tests\n",
      "\n",
      "\n",
      "원문 : place bay new zealand considered longest place name world letters name roughly translates place man big knees slid climbed swallowed mountains known played loved one \n",
      "실제 요약 : longest place name in the world has letters \n",
      "예측 요약 :  world st player to finish with cycling champion\n",
      "\n",
      "\n",
      "원문 : bengaluru firm idc technologies located provide cab services women pick drop allegedly said responsible women safety log female employee firm met minister priyank kharge bring matter minister assured action formal complaint \n",
      "실제 요약 : not responsible for women safety after work luru firm \n",
      "예측 요약 :  bengaluru to get lakh women for women\n",
      "\n",
      "\n",
      "원문 : actress sushmita sen shared video instagram younger daughter seen dancing singer ed sheeran song shape two seen dancing pool sushmita elder daughter renee also features video shows different moments sushmita vacation daughters \n",
      "실제 요약 : sushmita sen daughter dance to ed sheeran shape of you \n",
      "예측 요약 :  sushmita shares pic with rumoured girlfriend from wife\n",
      "\n",
      "\n",
      "원문 : video china shows fu master using rope attached penis tow tonne bus fu master said achieved feat earlier month meanwhile earlier video went viral showed chinese fu master teaching students iron fu \n",
      "실제 요약 : master uses his penis to bus \n",
      "예측 요약 :  chinese man builds ft tunnel with climbers\n",
      "\n",
      "\n",
      "원문 : australia based researchers discovered rocks queensland bearing striking similarities found canada suggesting part northern australia part north america billion years ago researchers suggested originally part north america stuck australia assembled away broke later \n",
      "실제 요약 : billion year old part of canada found stuck to australia \n",
      "예측 요약 :  scientists reveal new species of spider species\n",
      "\n",
      "\n",
      "원문 : arjun rampal speaking salman khan conviction blackbuck poaching case tweeted feel helpless harsh hope gets relief deserves subhash ghai also took twitter wrote extremely shocked hear salman convicted also full trust indian judiciary doors appeal final justice whatsoever \n",
      "실제 요약 : feel it is too harsh rampal on salman conviction \n",
      "예측 요약 :  salman khan is not paying salman khan\n",
      "\n",
      "\n",
      "원문 : video footage captured moment plane crashed tree falling ground united states nine year old flying plane crashed managed survive walk away site person flight taken hospital minor injuries \n",
      "실제 요약 : plane crashes into tree pilot survives and walks away \n",
      "예측 요약 :  video shows crash on crash crashes into pilot\n",
      "\n",
      "\n",
      "원문 : woman stoned death somalia al qaeda linked al shabaab militant group accused marrying men without seeking divorce islamist militant group follows sharia laws areas control imposes strict punishments women death adultery hands thieves \n",
      "실제 요약 : woman to death by islamists for marrying men \n",
      "예측 요약 :  woman killed in isis isis murder case\n",
      "\n",
      "\n",
      "원문 : accidental prime minister director vijay talking upcoming film said want people media talk film political agenda moment political party showed gesture promoting film unfortunately focus shifted creative side story political debate added \n",
      "실제 요약 : talk about film not political agenda the accidental maker \n",
      "예측 요약 :  baahubali is no political film director on pm\n",
      "\n",
      "\n",
      "원문 : following gst rollout gst network receiving average calls per day traders taxpayers chairman kumar said call centre operates noida team around executives help traders adapt new tax regime notably gst network handle crore transactions month \n",
      "실제 요약 : gst network receives calls per day says chairman \n",
      "예측 요약 :  gst council changes gst on gst\n",
      "\n",
      "\n",
      "원문 : afghanistan pacer delivery bangladesh hossain broke leg stump two first two sides sunday hossain facing first delivery tried stay back took swing delivery missed second bowled dismissal \n",
      "실제 요약 : afghanistan pacer breaks stump into two against bangladesh \n",
      "예측 요약 :  afghanistan afghanistan captain inaugurates sl match\n",
      "\n",
      "\n",
      "원문 : us president donald trump former national security adviser michael flynn friday pleaded guilty lying fbi investigation related russia meddling presidential elections charged making false statements contacts russia ambassador us sergey three former trump aides previously charged making false statements \n",
      "실제 요약 : trump former nsa pleads guilty to lying about russia links \n",
      "예측 요약 :  trump accuses fbi chief of russia\n",
      "\n",
      "\n",
      "원문 : mumbai police registered least cases drunk driving till new year day official said actions like imposition fine driving licenses taken added till midnight december police caught total people found drunk \n",
      "실제 요약 : people caught drunk driving in mumbai on new year \n",
      "예측 요약 :  police police to get fine for driving drivers\n",
      "\n",
      "\n",
      "원문 : ayushmann khurrana said rule breaker adding important rule breaker day age someone norms like first film said ayushmann added benefits choices made \n",
      "실제 요약 : being rule has been my ayushmann khurrana \n",
      "예측 요약 :  am not ayushmann on ayushmann\n",
      "\n",
      "\n",
      "원문 : nun filed police complaint kerala kottayam catholic bishop diocese north india alleging sexually abused times nun claimed initially approached church authorities avail accused bishop also filed counter complaint claiming nun taking revenge transferring \n",
      "실제 요약 : nun alleges kerala bishop sexually abused her times \n",
      "예측 요약 :  kerala church accused of sexually abusing child abuse\n",
      "\n",
      "\n",
      "원문 : sofia year old ukrainian model death captured livestream filming friend drinking driving driving speed drinking alcohol bottles bmw car smashed head lamp post video reportedly showed pair high spirits moments accident nnnnn \n",
      "실제 요약 : year old ukrainian model death captured on \n",
      "예측 요약 :  ex man who stole car with car\n",
      "\n",
      "\n",
      "원문 : delhi metro rail corporation said inauguration delhi metro magenta line track pm narendra modi inaugurate section december dmrc urged people panic questioned safety driverless technology comes metro train rammed boundary wall trial run \n",
      "실제 요약 : delhi metro magenta line inauguration on track officials \n",
      "예측 요약 :  delhi metro to launch metro magenta line\n",
      "\n",
      "\n",
      "원문 : residents fail construct toilet homes south andaman district december end would face strict action including imprisonment according district authorities order comes prime minister office issued directions make island open defecation free capital andaman nicobar islands port blair declared october \n",
      "실제 요약 : andaman residents without toilet at home may be jailed \n",
      "예측 요약 :  bridge to get toilets in bangladesh\n",
      "\n",
      "\n",
      "원문 : banaras hindu university students protested history question paper asked discuss triple talaq halala social islam students alleged university administration trying impose particular ideology education teach history islam teach things assistant professor rajiv srivastava said \n",
      "실제 요약 : bhu exam asks questions on triple talaq as social \n",
      "예측 요약 :  jnu students protest against triple talaq\n",
      "\n",
      "\n",
      "원문 : canadian tattoo model got purple ink injected white part reportedly gone partially blind uploaded photos social media showing ink eye day procedure alleged tattoo artist used large needle instead small one went deep eye \n",
      "실제 요약 : model gets her goes partially blind \n",
      "예측 요약 :  artist makes free art cycle to promote art\n",
      "\n",
      "\n",
      "원문 : government wednesday approved incentives amounting crore merchant exporters select goods enhance liquidity view boosting shipments exporters get interest subsidy pre shipment post shipment bank credit move aims boost export farm produce textiles leather goods \n",
      "실제 요약 : govt approves cr subsidy for of select goods \n",
      "예측 요약 :  govt approves cr for first time in years\n",
      "\n",
      "\n",
      "원문 : london based environmental investigation agency claimed factories ten chinese provinces admitted using used create cheap home insulation ozone layer protects earth harmful solar radiation comes scientists found levels rise per year since despite global ban since \n",
      "실제 요약 : chinese firms accused for banned ozone killing emissions \n"
     ]
    },
    {
     "name": "stdout",
     "output_type": "stream",
     "text": [
      "예측 요약 :  us police to use of chinese drones\n",
      "\n",
      "\n",
      "원문 : us woman claimed suffering second degree burns arm wrist fitbit flex fitness tracker wearing exploded burst flames woman said doctor remove pieces rubber plastic injured arm fitbit said aware claim investigating incident \n",
      "실제 요약 : woman claims of second degree burns from fitbit explosion \n",
      "예측 요약 :  woman accidentally shoots inside live during live in\n",
      "\n",
      "\n",
      "원문 : answering question farmer suicides chhattisgarh agriculture minister agrawal said countries cities developed see suicides common man poor man never commits suicide asserting government schemes helped increase farmers annual income said farmer committed suicide agriculture related issues \n",
      "실제 요약 : big cities see suicides poor man never kills self minister \n",
      "예측 요약 :  cm announces cm for suicide that killed in\n",
      "\n",
      "\n",
      "원문 : security agencies put four airports across india high alert till december receiving calls potential bomb threat security increased delhi mumbai lucknow hyderabad airports past days woman called lucknow airport inform passenger would travelling explosives reports said \n",
      "실제 요약 : airports on high alert after bomb threat call \n",
      "예측 요약 :  cisf security officers to be deployed in delhi airport\n",
      "\n",
      "\n",
      "원문 : right wing extremists gathered saturday attend neo nazi rally germany berlin extremists marched commemorate th death anniversary top nazi official directed german authorities glorify nazi regime however forced retreat nearly counter protesters blocked rally \n",
      "실제 요약 : over attend neo nazi rally in berlin \n",
      "예측 요약 :  ukraine declares first ever independence day parade\n",
      "\n",
      "\n",
      "원문 : oscar winning duo composer ar rahman lyricist gulzar creating anthem song upcoming men hockey world cup set held odisha later year nothing says india beloved sport hockey said rahman perform song live opening ceremony november \n",
      "실제 요약 : ar rahman gulzar creating anthem song for hockey wc \n",
      "예측 요약 :  ar rahman rahman to become world cup\n",
      "\n",
      "\n",
      "원문 : nasa ongoing decades long survey polar ice captured picture appears shaped iceberg iceberg sharp angles flat surface indicate probably recently ice shelf agency said iceberg found antarctica larsen ice shelf yet measured researchers \n",
      "실제 요약 : shaped iceberg found in nasa sea ice survey \n",
      "예측 요약 :  iss captures ice earth in the sea\n",
      "\n",
      "\n",
      "원문 : disney tuesday announced hiring david benioff db creators hbo series game thrones write produce new series star wars films series separate star wars saga recently announced trilogy release dates plot details revealed yet \n",
      "실제 요약 : game of thrones creators to write new star wars films \n",
      "예측 요약 :  new game of thrones episode revealed\n",
      "\n",
      "\n",
      "원문 : easyjet seeking answers worker france nice airport punched passenger holding baby terminal hour delay picture incident circulated online man went talked frenchman frenchman reply smiled guy another passenger said \n",
      "실제 요약 : man with baby by airport staff after hour delay \n",
      "예측 요약 :  mumbai civic body leaves woman for wearing helmet\n",
      "\n",
      "\n",
      "원문 : examinations aligarh muslim university postponed till may amid ongoing protest pakistan founder muhammad ali jinnah portrait hanging university students union office protest started aligarh bjp mp satish gautam wrote university vice chancellor asking explain portrait still hanging campus \n",
      "실제 요약 : amu exams postponed till may amid jinnah portrait row \n",
      "예측 요약 :  hc bans triple talaq on violence during army event\n",
      "\n",
      "\n",
      "원문 : social media major facebook lost copyright infringement case italian social media company facebook filed legal complaint company alleging similar structural visual design italy patent office ruled highly average user confuse two brands \n",
      "실제 요약 : facebook loses copyright infringement case against \n",
      "예측 요약 :  facebook sued over fake news on fb\n",
      "\n",
      "\n",
      "원문 : sweden rejected asylum application known world oldest refugee according reports year old reportedly fled afghanistan via iran turkey greece croatia ending sweden per decision must return afghanistan country willing take \n",
      "실제 요약 : sweden to deport world oldest refugee aged \n",
      "예측 요약 :  uk rejects world first ever person\n",
      "\n",
      "\n",
      "원문 : bjp worker sooraj arrested allegedly posting derogatory comment cpi mla george sooraj stated facebook post dear mla madam would helpful address issue beauty parlours george claimed sooraj tried incite communal hatred insult woman \n",
      "실제 요약 : bjp worker arrested for criticising cpi mla on facebook \n",
      "예측 요약 :  bjp worker arrested for posting derogatory picture with twitter\n",
      "\n",
      "\n",
      "원문 : couple bought street wealthy neighbourhood terrace san francisco residents may take matter court unaware street put sale auction regain unpaid back taxes association failed pay three decade old property tax \n",
      "실제 요약 : couple buys entire street in area anger residents \n",
      "예측 요약 :  couple in london to get married in\n",
      "\n",
      "\n",
      "원문 : apple director fitness health technologies jay said company fitness lab collected hours exercise data claimed lab collected data activity exercise human performance study history past five years lab logged sessions involving unique participants added \n",
      "실제 요약 : apple fitness lab collected hours of exercise data \n",
      "예측 요약 :  apple confirms its first computer to be\n",
      "\n",
      "\n",
      "원문 : google spinoff waymo announced deployed self driving cars without driver behind wheel public roads arizona us waymo also said passengers begin riding self driving next months test without human driver seat first race develop fully autonomous cars \n",
      "실제 요약 : waymo deploys self driving cars without driver behind wheel \n",
      "예측 요약 :  google waymo self driving cars in self driving cars\n",
      "\n",
      "\n",
      "원문 : bjp kerala unit president rajasekharan appointed governor mizoram friday year old leader held key positions several hindu outfits started working rss known launching agitations caste hierarchy leading movement aimed protecting temple lands encroachment \n",
      "실제 요약 : bjp leader appointed mizoram governor \n",
      "예측 요약 :  tripura cm resigns from assembly for th time\n",
      "\n",
      "\n",
      "원문 : defence minister arun jaitley wednesday said india learnt lesson war china adding armed forces made fully capable compared forces made stronger wars asserted talking ongoing standoff jaitley said china made major movement towards borders \n",
      "실제 요약 : india learnt lesson from war with china in jaitley \n",
      "예측 요약 :  india should be like us in afghanistan jaitley\n",
      "\n",
      "\n",
      "원문 : least newborns died civil hospital ahmedabad within hours since friday gujarat government ordered probe circumstances causes deaths chief minister vijay rupani also visited hospital sunday assured action case deaths caused due negligence lack facilities \n",
      "실제 요약 : die at gujarat civil hospital in hours \n",
      "예측 요약 :  die as die in hours at gorakhpur hospital hospital\n",
      "\n",
      "\n",
      "원문 : technology company unveiled plays white noise help sleep unveiled ces built sensors users forehead detect brain activity shares data connected mobile app deep sleep detected speakers start playing white noise slow repeating pattern \n",
      "실제 요약 : that plays white noise to help sleep unveiled \n",
      "예측 요약 :  unveils smart laptop with smart unveiled\n",
      "\n",
      "\n",
      "원문 : flights mumbai airport cancelled within hours due heavy rainfall city according reports main runway airport closed spicejet flight carrying people tuesday efforts remove aircraft underway nearly hours main runway reopened \n",
      "실제 요약 : over flights cancelled at mumbai airport in hours \n",
      "예측 요약 :  flights runway in mumbai airport due to heavy rains\n",
      "\n",
      "\n",
      "원문 : commerce minister suresh prabhu termed us decision impose tariffs imported steel aluminium unfortunate development president donald trump signed two tariff steel tariff aluminium imports countries except canada mexico committed free trade taken note prabhu added \n",
      "실제 요약 : us steel tariff decision unfortunate development prabhu \n",
      "예측 요약 :  india trade war trade war in us govt suresh\n",
      "\n",
      "\n",
      "원문 : american construction technology startup icon developed method building single storey house cement within hours printing technology startup claimed produce square foot house current cost building house however startup plans reduce cost per house \n",
      "실제 요약 : us based startup builds printed house within hours \n",
      "예측 요약 :  startup develops scooter startup to be\n",
      "\n",
      "\n",
      "원문 : trailer assassin creed origins th newest installment assassin creed franchise released convention open map game set ancient egypt displays origins rivalry game available pc ps xbox one platforms october \n",
      "실제 요약 : trailer for released \n"
     ]
    },
    {
     "name": "stdout",
     "output_type": "stream",
     "text": [
      "예측 요약 :  trailer of disney released\n",
      "\n",
      "\n",
      "원문 : least people killed others injured suicide bombing shrine balochistan district suicide attacker tried enter shrine blew stopped police last year least people killed explosion another shrine balochistan \n",
      "실제 요약 : at least killed in suicide explosion in balochistan \n",
      "예측 요약 :  killed injured in suicide attack in jammu\n",
      "\n",
      "\n",
      "원문 : commerce giant alibaba said singles day sales surpassed last year total hours hitting record high billion alibaba recorded sales billion last year singles day sale net worth goods sold alibaba platforms reached billion hour sale started midnight \n",
      "실제 요약 : alibaba singles day breaks sales record at bn in hrs \n",
      "예측 요약 :  amazon overtakes microsoft as most valued company for bn\n",
      "\n",
      "\n",
      "원문 : diana penty made bollywood debut cocktail said time debut film second film happy bhag jayegi released confusing took figure proceed direction take added time new industry said \n",
      "실제 요약 : time between happy bhag was diana \n",
      "예측 요약 :  happy film with the theatres\n",
      "\n",
      "\n"
     ]
    }
   ],
   "source": [
    "for i in range(50, 100):\n",
    "    print(\"원문 :\", seq2text(encoder_input_test[i]))\n",
    "    print(\"실제 요약 :\", seq2headline(decoder_input_test[i]))\n",
    "    print(\"예측 요약 :\", decode_sequence(encoder_input_test[i].reshape(1, text_max_len)))\n",
    "    print(\"\\n\")"
   ]
  },
  {
   "cell_type": "markdown",
   "id": "infrared-hudson",
   "metadata": {},
   "source": [
    "### Summa을 이용한 추출적 요약"
   ]
  },
  {
   "cell_type": "code",
   "execution_count": 85,
   "id": "incorporated-training",
   "metadata": {},
   "outputs": [
    {
     "name": "stdout",
     "output_type": "stream",
     "text": [
      "summa                         1.2.0\n",
      "\u001b[33mWARNING: You are using pip version 20.3.3; however, version 21.2.4 is available.\n",
      "You should consider upgrading via the '/opt/conda/bin/python -m pip install --upgrade pip' command.\u001b[0m\n",
      "Note: you may need to restart the kernel to use updated packages.\n"
     ]
    }
   ],
   "source": [
    "pip list | grep summa"
   ]
  },
  {
   "cell_type": "code",
   "execution_count": 86,
   "id": "defensive-royal",
   "metadata": {},
   "outputs": [],
   "source": [
    "import requests\n",
    "from summa.summarizer import summarize"
   ]
  },
  {
   "cell_type": "code",
   "execution_count": 95,
   "id": "extended-disaster",
   "metadata": {},
   "outputs": [],
   "source": [
    "data_ex = pd.read_csv('news_summary_more.csv', encoding='iso-8859-1')"
   ]
  },
  {
   "cell_type": "code",
   "execution_count": 102,
   "id": "unlike-aspect",
   "metadata": {},
   "outputs": [
    {
     "data": {
      "text/html": [
       "<div>\n",
       "<style scoped>\n",
       "    .dataframe tbody tr th:only-of-type {\n",
       "        vertical-align: middle;\n",
       "    }\n",
       "\n",
       "    .dataframe tbody tr th {\n",
       "        vertical-align: top;\n",
       "    }\n",
       "\n",
       "    .dataframe thead th {\n",
       "        text-align: right;\n",
       "    }\n",
       "</style>\n",
       "<table border=\"1\" class=\"dataframe\">\n",
       "  <thead>\n",
       "    <tr style=\"text-align: right;\">\n",
       "      <th></th>\n",
       "      <th>headlines</th>\n",
       "      <th>text</th>\n",
       "    </tr>\n",
       "  </thead>\n",
       "  <tbody>\n",
       "    <tr>\n",
       "      <th>0</th>\n",
       "      <td>upGrad learner switches to career in ML &amp; Al w...</td>\n",
       "      <td>Saurav Kant, an alumnus of upGrad and IIIT-B's...</td>\n",
       "    </tr>\n",
       "    <tr>\n",
       "      <th>1</th>\n",
       "      <td>Delhi techie wins free food from Swiggy for on...</td>\n",
       "      <td>Kunal Shah's credit card bill payment platform...</td>\n",
       "    </tr>\n",
       "    <tr>\n",
       "      <th>2</th>\n",
       "      <td>New Zealand end Rohit Sharma-led India's 12-ma...</td>\n",
       "      <td>New Zealand defeated India by 8 wickets in the...</td>\n",
       "    </tr>\n",
       "    <tr>\n",
       "      <th>3</th>\n",
       "      <td>Aegon life iTerm insurance plan helps customer...</td>\n",
       "      <td>With Aegon Life iTerm Insurance plan, customer...</td>\n",
       "    </tr>\n",
       "    <tr>\n",
       "      <th>4</th>\n",
       "      <td>Have known Hirani for yrs, what if MeToo claim...</td>\n",
       "      <td>Speaking about the sexual harassment allegatio...</td>\n",
       "    </tr>\n",
       "  </tbody>\n",
       "</table>\n",
       "</div>"
      ],
      "text/plain": [
       "                                           headlines  \\\n",
       "0  upGrad learner switches to career in ML & Al w...   \n",
       "1  Delhi techie wins free food from Swiggy for on...   \n",
       "2  New Zealand end Rohit Sharma-led India's 12-ma...   \n",
       "3  Aegon life iTerm insurance plan helps customer...   \n",
       "4  Have known Hirani for yrs, what if MeToo claim...   \n",
       "\n",
       "                                                text  \n",
       "0  Saurav Kant, an alumnus of upGrad and IIIT-B's...  \n",
       "1  Kunal Shah's credit card bill payment platform...  \n",
       "2  New Zealand defeated India by 8 wickets in the...  \n",
       "3  With Aegon Life iTerm Insurance plan, customer...  \n",
       "4  Speaking about the sexual harassment allegatio...  "
      ]
     },
     "execution_count": 102,
     "metadata": {},
     "output_type": "execute_result"
    }
   ],
   "source": [
    "data_ex.head()"
   ]
  },
  {
   "cell_type": "code",
   "execution_count": 105,
   "id": "recorded-flower",
   "metadata": {},
   "outputs": [
    {
     "name": "stdout",
     "output_type": "stream",
     "text": [
      "원문 : Saurav Kant, an alumnus of upGrad and IIIT-B's PG Program in Machine learning and Artificial Intelligence, was a Sr Systems Engineer at Infosys with almost 5 years of work experience. The program and upGrad's 360-degree career support helped him transition to a Data Scientist at Tech Mahindra with 90% salary hike. upGrad's Online Power Learning has powered 3 lakh+ careers.\n",
      "실제 요약 : upGrad learner switches to career in ML & Al with 90% salary hike\n",
      "추출적 요약 : upGrad's Online Power Learning has powered 3 lakh+ careers.\n",
      "\n",
      "\n",
      "원문 : Kunal Shah's credit card bill payment platform, CRED, gave users a chance to win free food from Swiggy for one year. Pranav Kaushik, a Delhi techie, bagged this reward after spending 2000 CRED coins. Users get one CRED coin per rupee of bill paid, which can be used to avail rewards from brands like Ixigo, BookMyShow, UberEats, Cult.Fit and more.\n",
      "실제 요약 : Delhi techie wins free food from Swiggy for one year on CRED\n",
      "추출적 요약 : Users get one CRED coin per rupee of bill paid, which can be used to avail rewards from brands like Ixigo, BookMyShow, UberEats, Cult.Fit and more.\n",
      "\n",
      "\n",
      "원문 : New Zealand defeated India by 8 wickets in the fourth ODI at Hamilton on Thursday to win their first match of the five-match ODI series. India lost an international match under Rohit Sharma's captaincy after 12 consecutive victories dating back to March 2018. The match witnessed India getting all out for 92, their seventh lowest total in ODI cricket history.\n",
      "실제 요약 : New Zealand end Rohit Sharma-led India's 12-match winning streak\n",
      "추출적 요약 : The match witnessed India getting all out for 92, their seventh lowest total in ODI cricket history.\n",
      "\n",
      "\n",
      "원문 : With Aegon Life iTerm Insurance plan, customers can enjoy tax benefits on your premiums paid and save up to Ã¢ÂÂ¹46,800^ on taxes. The plan provides life cover up to the age of 100 years. Also, customers have options to insure against Critical Illnesses, Disability and Accidental Death Benefit Rider with a life cover up to the age of 80 years.\n",
      "실제 요약 : Aegon life iTerm insurance plan helps customers save tax\n",
      "추출적 요약 : Also, customers have options to insure against Critical Illnesses, Disability and Accidental Death Benefit Rider with a life cover up to the age of 80 years.\n",
      "\n",
      "\n",
      "원문 : Speaking about the sexual harassment allegations against Rajkumar Hirani, Sonam Kapoor said, \"I've known Hirani for many years...What if it's not true, the [#MeToo] movement will get derailed.\" \"In the #MeToo movement, I always believe a woman. But in this case, we need to reserve our judgment,\" she added. Hirani has been accused by an assistant who worked in 'Sanju'.\n",
      "실제 요약 : Have known Hirani for yrs, what if MeToo claims are not true: Sonam\n",
      "추출적 요약 : Speaking about the sexual harassment allegations against Rajkumar Hirani, Sonam Kapoor said, \"I've known Hirani for many years...What if it's not true, the [#MeToo] movement will get derailed.\" \"In the #MeToo movement, I always believe a woman.\n",
      "\n",
      "\n",
      "원문 : Pakistani singer Rahat Fateh Ali Khan has denied receiving any notice from the Enforcement Directorate over allegedly smuggling foreign currency out of India. \"It would have been better if the authorities would have served the notice first if any and then publicised this,\" reads a press release issued on behalf of Rahat. The statement further called the allegation \"bizarre\".\n",
      "실제 요약 : Rahat Fateh Ali Khan denies getting notice for smuggling currency\n",
      "추출적 요약 : Pakistani singer Rahat Fateh Ali Khan has denied receiving any notice from the Enforcement Directorate over allegedly smuggling foreign currency out of India.\n",
      "\n",
      "\n",
      "원문 : India recorded their lowest ODI total in New Zealand after getting all out for 92 runs in 30.5 overs in the fourth ODI at Hamilton on Thursday. Seven of India's batsmen were dismissed for single-digit scores, while their number ten batsman Yuzvendra Chahal top-scored with 18*(37). India's previous lowest ODI total in New Zealand was 108.\n",
      "실제 요약 : India get all out for 92, their lowest ODI total in New Zealand\n",
      "추출적 요약 : India's previous lowest ODI total in New Zealand was 108.\n",
      "\n",
      "\n",
      "원문 : Weeks after ex-CBI Director Alok Verma told the Department of Personnel and Training to consider him retired, the Home Ministry asked him to join work on the last day of his fixed tenure as Director on Thursday. The ministry directed him to immediately join as DG, Fire Services, the post he was transferred to after his removal as CBI chief.\n",
      "실제 요약 : Govt directs Alok Verma to join work 1 day before his retirement\n",
      "추출적 요약 : \n",
      "\n",
      "\n",
      "원문 : Andhra Pradesh CM N Chandrababu Naidu has said, \"When I met then US President Bill Clinton, I addressed him as Mr Clinton, not as 'sir'. (PM Narendra) Modi is my junior in politics...I addressed him as sir 10 times.\" \"I did this...to satisfy his ego in the hope that he will do justice to the state,\" he added.\n",
      "실제 요약 : Called PM Modi 'sir' 10 times to satisfy his ego: Andhra CM\n",
      "추출적 요약 : \n",
      "\n",
      "\n",
      "원문 : Congress candidate Shafia Zubair won the Ramgarh Assembly seat in Rajasthan, by defeating BJP's Sukhwant Singh with a margin of 12,228 votes in the bypoll. With this victory, Congress has taken its total to 100 seats in the 200-member assembly. The election to the Ramgarh seat was delayed due to the death of sitting MLA and BSP candidate Laxman Singh.\n",
      "실제 요약 : Cong wins Ramgarh bypoll in Rajasthan, takes total to 100 seats\n",
      "추출적 요약 : Congress candidate Shafia Zubair won the Ramgarh Assembly seat in Rajasthan, by defeating BJP's Sukhwant Singh with a margin of 12,228 votes in the bypoll.\n",
      "\n",
      "\n",
      "원문 : Two minor cousins in Uttar Pradesh's Gorakhpur were allegedly repeatedly burnt with tongs and forced to eat human excreta by their family for being friends with two boys from the same school. The cousins revealed their ordeal to the police and Child Welfare Committee after being brought back to Gorakhpur from Nepal, where they had fled to escape the torture.\n",
      "실제 요약 : UP cousins fed human excreta for friendship with boys\n",
      "추출적 요약 : \n",
      "\n",
      "\n",
      "원문 : Isha Ghosh, an 81-year-old member of Bharat Scouts and Guides (BSG), has been imparting physical and mental training to schoolchildren in Jharkhand for several decades. Chaibasa-based Ghosh reportedly walks seven kilometres daily and spends eight hours conducting physical training, apart from climbing and yoga sessions. She says, \"One should do something for society till one's last breath.\"\n",
      "실제 요약 : 81-yr-old woman conducts physical training in J'khand schools\n",
      "추출적 요약 : Isha Ghosh, an 81-year-old member of Bharat Scouts and Guides (BSG), has been imparting physical and mental training to schoolchildren in Jharkhand for several decades.\n",
      "\n",
      "\n",
      "원문 : Urging saints and seers at the Kumbh Mela to quit smoking, Yoga guru Ramdev said, \"We follow Ram and Krishna who never smoked in their life then why should we?\" Making them take a pledge to quit tobacco, he collected chillum (clay pipe) from several sadhus. He said he will deposit the chillums for display at a museum he'll build.\n",
      "실제 요약 : Ram, Krishna didn't smoke, why should we: Ramdev to sadhus at Kumbh\n",
      "추출적 요약 : \n",
      "\n",
      "\n",
      "원문 : Former stripper and regional sales director of a pharmaceutical company, Sunrise Lee, gave a doctor a lap dance in a nightclub to persuade him to prescribe an addictive fentanyl spray in 2012, the company's sales representative told a US court. She said she saw Lee \"sitting on [doctor's] lap, kind of bouncing around.\" Lee has been accused of bribing doctors.\n",
      "실제 요약 : Pharma exec gave doctor a lap dance to sell medicine in US: Witness\n",
      "추출적 요약 : \n",
      "\n",
      "\n",
      "원문 : Reliance Industries' Chairman Mukesh Ambani's daughter Isha Ambani, who got married last month, said she only cried at her 'bidaai' because she felt peer pressure as everyone was crying, especially her parents. \"I was emotional too but everyone around me would cry all the time,\" she added. \"It was a very emotional affair for everyone in my family,\" said Isha.\n",
      "실제 요약 :  I only cried at my 'bidaai' as I felt peer pressure: Isha Ambani\n",
      "추출적 요약 : \"It was a very emotional affair for everyone in my family,\" said Isha.\n",
      "\n",
      "\n",
      "원문 : Louis Vuitton owner LVMH, which makes high-end beverages like MoÃÂ«t & Chandon champagne and Hennessy cognac, said it's stockpiling four months' worth of wine and spirits in UK in preparation for Brexit. \"We're ready for worst case scenario if there are difficulties with deliveries,\" the French luxury giant said. The UK is scheduled to leave the EU on March 29.\n",
      "실제 요약 : Louis Vuitton owner to stockpile 4 months of wine, spirits in UK\n",
      "추출적 요약 : Louis Vuitton owner LVMH, which makes high-end beverages like MoÃÂ«t & Chandon champagne and Hennessy cognac, said it's stockpiling four months' worth of wine and spirits in UK in preparation for Brexit.\n",
      "\n",
      "\n",
      "원문 : Filmmaker Karan Johar and actress Tabu turned showstoppers for Gaurav Gupta on the opening night of LakmÃÂ© Fashion Week Summer/ Resort 2019. While Johar wore a red sequinned jacket with black pants, Tabu walked the ramp in a grey embellished gown. The fashion show, which began on January 29, will continue till February 3.\n",
      "실제 요약 : Karan Johar, Tabu turn showstoppers on opening night of LFW\n",
      "추출적 요약 : Filmmaker Karan Johar and actress Tabu turned showstoppers for Gaurav Gupta on the opening night of LakmÃÂ© Fashion Week Summer/ Resort 2019.\n",
      "\n",
      "\n",
      "원문 : In a jibe at Congress President Rahul Gandhi, PM Narendra Modi on Wednesday said those on \"bail will have to go to jail.\" PM Modi added, \"He is out on bail and his associates too are facing charges...I know they will be convicted one day.\" The PM claimed he'd waged a war on corruption because he's from a common household. \n",
      "실제 요약 : Those on bail will go to jail: PM Modi takes jibe at Rahul\n",
      "추출적 요약 : \n",
      "\n",
      "\n",
      "원문 : Days after he threatened to step down from his post if Congress MLAs continue \"crossing the line,\" Karnataka Chief Minister HD Kumaraswamy accused them of taking potshots and asked, \"How many more days can I tolerate such stuff?\" Kumaraswamy, who made the statements after a Congress MLA demanded that Siddaramaiah be made CM again, said, \"Power is ephemeral.\"\n",
      "실제 요약 : How long can I tolerate Congress leaders' potshots: K'taka CM\n",
      "추출적 요약 : \n",
      "\n",
      "\n",
      "원문 : Union Minister Dharmendra Pradhan on Wednesday claimed the illegal mining mafia in Odisha operates under the control of CM Naveen Patnaik and state Congress chief Niranjan Patnaik. He added, \"The time has come for the people of Odisha to put a full stop to their activities...The time has come for us to ask for an explanation from this corrupt government.\"\n",
      "실제 요약 : Odisha CM Patnaik controls mining mafia: Union Minister\n",
      "추출적 요약 : \n",
      "\n",
      "\n",
      "원문 : Claiming there is a dearth of ideas among opposition parties, Prime Minister Narendra Modi on Wednesday said, \"The opposition talks only about Modi the whole day, I suspect they even dream about me.\" PM Modi, who was addressing the New India Youth Conclave inÃ¢ÂÂ Surat, added that the opposition parties have only one agenda which is \"Modi\". \n",
      "실제 요약 : I think the opposition even dreams about me: PM Modi\n",
      "추출적 요약 : \n",
      "\n",
      "\n",
      "원문 : The Indian Space Research Organisation on Wednesday unveiled Human Space Flight Centre in Bengaluru for its Ã¢ÂÂ¹10,000-crore manned space mission 'Gaganyaan' scheduled for 2021. ISRO said the centre will be responsible for development of engineering systems for crew survival in space and crew selection and training. It'll also pursue activities for sustained human space flight missions, ISRO added.\n",
      "실제 요약 : ISRO unveils Bengaluru centre for manned space mission \n",
      "추출적 요약 : It'll also pursue activities for sustained human space flight missions, ISRO added.\n",
      "\n",
      "\n",
      "원문 : At least 12 people have been killed and 170 others have been injured in Saudi Arabia this week due to flooding from heavy rain. The emergency services rescued 271 people from the flooded areas, more than half of them in Tabuk. Heavy rains hit mainly western and northwestern parts of Saudi Arabia, near its border with Jordan.\n",
      "실제 요약 : 12 killed, 170 injured in Saudi Arabia floods\n",
      "추출적 요약 : At least 12 people have been killed and 170 others have been injured in Saudi Arabia this week due to flooding from heavy rain.\n",
      "\n",
      "\n",
      "원문 : Reliance Industries' Chairman Mukesh Ambani's daughter Isha Ambani has featured on the cover of the February edition of Vogue India. She's dressed in a white shirt dress and black ruffled skirt by Australian designer Toni Maticevski, while accessorising her look with a Misho ring. In the cover story on her, Isha has spoken about her work and life after marriage.\n",
      " \n",
      "실제 요약 : Isha Ambani features on February cover of Vogue magazine\n",
      "추출적 요약 : Reliance Industries' Chairman Mukesh Ambani's daughter Isha Ambani has featured on the cover of the February edition of Vogue India.\n",
      "\n",
      "\n",
      "원문 : Indian Oil Corporation on Wednesday said it's looking for an annual deal to buy US crude as it seeks to broaden oil purchasing options. This comes amid uncertainties over Iran imports. The US had in November granted a six-month waiver to India from sanctions against Iran and restricted the country's monthly intake of Iranian oil to 3,00,000 barrels per day.\n",
      "\n",
      "\n",
      "실제 요약 : Indian Oil looking for annual deal to buy crude from US\n",
      "추출적 요약 : The US had in November granted a six-month waiver to India from sanctions against Iran and restricted the country's monthly intake of Iranian oil to 3,00,000 barrels per day.\n",
      "\n",
      "\n",
      "원문 : Former Windies fast bowler Curtly Ambrose dismissed seven Australian batsmen within a span of 32 balls giving away just one run, in a Test match on January 30, 1993. Ambrose's spell helped his team bowl out Australia for 119 in the first innings, after being 85 for 2 at one point. Ambrose ended with first-innings figures of 18-9-25-7.\n",
      "실제 요약 : Pacer once took 7 wickets for just 1 run in 32 balls in a Test\n",
      "추출적 요약 : Ambrose ended with first-innings figures of 18-9-25-7.\n",
      "\n",
      "\n",
      "원문 : A London zoo is offering people to name a cockroach after their exes on Valentine's Day for ÃÂ£1.50 (nearly Ã¢ÂÂ¹140). \"For those that don't quite require revenge, there's another way to make you feel better about getting back at your ex,\" the zoo said in a statement. The names will appear on zoo's 'roach board' on February 14. \n",
      "실제 요약 : UK zoo offers people to name cockroach after their ex on Valentine's\n",
      "추출적 요약 : The names will appear on zoo's 'roach board' on February 14.\n",
      "\n",
      "\n",
      "원문 : Stand-in captain Rohit Sharma has become the 14th Indian cricketer to play 200 ODIs, achieving the feat after taking the field against New Zealand in fourth ODI at Hamilton on Thursday. The 31-year-old had made his ODI debut on June 23, 2007, against Ireland in Belfast. Rohit scored 7,799 runs in his first 199 ODIs at an average of 48.14.\n",
      "실제 요약 : Rohit Sharma becomes 14th Indian cricketer to play 200 ODIs\n",
      "추출적 요약 : Rohit scored 7,799 runs in his first 199 ODIs at an average of 48.14.\n",
      "\n",
      "\n",
      "원문 : Batsman Shubman Gill has become the 227th cricketer to represent India in ODI cricket, achieving the feat against New Zealand in the fourth ODI at Hamilton on Thursday. The 19-year-old received his maiden ODI cap from former captain MS Dhoni. Notably, Shubman was named Player of the Under-19 World Cup in New Zealand last year.\n",
      "실제 요약 : 19-year-old Shubman Gill becomes India's 227th ODI cricketer\n",
      "추출적 요약 : Notably, Shubman was named Player of the Under-19 World Cup in New Zealand last year.\n",
      "\n",
      "\n",
      "원문 : Investigators searching for a lost plane carrying Argentine forward Emiliano Sala found two seat cushions on French coast that \"likely\" belonged to the aircraft. The investigators said they'll now launch an underwater seabed search for aircraft wreckage. The Cardiff City footballer was travelling from France's Nantes to Wales' Cardiff when his plane disappeared over English Channel on January 21.\n",
      "실제 요약 : 2 seat cushions from 'missing plane carrying footballer' found\n",
      "추출적 요약 : Investigators searching for a lost plane carrying Argentine forward Emiliano Sala found two seat cushions on French coast that \"likely\" belonged to the aircraft.\n",
      "\n",
      "\n",
      "원문 : Italian third division football side Lucchese's head coach Giancarlo Favarin has been banned for five months for headbutting Alessandria's assistant coach Gaetano Mancino during a brawl following the teams' 2-2 draw on Sunday. Mancino was caught off-balance and knocked to the ground after the headbutt. Earlier in the match, Favarin had told his own player to break an opponent's legs.\n",
      "실제 요약 : Italian coach knocks rival down with headbutt, banned for 5 months\n",
      "추출적 요약 : Italian third division football side Lucchese's head coach Giancarlo Favarin has been banned for five months for headbutting Alessandria's assistant coach Gaetano Mancino during a brawl following the teams' 2-2 draw on Sunday.\n",
      "\n",
      "\n",
      "원문 : Cyclists taking part in National Track Cycling Championship in Jaipur opted to sleep on the floor inside the stadium instead of hotels over expensive cycles. The organisers had booked hotels but they didn't have the provision for cyclists to keep their bikes inside. A national gold medallist said their cycles cost between Ã¢ÂÂ¹5-9 lakh and once damaged, they become non-repairable. \n",
      "실제 요약 : Cyclists sleep on stadium floor instead of hotel over costly cycles\n",
      "추출적 요약 : Cyclists taking part in National Track Cycling Championship in Jaipur opted to sleep on the floor inside the stadium instead of hotels over expensive cycles.\n",
      "\n",
      "\n",
      "원문 : Silvia Grecco, a 56-year-old Brazilian mother narrates her local football team Palmeiras' matches live to her 12-year-old blind and autistic son Nickollas from the stands. \"I describe details: this player is wearing short sleeves...colour of...football boots, hair colour...Everything I see and feel, I tell him, even when I need to curse the referee!\" Grecco said after a recent match.\n",
      "실제 요약 : Brazilian mother narrates football matches to blind son from stands\n",
      "추출적 요약 : \n",
      "\n",
      "\n",
      "원문 : A TechCrunch report has claimed that IndiaÃ¢ÂÂs largest bank SBI secured a passwordless server \"overnight\" on being alerted it allowed anyone to access phone numbers, bank balances, and transactions of millions of its customers. The Mumbai-based server was containing two months of data from SBI Quick, an SMS and call-based system used to request basic information about accounts, TechCrunch revealed.\n",
      "실제 요약 : SBI left account data of millions of users unprotected: Report\n",
      "추출적 요약 : \n",
      "\n",
      "\n",
      "원문 : Rahul Gandhi has replied to Goa CM Manohar Parrikar's letter, which accused the Congress President of using his \"visit to an ailing man for political gains\". \"He's under immense pressure from the PM after our meeting and needs to demonstrate his loyalty by attacking me,\" Gandhi wrote in his letter. Parrikar had clarified he didn't discuss Rafale deal with Rahul.\n",
      "실제 요약 : CM Parrikar under pressure from PM after our Goa meet: Rahul\n",
      "추출적 요약 : Rahul Gandhi has replied to Goa CM Manohar Parrikar's letter, which accused the Congress President of using his \"visit to an ailing man for political gains\".\n",
      "\n",
      "\n",
      "원문 : Twenty-seven-year-old Mohammed Mahuwala was arrested in Indore on Wednesday for allegedly cheating e-commerce giant Amazon of nearly Ã¢ÂÂ¹30 lakh. Mahuwala was a member of a gang who ordered costly gadgets from Amazon. \"[They] used to get refund of the amount paid...by saying the parcel...was empty. In reality, these devices were taken out from parcel and sold...to local shopkeepers,\" said police.\n",
      "실제 요약 : Man arrested for cheating Amazon of Ã¢ÂÂ¹30 lakh by taking refunds\n",
      "추출적 요약 : Mahuwala was a member of a gang who ordered costly gadgets from Amazon.\n",
      "\n",
      "\n",
      "원문 : AgustaWestland chopper scam co-accused Rajiv Saxena was extradited to India from UAE on Wednesday. He had been evading the Enforcement Directorate's summons claiming he was suffering from leukaemia but had moved an anti-money laundering court for anticipatory bail in December, stating he had never been summoned at his Dubai address. Saxena's lawyers alleged he had been \"illegally extradited\". \n",
      "실제 요약 : AgustaWestland scam accused Rajiv Saxena extradited to India\n",
      "추출적 요약 : AgustaWestland chopper scam co-accused Rajiv Saxena was extradited to India from UAE on Wednesday.\n",
      "\n",
      "\n",
      "원문 : Afghan President Ashraf Ghani has said the \"keys to war\" are in Pakistan's Islamabad, Quetta and Rawalpindi, accusing the country of providing safe havens to militants, including those belonging to the Taliban. Ghani added the \"key to peace was in Afghanistan\". His comments came amid the talks between the US and the Taliban to end the 17-year war in Afghanistan.\n",
      "실제 요약 : Pakistan holds 'keys to war': Afghanistan\n",
      "추출적 요약 : Afghan President Ashraf Ghani has said the \"keys to war\" are in Pakistan's Islamabad, Quetta and Rawalpindi, accusing the country of providing safe havens to militants, including those belonging to the Taliban.\n",
      "\n",
      "\n",
      "원문 : A Singapore-based insurance agent has been jailed for two years and five months for threatening to harm his clients unless they paid him in bitcoins. The 36-year-old set up an email account, and signed the messages as 'Lord Voldemort', a fictional character from the Harry Potter series. Ye Lin Myint targeted about 33 people, including those who cancelled insurance policies.\n",
      "실제 요약 : Insurance agent 'Lord Voldemort' jailed for threatening clients\n",
      "추출적 요약 : A Singapore-based insurance agent has been jailed for two years and five months for threatening to harm his clients unless they paid him in bitcoins.\n",
      "\n",
      "\n",
      "원문 : Gabrielle Reilly, a 22-year-old US woman, created earrings for her Apple AirPods and put it up for sale online for $20 (about Ã¢ÂÂ¹1,500). \"I absolutely refuse to lose them (AirPods)...So I made earrings,\" she explained. The earrings, which took her over an hour to make, debuted in a video on Twitter that has since garnered over three million views.\n",
      "실제 요약 : Woman turns Apple AirPods into earrings to avoid losing them\n",
      "추출적 요약 : \"I absolutely refuse to lose them (AirPods)...So I made earrings,\" she explained.\n",
      "\n",
      "\n",
      "원문 : Ex-ICICI Bank CEO Chanda Kochhar said she's \"utterly disappointed, hurt and shocked\" by the bank's decision to terminate her. Kochhar said she served ICICI for 34 years with utmost honesty and integrity and that ultimately truth will prevail. Adding that she hasn't been given a copy of the independent probe report, Kochhar said none of ICICI's credit decisions are unilateral\n",
      "실제 요약 : Shocked, hurt by ICICI's decision, truth will prevail: Kochhar\n",
      "추출적 요약 : Adding that she hasn't been given a copy of the independent probe report, Kochhar said none of ICICI's credit decisions are unilateral\n",
      "\n",
      "\n",
      "원문 : Swedish multinational fast-fashion brand Hennes & Mauritz AB (H&M) has hired Christopher Wylie, the whistleblower who exposed Facebook's Cambridge Analytica data scandal. WylieÃ¢ÂÂs focus will be to help get better insights on customers, products and markets and support work on sustainable and ethical artificial intelligence, H&M spokesperson said. Wylie is a former employee of Cambridge Analytica.\n",
      "실제 요약 : Fashion brand H&M hires Facebook data scandal whistleblower\n",
      "추출적 요약 : Swedish multinational fast-fashion brand Hennes & Mauritz AB (H&M) has hired Christopher Wylie, the whistleblower who exposed Facebook's Cambridge Analytica data scandal.\n",
      "\n",
      "\n",
      "원문 : Micro-blogging platform Twitter is testing a new feature on Android to put news on the top of a user's timeline. \"With this update, weÃ¢ÂÂre making it easier for people to see news and stories their followers have been discussing,\" Product Manager Walter Gurzynski said. The feature comes alongside a prompt saying, \"Catch up on what's happened while you were away.\"\n",
      "실제 요약 : Twitter testing news-first timeline feature on Android\n",
      "추출적 요약 : Micro-blogging platform Twitter is testing a new feature on Android to put news on the top of a user's timeline.\n",
      "\n",
      "\n",
      "원문 : Samsung has started mass producing its one terabyte 'embedded Universal Flash Storage (eUFS) 2.1' technology for \"use in next-generation mobile applications\", which it claims is the industry's first such eUFS. The company added the new eUFS will let smartphones store 260 10-minute videos shot in 4K UHD format. It'll be sized the same as the previous 512GB version, Samsung said.\n",
      "실제 요약 : Samsung builds world's first 1TB storage chip for smartphones \n",
      "추출적 요약 : Samsung has started mass producing its one terabyte 'embedded Universal Flash Storage (eUFS) 2.1' technology for \"use in next-generation mobile applications\", which it claims is the industry's first such eUFS.\n",
      "\n",
      "\n",
      "원문 : Prime Minister Narendra Modi on Wednesday said the people with 'negative mindset' are questioning him and his government for floating pro-poor schemes. He added negative mindset people are raising doubts about schemes such as building toilets and providing free gas connections to the poor. He further said that negative mentality laced with a vested interest still exists in the country.\n",
      "실제 요약 : People with 'negative mindset' quizzing pro-poor schemes: PM\n",
      "추출적 요약 : Prime Minister Narendra Modi on Wednesday said the people with 'negative mindset' are questioning him and his government for floating pro-poor schemes.\n",
      "\n",
      "\n",
      "원문 : Union Minister Anantkumar Hegde took a dig at Congress President Rahul Gandhi by calling him a \"hybrid specimen\" who has no clue about religion. \"A father who's...Muslim, a mother who's...Christian and the son is supposed to be...Brahmin. How is that even possible?\" he said. He added such \"hybrid specimen\" cannot be found in any laboratory in the world.\n",
      "실제 요약 : Rahul is hybrid specimen, has no clue about religion: Hegde\n",
      "추출적 요약 : Union Minister Anantkumar Hegde took a dig at Congress President Rahul Gandhi by calling him a \"hybrid specimen\" who has no clue about religion.\n",
      "\n",
      "\n",
      "원문 : Several parts of the US are set to experience record low temperatures as the polar vortex hit the Upper Midwest, with more than 200 million people expected to experience below-freezing temperatures this week. Temperatures throughout the Upper Midwest are expected to be at least 20-40Ã¢ÂÂ below zero. Government offices and schools have been closed in several areas.\n",
      "실제 요약 : Extreme cold to affect 200 million people as polar vortex hits US\n",
      "추출적 요약 : Several parts of the US are set to experience record low temperatures as the polar vortex hit the Upper Midwest, with more than 200 million people expected to experience below-freezing temperatures this week.\n",
      "\n",
      "\n",
      "원문 : The police on Wednesday registered cases against 13 persons, including a woman leader of Hindu Mahasabha, in Aligarh for firing at an effigy of Mahatma Gandhi with an air pistol. \"The incident took place in a house in Naurangabad locality of the city,\" Senior Superintendent of Police said. The video of the event went viral on social media, he added.\n",
      "실제 요약 : 13 booked for firing air shots at Mahatma Gandhi's effigy\n",
      "추출적 요약 : The police on Wednesday registered cases against 13 persons, including a woman leader of Hindu Mahasabha, in Aligarh for firing at an effigy of Mahatma Gandhi with an air pistol.\n",
      "\n",
      "\n",
      "원문 : Railway police has rescued a woman travelling on a train in Chennai who got her leg stuck inside the commode of a toilet. After being caught inside the commode hole, she struggled to remove her leg and following failed attempts, she shouted for help, reports said. Railway police used a cutter to pry open the commode and freed her leg.\n",
      "실제 요약 : Railway police rescues woman with leg stuck in train toilet\n",
      "추출적 요약 : Railway police has rescued a woman travelling on a train in Chennai who got her leg stuck inside the commode of a toilet.\n",
      "\n",
      "\n",
      "원문 : The US on Tuesday began returning asylum seekers to Mexico, sending back a migrant from a Central American nation and called the move a \"response to the illegal migration crisis\" faced by it. Under its Migrant Protection Protocols policy, the US will return certain migrants who cross into the country illegally back to Mexico while their asylum requests are processed.\n",
      "실제 요약 : US begins sending back asylum seekers to Mexico\n",
      "추출적 요약 : \n",
      "\n",
      "\n"
     ]
    }
   ],
   "source": [
    "for i in range(50):\n",
    "    print(\"원문 :\", data_ex.iloc[i,1])\n",
    "    print(\"실제 요약 :\",data_ex.iloc[i,0])\n",
    "    print(\"추출적 요약 :\", summarize(data_ex.iloc[i,1], ratio = 0.4))\n",
    "    print(\"\\n\")"
   ]
  },
  {
   "cell_type": "markdown",
   "id": "iraqi-consortium",
   "metadata": {},
   "source": [
    "## 결과 분석 "
   ]
  },
  {
   "cell_type": "markdown",
   "id": "entertaining-accounting",
   "metadata": {},
   "source": [
    "News Summary의 원본이 인도 News Summary 데이터로, 예를 들어 '십만'을 의미하는 lark 와 같은 특수한 단어들이 존재하여 전처리 상에 아쉬움이 많았다. \n",
    "이 때문에 요약을 할 원문 자체가 문법성이 많이 제거된 상태로 의미를 지닌 단어들만 남았다보니, \n",
    "요약 역시 의미있는 문장이라기보다는 의미있는 단어의 집합으로 나타났다. \n",
    "데이터 전처리에 더욱 많은 시간을 쏟았어야했다는 아쉬움이 남는다."
   ]
  },
  {
   "attachments": {
    "image-2.png": {
     "image/png": "[encoded data removed]"
    },
    "image.png": {
     "image/png": "[encoded data removed]"
    }
   },
   "cell_type": "markdown",
   "id": "involved-robin",
   "metadata": {},
   "source": [
    "추상적 요약 모델 학습을 위해, 전처리 했던 데이터 기준으로, 요약을 진행하여 다음과 같은 결과를 확인하였다.\n",
    "\n",
    "- 추상적 요약 \n",
    "![image-2.png](attachment:image-2.png)\n",
    "<br/>\n",
    "<br/>\n",
    "- 추출적 요약\n",
    "![image.png](attachment:image.png)\n",
    "\n",
    "추상적 요약을 위한 전처리를 통하면서, 문장 구분을 위해 필요한 구두점이 사라지고, 문법적 요소들이 많이 사라지면서 <br/>\n",
    "정상적인 추출적 요약이 이루어지지 않은 것으로 생각되어진다\n",
    "\n",
    "따라서 정상적인 추출적 요약을 위해서는 문장 구두점 등 요소를 살려둘 필요가 있다"
   ]
  },
  {
   "attachments": {
    "image.png": {
     "image/png": "[encoded data removed]"
    }
   },
   "cell_type": "markdown",
   "id": "tender-graduate",
   "metadata": {},
   "source": [
    "또한, text 원문이  2~3 문장 정도로 짧게 구성되었기 때문에, 낮은 ratio를 적용하면 다음과 같이 결과 출력이 안되는 문제점이 나타났다. \n",
    "\n",
    "![image.png](attachment:image.png)"
   ]
  },
  {
   "cell_type": "markdown",
   "id": "stretch-cancellation",
   "metadata": {},
   "source": [
    "###### 문법 완성도"
   ]
  },
  {
   "cell_type": "markdown",
   "id": "extreme-massachusetts",
   "metadata": {},
   "source": [
    "문법 완성도 측면에서는 전처리를 통해 많은 문법 요소들이 날아간 <br/>\n",
    "추상적 요약에 비해 추출적 요약이 훌륭한 결과를 보였다. "
   ]
  },
  {
   "cell_type": "markdown",
   "id": "characteristic-tolerance",
   "metadata": {},
   "source": [
    "###### 핵심 단어 포함 여부"
   ]
  },
  {
   "cell_type": "markdown",
   "id": "greatest-thanksgiving",
   "metadata": {},
   "source": [
    "요약해야할 문장이 그리 길지 않는 상태였기 때문에, <br/>\n",
    "나타난 결과상으로는 추상적 요약과 추출적 요약 간에 큰 차이를 보이지는 않았다. "
   ]
  },
  {
   "cell_type": "markdown",
   "id": "resistant-reply",
   "metadata": {},
   "source": [
    "종합적으로 판단할 때, 추출적 요약과 추상적 요약은 전통적 기계학습과 딥러닝의 차이점을 보여준다고 할 수 있다. \n",
    "이번 데이터의 경우 데이터의 양이 적고, 전처리 과정과 모델링이 비교적 단순했기 때문에, \n",
    "전통적 머신러닝 알고리즘인 추출적 요약이 전반적으로 우수한 결과를 보였다.\n",
    "하지만, 데이터의 양이 늘어나고, 레이어의 갯수가 늘어난다면, \n",
    "특히 긴 문장을 요약하는 태스크의 경우, 추상적 요약이 더욱 우수한 결과를 낼 수 있을 것이라 기대된다. "
   ]
  }
 ],
 "metadata": {
  "kernelspec": {
   "display_name": "Python 3",
   "language": "python",
   "name": "python3"
  },
  "language_info": {
   "codemirror_mode": {
    "name": "ipython",
    "version": 3
   },
   "file_extension": ".py",
   "mimetype": "text/x-python",
   "name": "python",
   "nbconvert_exporter": "python",
   "pygments_lexer": "ipython3",
   "version": "3.7.9"
  }
 },
 "nbformat": 4,
 "nbformat_minor": 5
}
