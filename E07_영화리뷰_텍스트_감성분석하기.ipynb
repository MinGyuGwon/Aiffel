{
 "cells": [
  {
   "cell_type": "markdown",
   "id": "bottom-teach",
   "metadata": {},
   "source": [
    "# 네이버 영화 리뷰"
   ]
  },
  {
   "cell_type": "code",
   "execution_count": 108,
   "id": "smoking-processing",
   "metadata": {
    "scrolled": true
   },
   "outputs": [
    {
     "name": "stdout",
     "output_type": "stream",
     "text": [
      "Requirement already satisfied: pip==21.2.3 in /opt/conda/lib/python3.7/site-packages (21.2.3)\n",
      "\u001b[33mWARNING: Running pip as the 'root' user can result in broken permissions and conflicting behaviour with the system package manager. It is recommended to use a virtual environment instead: https://pip.pypa.io/warnings/venv\u001b[0m\n"
     ]
    }
   ],
   "source": [
    "!pip install --upgrade pip==21.2.3 "
   ]
  },
  {
   "cell_type": "code",
   "execution_count": 109,
   "id": "afraid-equation",
   "metadata": {
    "scrolled": true
   },
   "outputs": [
    {
     "name": "stdout",
     "output_type": "stream",
     "text": [
      "Requirement already satisfied: gensim==3.8.3 in /opt/conda/lib/python3.7/site-packages (3.8.3)\n",
      "Requirement already satisfied: smart-open>=1.8.1 in /opt/conda/lib/python3.7/site-packages (from gensim==3.8.3) (4.1.2)\n",
      "Requirement already satisfied: six>=1.5.0 in /opt/conda/lib/python3.7/site-packages (from gensim==3.8.3) (1.15.0)\n",
      "Requirement already satisfied: numpy>=1.11.3 in /opt/conda/lib/python3.7/site-packages (from gensim==3.8.3) (1.19.5)\n",
      "Requirement already satisfied: scipy>=0.18.1 in /opt/conda/lib/python3.7/site-packages (from gensim==3.8.3) (1.4.1)\n",
      "\u001b[33mWARNING: Running pip as the 'root' user can result in broken permissions and conflicting behaviour with the system package manager. It is recommended to use a virtual environment instead: https://pip.pypa.io/warnings/venv\u001b[0m\n"
     ]
    }
   ],
   "source": [
    "!pip install --upgrade gensim==3.8.3 "
   ]
  },
  {
   "cell_type": "code",
   "execution_count": 110,
   "id": "commercial-default",
   "metadata": {},
   "outputs": [],
   "source": [
    "from gensim.models import KeyedVectors\n",
    "import gensim"
   ]
  },
  {
   "cell_type": "code",
   "execution_count": 111,
   "id": "listed-finger",
   "metadata": {
    "scrolled": true
   },
   "outputs": [
    {
     "data": {
      "text/plain": [
       "'3.8.3'"
      ]
     },
     "execution_count": 111,
     "metadata": {},
     "output_type": "execute_result"
    }
   ],
   "source": [
    "gensim.__version__"
   ]
  },
  {
   "cell_type": "code",
   "execution_count": 112,
   "id": "difficult-series",
   "metadata": {},
   "outputs": [],
   "source": [
    "import pandas as pd\n",
    "import urllib.request\n",
    "%matplotlib inline\n",
    "import matplotlib.pyplot as plt\n",
    "import re\n",
    "from konlpy.tag import Okt\n",
    "from tensorflow import keras\n",
    "from tensorflow.keras.preprocessing.text import Tokenizer\n",
    "import numpy as np\n",
    "from tensorflow.keras.preprocessing.sequence import pad_sequences\n",
    "from collections import Counter\n",
    "from gensim.models.keyedvectors import Word2VecKeyedVectors\n",
    "\n",
    "import matplotlib.pyplot as plt\n",
    "%matplotlib inline\n",
    "import seaborn as sns\n",
    "\n",
    "import os"
   ]
  },
  {
   "cell_type": "code",
   "execution_count": 113,
   "id": "processed-sweet",
   "metadata": {},
   "outputs": [
    {
     "data": {
      "text/html": [
       "<div>\n",
       "<style scoped>\n",
       "    .dataframe tbody tr th:only-of-type {\n",
       "        vertical-align: middle;\n",
       "    }\n",
       "\n",
       "    .dataframe tbody tr th {\n",
       "        vertical-align: top;\n",
       "    }\n",
       "\n",
       "    .dataframe thead th {\n",
       "        text-align: right;\n",
       "    }\n",
       "</style>\n",
       "<table border=\"1\" class=\"dataframe\">\n",
       "  <thead>\n",
       "    <tr style=\"text-align: right;\">\n",
       "      <th></th>\n",
       "      <th>id</th>\n",
       "      <th>document</th>\n",
       "      <th>label</th>\n",
       "    </tr>\n",
       "  </thead>\n",
       "  <tbody>\n",
       "    <tr>\n",
       "      <th>0</th>\n",
       "      <td>9976970</td>\n",
       "      <td>아 더빙.. 진짜 짜증나네요 목소리</td>\n",
       "      <td>0</td>\n",
       "    </tr>\n",
       "    <tr>\n",
       "      <th>1</th>\n",
       "      <td>3819312</td>\n",
       "      <td>흠...포스터보고 초딩영화줄....오버연기조차 가볍지 않구나</td>\n",
       "      <td>1</td>\n",
       "    </tr>\n",
       "    <tr>\n",
       "      <th>2</th>\n",
       "      <td>10265843</td>\n",
       "      <td>너무재밓었다그래서보는것을추천한다</td>\n",
       "      <td>0</td>\n",
       "    </tr>\n",
       "    <tr>\n",
       "      <th>3</th>\n",
       "      <td>9045019</td>\n",
       "      <td>교도소 이야기구먼 ..솔직히 재미는 없다..평점 조정</td>\n",
       "      <td>0</td>\n",
       "    </tr>\n",
       "    <tr>\n",
       "      <th>4</th>\n",
       "      <td>6483659</td>\n",
       "      <td>사이몬페그의 익살스런 연기가 돋보였던 영화!스파이더맨에서 늙어보이기만 했던 커스틴 ...</td>\n",
       "      <td>1</td>\n",
       "    </tr>\n",
       "  </tbody>\n",
       "</table>\n",
       "</div>"
      ],
      "text/plain": [
       "         id                                           document  label\n",
       "0   9976970                                아 더빙.. 진짜 짜증나네요 목소리      0\n",
       "1   3819312                  흠...포스터보고 초딩영화줄....오버연기조차 가볍지 않구나      1\n",
       "2  10265843                                  너무재밓었다그래서보는것을추천한다      0\n",
       "3   9045019                      교도소 이야기구먼 ..솔직히 재미는 없다..평점 조정      0\n",
       "4   6483659  사이몬페그의 익살스런 연기가 돋보였던 영화!스파이더맨에서 늙어보이기만 했던 커스틴 ...      1"
      ]
     },
     "execution_count": 113,
     "metadata": {},
     "output_type": "execute_result"
    }
   ],
   "source": [
    "train_data = pd.read_table('~/aiffel/sentiment_classification/data/ratings_train.txt')\n",
    "test_data = pd.read_table('~/aiffel/sentiment_classification/data/ratings_test.txt')\n",
    "\n",
    "train_data.head()"
   ]
  },
  {
   "cell_type": "code",
   "execution_count": 114,
   "id": "wound-lighting",
   "metadata": {},
   "outputs": [
    {
     "data": {
      "text/html": [
       "<div>\n",
       "<style scoped>\n",
       "    .dataframe tbody tr th:only-of-type {\n",
       "        vertical-align: middle;\n",
       "    }\n",
       "\n",
       "    .dataframe tbody tr th {\n",
       "        vertical-align: top;\n",
       "    }\n",
       "\n",
       "    .dataframe thead th {\n",
       "        text-align: right;\n",
       "    }\n",
       "</style>\n",
       "<table border=\"1\" class=\"dataframe\">\n",
       "  <thead>\n",
       "    <tr style=\"text-align: right;\">\n",
       "      <th></th>\n",
       "      <th>id</th>\n",
       "      <th>document</th>\n",
       "      <th>label</th>\n",
       "    </tr>\n",
       "  </thead>\n",
       "  <tbody>\n",
       "    <tr>\n",
       "      <th>0</th>\n",
       "      <td>6270596</td>\n",
       "      <td>굳 ㅋ</td>\n",
       "      <td>1</td>\n",
       "    </tr>\n",
       "    <tr>\n",
       "      <th>1</th>\n",
       "      <td>9274899</td>\n",
       "      <td>GDNTOPCLASSINTHECLUB</td>\n",
       "      <td>0</td>\n",
       "    </tr>\n",
       "    <tr>\n",
       "      <th>2</th>\n",
       "      <td>8544678</td>\n",
       "      <td>뭐야 이 평점들은.... 나쁘진 않지만 10점 짜리는 더더욱 아니잖아</td>\n",
       "      <td>0</td>\n",
       "    </tr>\n",
       "    <tr>\n",
       "      <th>3</th>\n",
       "      <td>6825595</td>\n",
       "      <td>지루하지는 않은데 완전 막장임... 돈주고 보기에는....</td>\n",
       "      <td>0</td>\n",
       "    </tr>\n",
       "    <tr>\n",
       "      <th>4</th>\n",
       "      <td>6723715</td>\n",
       "      <td>3D만 아니었어도 별 다섯 개 줬을텐데.. 왜 3D로 나와서 제 심기를 불편하게 하죠??</td>\n",
       "      <td>0</td>\n",
       "    </tr>\n",
       "  </tbody>\n",
       "</table>\n",
       "</div>"
      ],
      "text/plain": [
       "        id                                           document  label\n",
       "0  6270596                                                굳 ㅋ      1\n",
       "1  9274899                               GDNTOPCLASSINTHECLUB      0\n",
       "2  8544678             뭐야 이 평점들은.... 나쁘진 않지만 10점 짜리는 더더욱 아니잖아      0\n",
       "3  6825595                   지루하지는 않은데 완전 막장임... 돈주고 보기에는....      0\n",
       "4  6723715  3D만 아니었어도 별 다섯 개 줬을텐데.. 왜 3D로 나와서 제 심기를 불편하게 하죠??      0"
      ]
     },
     "execution_count": 114,
     "metadata": {},
     "output_type": "execute_result"
    }
   ],
   "source": [
    "test_data.head()"
   ]
  },
  {
   "cell_type": "code",
   "execution_count": 115,
   "id": "annual-profile",
   "metadata": {},
   "outputs": [
    {
     "data": {
      "text/plain": [
       "150000"
      ]
     },
     "execution_count": 115,
     "metadata": {},
     "output_type": "execute_result"
    }
   ],
   "source": [
    "len(train_data)"
   ]
  },
  {
   "cell_type": "code",
   "execution_count": 116,
   "id": "delayed-kelly",
   "metadata": {},
   "outputs": [
    {
     "data": {
      "text/plain": [
       "50000"
      ]
     },
     "execution_count": 116,
     "metadata": {},
     "output_type": "execute_result"
    }
   ],
   "source": [
    "len(test_data)"
   ]
  },
  {
   "cell_type": "code",
   "execution_count": 117,
   "id": "simple-hepatitis",
   "metadata": {},
   "outputs": [
    {
     "data": {
      "text/plain": [
       "['나', '는', '너', '를', '좋아해']"
      ]
     },
     "execution_count": 117,
     "metadata": {},
     "output_type": "execute_result"
    }
   ],
   "source": [
    "from konlpy.tag import Mecab\n",
    "tokenizer = Mecab()\n",
    "tokenizer.morphs('나는 너를 좋아해')"
   ]
  },
  {
   "cell_type": "code",
   "execution_count": 118,
   "id": "gross-gender",
   "metadata": {},
   "outputs": [],
   "source": [
    "from konlpy.tag import Mecab\n",
    "tokenizer = Mecab()\n",
    "stopwords = ['의','가','이','은','들','는','좀','잘','걍','과','도','를','으로','자','에','와','한','하다']\n",
    "\n",
    "def load_data(train_data, test_data, num_words=10000):\n",
    "    train_data.drop_duplicates(subset=['document'], inplace=True) # 'document' cloumn 기준으로, 중복 제거\n",
    "    train_data = train_data.dropna(how = 'any')     # 하나('any')라도 결측치 있는 row 제거\n",
    "    test_data.drop_duplicates(subset=['document'], inplace=True)\n",
    "    test_data = test_data.dropna(how = 'any') \n",
    "    \n",
    "    X_train = []\n",
    "    for sentence in train_data['document']:\n",
    "        temp_X = tokenizer.morphs(sentence) # 형태소 단위로 Parsing한 List 반환\n",
    "        temp_X = [word for word in temp_X if not word in stopwords] # 불용어 제거\n",
    "        X_train.append(temp_X)\n",
    "\n",
    "    X_test = []\n",
    "    for sentence in test_data['document']:\n",
    "        temp_X = tokenizer.morphs(sentence) # 형태소 단위 구분\n",
    "        temp_X = [word for word in temp_X if not word in stopwords] # 불용어 제거\n",
    "        X_test.append(temp_X)\n",
    "    \n",
    "    words = np.concatenate(X_train).tolist() # np.concatenate()  # ndarray.tolist() : 리스트로 변환\n",
    "    counter = Counter(words) # 단어 출현 빈도에 따른 Hash Table 만든다\n",
    "    counter = counter.most_common(10000-4)\n",
    "    vocab = ['', '', '', ''] + [key for key, _ in counter] # 사용 빈도 상위 9996개만 단어 사전에 포함 \n",
    "    word_to_index = {word:index for index, word in enumerate(vocab)} # index와 word가 매칭되는 dict\n",
    "    # 여기서 '' 중복되서 하나만 남을 텐데 왜 굳이 4개 넣어주었을까?\n",
    "    # 다음 블록의 'word_to_index.items()'의 개수를 확인하면 실제로 9997로 나옴 \n",
    "    \n",
    "    def wordlist_to_indexlist(wordlist): # wordList를 단어에 대응하는 index로 반환\n",
    "        return [word_to_index[word] if word in word_to_index else word_to_index[''] for word in wordlist] \n",
    "        \n",
    "    X_train = list(map(wordlist_to_indexlist, X_train))\n",
    "    X_test = list(map(wordlist_to_indexlist, X_test))\n",
    "        \n",
    "    return X_train, np.array(list(train_data['label'])), X_test, np.array(list(test_data['label'])), word_to_index\n",
    "    \n",
    "X_train, y_train, X_test, y_test, word_to_index = load_data(train_data, test_data) "
   ]
  },
  {
   "cell_type": "code",
   "execution_count": 119,
   "id": "demographic-contemporary",
   "metadata": {
    "scrolled": true
   },
   "outputs": [
    {
     "data": {
      "text/plain": [
       "9997"
      ]
     },
     "execution_count": 119,
     "metadata": {},
     "output_type": "execute_result"
    }
   ],
   "source": [
    "len(word_to_index.items())"
   ]
  },
  {
   "cell_type": "code",
   "execution_count": 120,
   "id": "polished-strength",
   "metadata": {},
   "outputs": [],
   "source": [
    "word_to_index['<PAD>'] = 0"
   ]
  },
  {
   "cell_type": "code",
   "execution_count": 121,
   "id": "numerical-masters",
   "metadata": {},
   "outputs": [],
   "source": [
    "word_to_index['<BOS>'] = 1"
   ]
  },
  {
   "cell_type": "code",
   "execution_count": 122,
   "id": "robust-activity",
   "metadata": {},
   "outputs": [],
   "source": [
    "word_to_index['<UNK>'] = 2"
   ]
  },
  {
   "cell_type": "code",
   "execution_count": 123,
   "id": "parliamentary-masters",
   "metadata": {},
   "outputs": [],
   "source": [
    "index_to_word = {index:word for word, index in word_to_index.items()}"
   ]
  },
  {
   "cell_type": "code",
   "execution_count": 124,
   "id": "popular-liechtenstein",
   "metadata": {},
   "outputs": [
    {
     "data": {
      "text/plain": [
       "10000"
      ]
     },
     "execution_count": 124,
     "metadata": {},
     "output_type": "execute_result"
    }
   ],
   "source": [
    "len(word_to_index.items())"
   ]
  },
  {
   "cell_type": "code",
   "execution_count": 125,
   "id": "disturbed-blackjack",
   "metadata": {},
   "outputs": [
    {
     "data": {
      "text/plain": [
       "10000"
      ]
     },
     "execution_count": 125,
     "metadata": {},
     "output_type": "execute_result"
    }
   ],
   "source": [
    "len(index_to_word)"
   ]
  },
  {
   "cell_type": "code",
   "execution_count": 126,
   "id": "complicated-spouse",
   "metadata": {},
   "outputs": [],
   "source": [
    "# 문장 1개를 활용할 딕셔너리와 함께 주면, 단어 인덱스 리스트 벡터로 변환해 주는 함수입니다. \n",
    "# 단, 모든 문장은 <BOS>로 시작하는 것으로 합니다. \n",
    "\n",
    "def get_encoded_sentence(sentence, word_to_index):\n",
    "    return [word_to_index['<BOS>']]+[word_to_index[word] if word in word_to_index else word_to_index['<UNK>'] for word in sentence.split()]\n",
    "\n",
    "# 여러 개의 문장 리스트를 한꺼번에 단어 인덱스 리스트 벡터로 encode해 주는 함수입니다. \n",
    "def get_encoded_sentences(sentences, word_to_index):\n",
    "    return [get_encoded_sentence(sentence, word_to_index) for sentence in sentences]\n",
    "\n",
    "# 숫자 벡터로 encode된 문장을 원래대로 decode하는 함수입니다. \n",
    "def get_decoded_sentence(encoded_sentence, index_to_word):\n",
    "    return ' '.join(index_to_word[index] if index in index_to_word else '<UNK>' for index in encoded_sentence[1:])  #[1:]를 통해 <BOS>를 제외\n",
    "\n",
    "# 여러 개의 숫자 벡터로 encode된 문장을 한꺼번에 원래대로 decode하는 함수입니다. \n",
    "def get_decoded_sentences(encoded_sentences, index_to_word):\n",
    "    return [get_decoded_sentence(encoded_sentence, index_to_word) for encoded_sentence in encoded_sentences]"
   ]
  },
  {
   "cell_type": "markdown",
   "id": "median-leisure",
   "metadata": {},
   "source": [
    "# 모델구성을 위한 데이터 분석 및 가공"
   ]
  },
  {
   "cell_type": "markdown",
   "id": "coastal-mounting",
   "metadata": {},
   "source": [
    "## (1) 데이터셋 내 문장 길이 분포"
   ]
  },
  {
   "cell_type": "code",
   "execution_count": 127,
   "id": "ordinary-mortgage",
   "metadata": {},
   "outputs": [
    {
     "data": {
      "text/plain": [
       "[10, 17, 3, 13, 23]"
      ]
     },
     "execution_count": 127,
     "metadata": {},
     "output_type": "execute_result"
    }
   ],
   "source": [
    "X_train_num = [len(i) for i in X_train]\n",
    "X_test_num = [len(i) for i in X_test]\n",
    "\n",
    "numList = X_train_num + X_test_num\n",
    "numList[:5]"
   ]
  },
  {
   "cell_type": "code",
   "execution_count": 128,
   "id": "balanced-extra",
   "metadata": {},
   "outputs": [
    {
     "data": {
      "text/plain": [
       "15.96940191154864"
      ]
     },
     "execution_count": 128,
     "metadata": {},
     "output_type": "execute_result"
    }
   ],
   "source": [
    "np.mean(numList)"
   ]
  },
  {
   "cell_type": "code",
   "execution_count": 129,
   "id": "upper-river",
   "metadata": {},
   "outputs": [
    {
     "data": {
      "text/plain": [
       "12.843571191092"
      ]
     },
     "execution_count": 129,
     "metadata": {},
     "output_type": "execute_result"
    }
   ],
   "source": [
    "np.std(numList)"
   ]
  },
  {
   "cell_type": "code",
   "execution_count": 130,
   "id": "contemporary-immune",
   "metadata": {},
   "outputs": [
    {
     "name": "stdout",
     "output_type": "stream",
     "text": [
      "문장길이 평균 :  15.96940191154864\n",
      "문장길이 최대 :  116\n",
      "문장길이 표준편차 :  12.843571191092\n",
      "pad_sequences maxlen :  41\n",
      "전체 문장의 0.9342988343341575%가 maxlen 설정값 이내에 포함됩니다. \n"
     ]
    }
   ],
   "source": [
    "numList = np.array(numList)\n",
    "# 문장길이의 평균값, 최대값, 표준편차를 계산해 본다. \n",
    "print('문장길이 평균 : ', np.mean(numList))\n",
    "print('문장길이 최대 : ', np.max(numList))\n",
    "print('문장길이 표준편차 : ', np.std(numList))\n",
    "\n",
    "# 예를들어, 최대 길이를 (평균 + 2*표준편차)로 한다면,  \n",
    "max_tokens = np.mean(numList) + 2 * np.std(numList)\n",
    "maxlen = int(max_tokens)\n",
    "print('pad_sequences maxlen : ', maxlen)\n",
    "print('전체 문장의 {}%가 maxlen 설정값 이내에 포함됩니다. '.format(np.sum(numList < max_tokens) / len(numList)))"
   ]
  },
  {
   "cell_type": "code",
   "execution_count": 131,
   "id": "centered-greeting",
   "metadata": {},
   "outputs": [
    {
     "name": "stderr",
     "output_type": "stream",
     "text": [
      "/opt/conda/lib/python3.7/site-packages/seaborn/distributions.py:2557: FutureWarning: `distplot` is a deprecated function and will be removed in a future version. Please adapt your code to use either `displot` (a figure-level function with similar flexibility) or `histplot` (an axes-level function for histograms).\n",
      "  warnings.warn(msg, FutureWarning)\n"
     ]
    },
    {
     "data": {
      "image/png": "[encoded data removed]",
      "text/plain": [
       "<Figure size 1080x576 with 1 Axes>"
      ]
     },
     "metadata": {
      "needs_background": "light"
     },
     "output_type": "display_data"
    }
   ],
   "source": [
    "f,ax = plt.subplots(1,1, figsize=(15,8))\n",
    "sns.distplot(a= numList, ax=ax)\n",
    "plt.xlabel('Length of Sentence')\n",
    "plt.ylabel('Probability')\n",
    "plt.title('Sentence Length Distribution')\n",
    "plt.vlines(41, 0,0.08, colors= 'red')\n",
    "plt.show()"
   ]
  },
  {
   "cell_type": "markdown",
   "id": "pointed-karaoke",
   "metadata": {},
   "source": [
    "## (2) 적절한 최대 문장 길이 지정"
   ]
  },
  {
   "cell_type": "code",
   "execution_count": 132,
   "id": "pending-thomas",
   "metadata": {},
   "outputs": [],
   "source": [
    "# 최대 문장 길이 41으로 설정\n",
    "maxlen = 41"
   ]
  },
  {
   "cell_type": "markdown",
   "id": "earlier-campbell",
   "metadata": {},
   "source": [
    "## (3) keras.preprocessing.sequence.pad_sequences 을 활용한 패딩 추가"
   ]
  },
  {
   "cell_type": "code",
   "execution_count": 133,
   "id": "tutorial-evans",
   "metadata": {},
   "outputs": [
    {
     "data": {
      "text/plain": [
       "array([[  32,   74,  919, ...,    0,    0,    0],\n",
       "       [1028,    4,   11, ...,    0,    0,    0],\n",
       "       [  24,  205,    3, ...,    0,    0,    0],\n",
       "       ...,\n",
       "       [ 154,    3,   18, ...,    0,    0,    0],\n",
       "       [1052,    5, 2516, ...,    0,    0,    0],\n",
       "       [ 181,    5, 1945, ...,    0,    0,    0]], dtype=int32)"
      ]
     },
     "execution_count": 133,
     "metadata": {},
     "output_type": "execute_result"
    }
   ],
   "source": [
    "X_train = pad_sequences(X_train, padding='post', maxlen = maxlen)  \n",
    "X_train"
   ]
  },
  {
   "cell_type": "code",
   "execution_count": 134,
   "id": "taken-simple",
   "metadata": {},
   "outputs": [
    {
     "data": {
      "text/plain": [
       "(146182, 41)"
      ]
     },
     "execution_count": 134,
     "metadata": {},
     "output_type": "execute_result"
    }
   ],
   "source": [
    "# 146182개의 문장에 대해, 문장 별 단어 수 41개를 기준으로 패딩 \n",
    "X_train.shape"
   ]
  },
  {
   "cell_type": "code",
   "execution_count": 135,
   "id": "photographic-notice",
   "metadata": {},
   "outputs": [
    {
     "data": {
      "text/plain": [
       "array([[ 832,  130,    0, ...,    0,    0,    0],\n",
       "       [   3,    0,    0, ...,    0,    0,    0],\n",
       "       [  85,  111,   58, ...,    0,    0,    0],\n",
       "       ...,\n",
       "       [1039,   19,    7, ...,    0,    0,    0],\n",
       "       [ 418,  492,   27, ...,    0,    0,    0],\n",
       "       [1009,  179,   63, ...,    0,    0,    0]], dtype=int32)"
      ]
     },
     "execution_count": 135,
     "metadata": {},
     "output_type": "execute_result"
    }
   ],
   "source": [
    "X_test = pad_sequences(X_test, padding='post', maxlen = maxlen)  \n",
    "X_test"
   ]
  },
  {
   "cell_type": "code",
   "execution_count": 136,
   "id": "ancient-scanning",
   "metadata": {},
   "outputs": [
    {
     "data": {
      "text/plain": [
       "(49157, 41)"
      ]
     },
     "execution_count": 136,
     "metadata": {},
     "output_type": "execute_result"
    }
   ],
   "source": [
    "# 49157개의 문장에 대해, 문장 별 단어 수 41개를 기준으로 패딩 \n",
    "X_test.shape"
   ]
  },
  {
   "cell_type": "markdown",
   "id": "devoted-latino",
   "metadata": {},
   "source": [
    "# 모델구성 및 Validation Set 구성 "
   ]
  },
  {
   "cell_type": "code",
   "execution_count": 137,
   "id": "meaning-funeral",
   "metadata": {},
   "outputs": [
    {
     "name": "stdout",
     "output_type": "stream",
     "text": [
      "Model: \"sequential_6\"\n",
      "_________________________________________________________________\n",
      "Layer (type)                 Output Shape              Param #   \n",
      "=================================================================\n",
      "embedding_6 (Embedding)      (None, None, 200)         2000000   \n",
      "_________________________________________________________________\n",
      "lstm_5 (LSTM)                (None, 8)                 6688      \n",
      "_________________________________________________________________\n",
      "dense_10 (Dense)             (None, 8)                 72        \n",
      "_________________________________________________________________\n",
      "dense_11 (Dense)             (None, 1)                 9         \n",
      "=================================================================\n",
      "Total params: 2,006,769\n",
      "Trainable params: 2,006,769\n",
      "Non-trainable params: 0\n",
      "_________________________________________________________________\n"
     ]
    }
   ],
   "source": [
    "vocab_size = 10000    # 어휘 사전의 크기\n",
    "word_vector_dim = 200  # 워드 벡터의 차원 수 \n",
    "\n",
    "# model 설계 \n",
    "model_1 = keras.Sequential()\n",
    "\n",
    "model_1.add(keras.layers.Embedding(vocab_size, word_vector_dim, input_shape=(None,)))\n",
    "model_1.add(keras.layers.LSTM(8)) # LSTM Layer의 Input Vector (a,b) : a는 timestep의 갯수, b는 feature들    \n",
    "model_1.add(keras.layers.Dense(8, activation='relu'))\n",
    "model_1.add(keras.layers.Dense(1, activation='sigmoid'))  # 최종 출력은 긍정/부정\n",
    "\n",
    "model_1.summary()"
   ]
  },
  {
   "cell_type": "code",
   "execution_count": 138,
   "id": "extraordinary-rugby",
   "metadata": {},
   "outputs": [
    {
     "data": {
      "text/plain": [
       "146182"
      ]
     },
     "execution_count": 138,
     "metadata": {},
     "output_type": "execute_result"
    }
   ],
   "source": [
    "len(X_train)"
   ]
  },
  {
   "cell_type": "code",
   "execution_count": 139,
   "id": "loaded-turning",
   "metadata": {},
   "outputs": [],
   "source": [
    "# validation set \n",
    "x_val = X_train[:10000]   \n",
    "y_val = y_train[:10000]\n",
    "\n",
    "# validation set 제외\n",
    "partial_x_train = X_train[10000:]  \n",
    "partial_y_train = y_train[10000:]"
   ]
  },
  {
   "cell_type": "markdown",
   "id": "hybrid-bowling",
   "metadata": {},
   "source": [
    "# 모델_1 (LSTM)"
   ]
  },
  {
   "cell_type": "code",
   "execution_count": 140,
   "id": "narrative-project",
   "metadata": {},
   "outputs": [
    {
     "name": "stdout",
     "output_type": "stream",
     "text": [
      "Epoch 1/20\n",
      "266/266 [==============================] - 9s 27ms/step - loss: 0.5821 - accuracy: 0.6857 - val_loss: 0.3604 - val_accuracy: 0.8442\n",
      "Epoch 2/20\n",
      "266/266 [==============================] - 7s 25ms/step - loss: 0.3339 - accuracy: 0.8629 - val_loss: 0.3482 - val_accuracy: 0.8464\n",
      "Epoch 3/20\n",
      "266/266 [==============================] - 6s 24ms/step - loss: 0.2919 - accuracy: 0.8795 - val_loss: 0.3559 - val_accuracy: 0.8523\n",
      "Epoch 4/20\n",
      "266/266 [==============================] - 6s 24ms/step - loss: 0.2645 - accuracy: 0.8920 - val_loss: 0.3542 - val_accuracy: 0.8545\n",
      "Epoch 5/20\n",
      "266/266 [==============================] - 6s 24ms/step - loss: 0.2397 - accuracy: 0.9032 - val_loss: 0.3582 - val_accuracy: 0.8563\n",
      "Epoch 6/20\n",
      "266/266 [==============================] - 6s 23ms/step - loss: 0.2168 - accuracy: 0.9148 - val_loss: 0.3746 - val_accuracy: 0.8574\n",
      "Epoch 7/20\n",
      "266/266 [==============================] - 6s 23ms/step - loss: 0.1964 - accuracy: 0.9238 - val_loss: 0.3865 - val_accuracy: 0.8514\n",
      "Epoch 8/20\n",
      "266/266 [==============================] - 6s 23ms/step - loss: 0.1814 - accuracy: 0.9313 - val_loss: 0.4009 - val_accuracy: 0.8575\n",
      "Epoch 9/20\n",
      "266/266 [==============================] - 6s 24ms/step - loss: 0.1675 - accuracy: 0.9370 - val_loss: 0.4243 - val_accuracy: 0.8538\n",
      "Epoch 10/20\n",
      "266/266 [==============================] - 7s 25ms/step - loss: 0.1581 - accuracy: 0.9418 - val_loss: 0.4405 - val_accuracy: 0.8534\n",
      "Epoch 11/20\n",
      "266/266 [==============================] - 7s 25ms/step - loss: 0.1453 - accuracy: 0.9479 - val_loss: 0.4749 - val_accuracy: 0.8397\n",
      "Epoch 12/20\n",
      "266/266 [==============================] - 7s 25ms/step - loss: 0.1316 - accuracy: 0.9539 - val_loss: 0.4931 - val_accuracy: 0.8492\n",
      "Epoch 13/20\n",
      "266/266 [==============================] - 6s 24ms/step - loss: 0.1251 - accuracy: 0.9570 - val_loss: 0.4944 - val_accuracy: 0.8467\n",
      "Epoch 14/20\n",
      "266/266 [==============================] - 6s 24ms/step - loss: 0.1175 - accuracy: 0.9602 - val_loss: 0.5057 - val_accuracy: 0.8471\n",
      "Epoch 15/20\n",
      "266/266 [==============================] - 6s 24ms/step - loss: 0.1149 - accuracy: 0.9622 - val_loss: 0.5265 - val_accuracy: 0.8458\n",
      "Epoch 16/20\n",
      "266/266 [==============================] - 6s 24ms/step - loss: 0.1085 - accuracy: 0.9646 - val_loss: 0.5595 - val_accuracy: 0.8439\n",
      "Epoch 17/20\n",
      "266/266 [==============================] - 7s 25ms/step - loss: 0.0996 - accuracy: 0.9679 - val_loss: 0.5688 - val_accuracy: 0.8423\n",
      "Epoch 18/20\n",
      "266/266 [==============================] - 6s 24ms/step - loss: 0.0973 - accuracy: 0.9697 - val_loss: 0.5525 - val_accuracy: 0.8271\n",
      "Epoch 19/20\n",
      "266/266 [==============================] - 6s 24ms/step - loss: 0.0963 - accuracy: 0.9692 - val_loss: 0.5980 - val_accuracy: 0.8375\n",
      "Epoch 20/20\n",
      "266/266 [==============================] - 6s 24ms/step - loss: 0.0869 - accuracy: 0.9733 - val_loss: 0.6025 - val_accuracy: 0.8398\n"
     ]
    }
   ],
   "source": [
    "model_1.compile(optimizer='adam',\n",
    "              loss='binary_crossentropy',\n",
    "              metrics=['accuracy'])\n",
    "              \n",
    "epochs=20  \n",
    "\n",
    "history_1 = model_1.fit(partial_x_train,\n",
    "                    partial_y_train,\n",
    "                    epochs=epochs,\n",
    "                    batch_size=512,\n",
    "                    validation_data=(x_val, y_val),\n",
    "                    verbose=1)"
   ]
  },
  {
   "cell_type": "code",
   "execution_count": 141,
   "id": "loved-italian",
   "metadata": {},
   "outputs": [
    {
     "name": "stdout",
     "output_type": "stream",
     "text": [
      "1537/1537 - 4s - loss: 0.6070 - accuracy: 0.8378\n",
      "[0.6070380806922913, 0.8377647399902344]\n"
     ]
    }
   ],
   "source": [
    "results_1 = model_1.evaluate(X_test,  y_test, verbose=2) # Loss 값 반환\n",
    "\n",
    "print(results_1)"
   ]
  },
  {
   "cell_type": "code",
   "execution_count": 142,
   "id": "dependent-nerve",
   "metadata": {},
   "outputs": [
    {
     "data": {
      "text/plain": [
       "{'loss': [0.47936806082725525,\n",
       "  0.33352339267730713,\n",
       "  0.29593732953071594,\n",
       "  0.26918840408325195,\n",
       "  0.2452133744955063,\n",
       "  0.22273272275924683,\n",
       "  0.2048833966255188,\n",
       "  0.18862412869930267,\n",
       "  0.17489029467105865,\n",
       "  0.1624663919210434,\n",
       "  0.1484651267528534,\n",
       "  0.1404314488172531,\n",
       "  0.13023638725280762,\n",
       "  0.12205172330141068,\n",
       "  0.11833447217941284,\n",
       "  0.11160358041524887,\n",
       "  0.10345663130283356,\n",
       "  0.10267987102270126,\n",
       "  0.0963512510061264,\n",
       "  0.09084177762269974],\n",
       " 'accuracy': [0.7782673239707947,\n",
       "  0.8610756397247314,\n",
       "  0.877076268196106,\n",
       "  0.888803243637085,\n",
       "  0.9000161290168762,\n",
       "  0.9105388522148132,\n",
       "  0.9196663498878479,\n",
       "  0.9270094633102417,\n",
       "  0.9333979487419128,\n",
       "  0.9393238425254822,\n",
       "  0.9463658928871155,\n",
       "  0.9496188759803772,\n",
       "  0.9544873833656311,\n",
       "  0.9576008319854736,\n",
       "  0.9599653482437134,\n",
       "  0.9629980325698853,\n",
       "  0.966008722782135,\n",
       "  0.9669412970542908,\n",
       "  0.969247043132782,\n",
       "  0.9716849327087402],\n",
       " 'val_loss': [0.36044344305992126,\n",
       "  0.34822580218315125,\n",
       "  0.35593879222869873,\n",
       "  0.35419926047325134,\n",
       "  0.3581545054912567,\n",
       "  0.3746354281902313,\n",
       "  0.38652849197387695,\n",
       "  0.4009431302547455,\n",
       "  0.42426797747612,\n",
       "  0.440517395734787,\n",
       "  0.47490936517715454,\n",
       "  0.4931272566318512,\n",
       "  0.4943915605545044,\n",
       "  0.5057375431060791,\n",
       "  0.5264803171157837,\n",
       "  0.5595139265060425,\n",
       "  0.5687912106513977,\n",
       "  0.5524563193321228,\n",
       "  0.5980110168457031,\n",
       "  0.6024797558784485],\n",
       " 'val_accuracy': [0.8442000150680542,\n",
       "  0.8464000225067139,\n",
       "  0.8522999882698059,\n",
       "  0.8544999957084656,\n",
       "  0.8562999963760376,\n",
       "  0.8574000000953674,\n",
       "  0.8514000177383423,\n",
       "  0.8575000166893005,\n",
       "  0.8537999987602234,\n",
       "  0.8533999919891357,\n",
       "  0.8396999835968018,\n",
       "  0.8492000102996826,\n",
       "  0.8467000126838684,\n",
       "  0.847100019454956,\n",
       "  0.84579998254776,\n",
       "  0.8439000248908997,\n",
       "  0.8422999978065491,\n",
       "  0.8270999789237976,\n",
       "  0.8374999761581421,\n",
       "  0.8398000001907349]}"
      ]
     },
     "execution_count": 142,
     "metadata": {},
     "output_type": "execute_result"
    }
   ],
   "source": [
    "history_1.history"
   ]
  },
  {
   "cell_type": "markdown",
   "id": "several-waterproof",
   "metadata": {},
   "source": [
    "# Loss 시각화"
   ]
  },
  {
   "cell_type": "code",
   "execution_count": 143,
   "id": "simple-bridges",
   "metadata": {},
   "outputs": [
    {
     "data": {
      "image/png": "[encoded data removed]",
      "text/plain": [
       "<Figure size 1080x576 with 1 Axes>"
      ]
     },
     "metadata": {
      "needs_background": "light"
     },
     "output_type": "display_data"
    }
   ],
   "source": [
    "f,ax = plt.subplots(1,1, figsize=(15,8))\n",
    "plt.plot(history_1.history['loss'])\n",
    "plt.plot(history_1.history['val_loss'],'rs')\n",
    "plt.xlabel('Epochs')\n",
    "plt.ylabel('Loss')\n",
    "plt.title('Loss Variation during Training')\n",
    "plt.show()"
   ]
  },
  {
   "cell_type": "markdown",
   "id": "undefined-ottawa",
   "metadata": {},
   "source": [
    "# Accuracy 시각화"
   ]
  },
  {
   "cell_type": "code",
   "execution_count": 144,
   "id": "furnished-track",
   "metadata": {
    "scrolled": true
   },
   "outputs": [
    {
     "data": {
      "image/png": "[encoded data removed]",
      "text/plain": [
       "<Figure size 1080x576 with 1 Axes>"
      ]
     },
     "metadata": {
      "needs_background": "light"
     },
     "output_type": "display_data"
    }
   ],
   "source": [
    "f,ax = plt.subplots(1,1, figsize=(15,8))\n",
    "plt.plot(history_1.history['accuracy'])\n",
    "plt.plot(history_1.history['val_accuracy'],'rs')\n",
    "plt.xlabel('Epochs')\n",
    "plt.ylabel('Accuracy')\n",
    "plt.title('Accuracy Variation during Training')\n",
    "plt.show()"
   ]
  },
  {
   "cell_type": "markdown",
   "id": "transsexual-incentive",
   "metadata": {},
   "source": [
    "# 모델_2 (GRU)"
   ]
  },
  {
   "cell_type": "code",
   "execution_count": 145,
   "id": "growing-peace",
   "metadata": {},
   "outputs": [
    {
     "name": "stdout",
     "output_type": "stream",
     "text": [
      "Model: \"sequential_7\"\n",
      "_________________________________________________________________\n",
      "Layer (type)                 Output Shape              Param #   \n",
      "=================================================================\n",
      "embedding_7 (Embedding)      (None, None, 200)         2000000   \n",
      "_________________________________________________________________\n",
      "gru_1 (GRU)                  (None, 8)                 5040      \n",
      "_________________________________________________________________\n",
      "dense_12 (Dense)             (None, 8)                 72        \n",
      "_________________________________________________________________\n",
      "dense_13 (Dense)             (None, 1)                 9         \n",
      "=================================================================\n",
      "Total params: 2,005,121\n",
      "Trainable params: 2,005,121\n",
      "Non-trainable params: 0\n",
      "_________________________________________________________________\n"
     ]
    }
   ],
   "source": [
    "vocab_size = 10000    # 어휘 사전의 크기\n",
    "word_vector_dim = 200  # 워드 벡터의 차원 수 \n",
    "\n",
    "# model 설계 \n",
    "model_2 = keras.Sequential()\n",
    "\n",
    "model_2.add(keras.layers.Embedding(vocab_size, word_vector_dim, input_shape=(None,)))\n",
    "model_2.add(keras.layers.GRU(8))    \n",
    "model_2.add(keras.layers.Dense(8, activation='relu'))\n",
    "model_2.add(keras.layers.Dense(1, activation='sigmoid'))  # 최종 출력은 긍정/부정\n",
    "\n",
    "model_2.summary()"
   ]
  },
  {
   "cell_type": "markdown",
   "id": "informed-making",
   "metadata": {},
   "source": [
    "# 모델 훈련 개시"
   ]
  },
  {
   "cell_type": "code",
   "execution_count": 146,
   "id": "funny-oxygen",
   "metadata": {},
   "outputs": [
    {
     "name": "stdout",
     "output_type": "stream",
     "text": [
      "Epoch 1/20\n",
      "266/266 [==============================] - 8s 26ms/step - loss: 0.6683 - accuracy: 0.5452 - val_loss: 0.3742 - val_accuracy: 0.8411\n",
      "Epoch 2/20\n",
      "266/266 [==============================] - 6s 24ms/step - loss: 0.3446 - accuracy: 0.8563 - val_loss: 0.3324 - val_accuracy: 0.8563\n",
      "Epoch 3/20\n",
      "266/266 [==============================] - 7s 25ms/step - loss: 0.2952 - accuracy: 0.8797 - val_loss: 0.3245 - val_accuracy: 0.8600\n",
      "Epoch 4/20\n",
      "266/266 [==============================] - 7s 25ms/step - loss: 0.2640 - accuracy: 0.8945 - val_loss: 0.3247 - val_accuracy: 0.8634\n",
      "Epoch 5/20\n",
      "266/266 [==============================] - 7s 25ms/step - loss: 0.2358 - accuracy: 0.9077 - val_loss: 0.3273 - val_accuracy: 0.8630\n",
      "Epoch 6/20\n",
      "266/266 [==============================] - 6s 24ms/step - loss: 0.2162 - accuracy: 0.9173 - val_loss: 0.3398 - val_accuracy: 0.8582\n",
      "Epoch 7/20\n",
      "266/266 [==============================] - 6s 24ms/step - loss: 0.1936 - accuracy: 0.9269 - val_loss: 0.3574 - val_accuracy: 0.8564\n",
      "Epoch 8/20\n",
      "266/266 [==============================] - 7s 24ms/step - loss: 0.1764 - accuracy: 0.9362 - val_loss: 0.3825 - val_accuracy: 0.8515\n",
      "Epoch 9/20\n",
      "266/266 [==============================] - 7s 25ms/step - loss: 0.1603 - accuracy: 0.9420 - val_loss: 0.4047 - val_accuracy: 0.8516\n",
      "Epoch 10/20\n",
      "266/266 [==============================] - 7s 26ms/step - loss: 0.1420 - accuracy: 0.9510 - val_loss: 0.4351 - val_accuracy: 0.8456\n",
      "Epoch 11/20\n",
      "266/266 [==============================] - 7s 26ms/step - loss: 0.1305 - accuracy: 0.9559 - val_loss: 0.4681 - val_accuracy: 0.8435\n",
      "Epoch 12/20\n",
      "266/266 [==============================] - 7s 26ms/step - loss: 0.1158 - accuracy: 0.9608 - val_loss: 0.4990 - val_accuracy: 0.8418\n",
      "Epoch 13/20\n",
      "266/266 [==============================] - 7s 26ms/step - loss: 0.1057 - accuracy: 0.9648 - val_loss: 0.5272 - val_accuracy: 0.8399\n",
      "Epoch 14/20\n",
      "266/266 [==============================] - 7s 26ms/step - loss: 0.0979 - accuracy: 0.9675 - val_loss: 0.5516 - val_accuracy: 0.8401\n",
      "Epoch 15/20\n",
      "266/266 [==============================] - 7s 26ms/step - loss: 0.0903 - accuracy: 0.9703 - val_loss: 0.5699 - val_accuracy: 0.8404\n",
      "Epoch 16/20\n",
      "266/266 [==============================] - 7s 26ms/step - loss: 0.0830 - accuracy: 0.9726 - val_loss: 0.5910 - val_accuracy: 0.8389\n",
      "Epoch 17/20\n",
      "266/266 [==============================] - 7s 26ms/step - loss: 0.0777 - accuracy: 0.9745 - val_loss: 0.6251 - val_accuracy: 0.8375\n",
      "Epoch 18/20\n",
      "266/266 [==============================] - 7s 26ms/step - loss: 0.0731 - accuracy: 0.9766 - val_loss: 0.6522 - val_accuracy: 0.8393\n",
      "Epoch 19/20\n",
      "266/266 [==============================] - 7s 26ms/step - loss: 0.0684 - accuracy: 0.9780 - val_loss: 0.6579 - val_accuracy: 0.8381\n",
      "Epoch 20/20\n",
      "266/266 [==============================] - 7s 26ms/step - loss: 0.0665 - accuracy: 0.9784 - val_loss: 0.6912 - val_accuracy: 0.8358\n"
     ]
    }
   ],
   "source": [
    "model_2.compile(optimizer='adam',\n",
    "              loss='binary_crossentropy',\n",
    "              metrics=['accuracy'])\n",
    "              \n",
    "epochs=20  \n",
    "\n",
    "history_2 = model_2.fit(partial_x_train,\n",
    "                    partial_y_train,\n",
    "                    epochs=epochs,\n",
    "                    batch_size=512,\n",
    "                    validation_data=(x_val, y_val),\n",
    "                    verbose=1)"
   ]
  },
  {
   "cell_type": "code",
   "execution_count": 147,
   "id": "impossible-language",
   "metadata": {},
   "outputs": [
    {
     "name": "stdout",
     "output_type": "stream",
     "text": [
      "1537/1537 - 5s - loss: 0.6837 - accuracy: 0.8333\n",
      "[0.6837027072906494, 0.8332892656326294]\n"
     ]
    }
   ],
   "source": [
    "results_2 = model_2.evaluate(X_test,  y_test, verbose=2) # Loss 값 반환\n",
    "\n",
    "print(results_2)"
   ]
  },
  {
   "cell_type": "code",
   "execution_count": 148,
   "id": "impressive-jersey",
   "metadata": {},
   "outputs": [
    {
     "data": {
      "text/plain": [
       "{'loss': [0.5871503949165344,\n",
       "  0.3392966091632843,\n",
       "  0.29699453711509705,\n",
       "  0.26949605345726013,\n",
       "  0.24420785903930664,\n",
       "  0.22181499004364014,\n",
       "  0.2012040615081787,\n",
       "  0.1828179806470871,\n",
       "  0.16498859226703644,\n",
       "  0.14965595304965973,\n",
       "  0.1353449523448944,\n",
       "  0.12293606996536255,\n",
       "  0.11266262829303741,\n",
       "  0.10265421867370605,\n",
       "  0.0950620099902153,\n",
       "  0.08869566768407822,\n",
       "  0.08212950825691223,\n",
       "  0.07744918763637543,\n",
       "  0.07383861392736435,\n",
       "  0.07094507664442062],\n",
       " 'accuracy': [0.6446079611778259,\n",
       "  0.8575876355171204,\n",
       "  0.8779427409172058,\n",
       "  0.8914026618003845,\n",
       "  0.9026449918746948,\n",
       "  0.913189709186554,\n",
       "  0.9229120016098022,\n",
       "  0.9318265318870544,\n",
       "  0.9390668272972107,\n",
       "  0.947114884853363,\n",
       "  0.9524165987968445,\n",
       "  0.9574173092842102,\n",
       "  0.9615073800086975,\n",
       "  0.965604841709137,\n",
       "  0.9678298234939575,\n",
       "  0.9701942801475525,\n",
       "  0.9728965759277344,\n",
       "  0.9745781421661377,\n",
       "  0.9754813313484192,\n",
       "  0.9764946699142456],\n",
       " 'val_loss': [0.37420690059661865,\n",
       "  0.3323580026626587,\n",
       "  0.32450535893440247,\n",
       "  0.3247148096561432,\n",
       "  0.3273441791534424,\n",
       "  0.33979424834251404,\n",
       "  0.3573523163795471,\n",
       "  0.3825141489505768,\n",
       "  0.4046567976474762,\n",
       "  0.4351452589035034,\n",
       "  0.4681473672389984,\n",
       "  0.49896639585494995,\n",
       "  0.527184009552002,\n",
       "  0.5515758395195007,\n",
       "  0.5699151158332825,\n",
       "  0.591029703617096,\n",
       "  0.6250949501991272,\n",
       "  0.6522120237350464,\n",
       "  0.6578540802001953,\n",
       "  0.6911725997924805],\n",
       " 'val_accuracy': [0.8410999774932861,\n",
       "  0.8562999963760376,\n",
       "  0.8600000143051147,\n",
       "  0.8633999824523926,\n",
       "  0.8629999756813049,\n",
       "  0.8582000136375427,\n",
       "  0.8564000129699707,\n",
       "  0.8514999747276306,\n",
       "  0.8515999913215637,\n",
       "  0.8456000089645386,\n",
       "  0.843500018119812,\n",
       "  0.8417999744415283,\n",
       "  0.839900016784668,\n",
       "  0.8400999903678894,\n",
       "  0.840399980545044,\n",
       "  0.8389000296592712,\n",
       "  0.8374999761581421,\n",
       "  0.8392999768257141,\n",
       "  0.838100016117096,\n",
       "  0.8357999920845032]}"
      ]
     },
     "execution_count": 148,
     "metadata": {},
     "output_type": "execute_result"
    }
   ],
   "source": [
    "history_2.history"
   ]
  },
  {
   "cell_type": "markdown",
   "id": "civilian-introduction",
   "metadata": {},
   "source": [
    "# Loss 시각화"
   ]
  },
  {
   "cell_type": "code",
   "execution_count": 149,
   "id": "increasing-climb",
   "metadata": {},
   "outputs": [
    {
     "data": {
      "image/png": "[encoded data removed]",
      "text/plain": [
       "<Figure size 1080x576 with 1 Axes>"
      ]
     },
     "metadata": {
      "needs_background": "light"
     },
     "output_type": "display_data"
    }
   ],
   "source": [
    "f,ax = plt.subplots(1,1, figsize=(15,8))\n",
    "plt.plot(history_2.history['loss'])\n",
    "plt.plot(history_2.history['val_loss'],'rs')\n",
    "plt.xlabel('Epochs')\n",
    "plt.ylabel('Loss')\n",
    "plt.title('Loss Variation during Training')\n",
    "plt.show()"
   ]
  },
  {
   "cell_type": "markdown",
   "id": "divine-premises",
   "metadata": {},
   "source": [
    "# Accuracy 시각화"
   ]
  },
  {
   "cell_type": "code",
   "execution_count": 150,
   "id": "bronze-november",
   "metadata": {
    "scrolled": false
   },
   "outputs": [
    {
     "data": {
      "image/png": "[encoded data removed]",
      "text/plain": [
       "<Figure size 1080x576 with 1 Axes>"
      ]
     },
     "metadata": {
      "needs_background": "light"
     },
     "output_type": "display_data"
    }
   ],
   "source": [
    "f,ax = plt.subplots(1,1, figsize=(15,8))\n",
    "plt.plot(history_2.history['accuracy'])\n",
    "plt.plot(history_2.history['val_accuracy'],'rs')\n",
    "plt.xlabel('Epochs')\n",
    "plt.ylabel('Accuracy')\n",
    "plt.title('Accuracy Variation during Training')\n",
    "plt.show()"
   ]
  },
  {
   "cell_type": "markdown",
   "id": "moderate-decrease",
   "metadata": {},
   "source": [
    "# 모델_3 (LSTM * 2)"
   ]
  },
  {
   "cell_type": "code",
   "execution_count": 151,
   "id": "fifteen-calibration",
   "metadata": {},
   "outputs": [
    {
     "name": "stdout",
     "output_type": "stream",
     "text": [
      "Model: \"sequential_8\"\n",
      "_________________________________________________________________\n",
      "Layer (type)                 Output Shape              Param #   \n",
      "=================================================================\n",
      "embedding_8 (Embedding)      (None, None, 200)         2000000   \n",
      "_________________________________________________________________\n",
      "lstm_6 (LSTM)                (None, None, 8)           6688      \n",
      "_________________________________________________________________\n",
      "lstm_7 (LSTM)                (None, 8)                 544       \n",
      "_________________________________________________________________\n",
      "dense_14 (Dense)             (None, 8)                 72        \n",
      "_________________________________________________________________\n",
      "dense_15 (Dense)             (None, 1)                 9         \n",
      "=================================================================\n",
      "Total params: 2,007,313\n",
      "Trainable params: 2,007,313\n",
      "Non-trainable params: 0\n",
      "_________________________________________________________________\n"
     ]
    }
   ],
   "source": [
    "vocab_size = 10000    # 어휘 사전의 크기\n",
    "word_vector_dim = 200  # 워드 벡터의 차원 수 \n",
    "\n",
    "# model 설계 \n",
    "model_3 = keras.Sequential()\n",
    "\n",
    "model_3.add(keras.layers.Embedding(vocab_size, word_vector_dim, input_shape=(None,)))\n",
    "model_3.add(keras.layers.LSTM(8,return_sequences = True))\n",
    "model_3.add(keras.layers.LSTM(8))\n",
    "model_3.add(keras.layers.Dense(8, activation='relu'))\n",
    "model_3.add(keras.layers.Dense(1, activation='sigmoid'))  # 최종 출력은 긍정/부정\n",
    "\n",
    "model_3.summary()"
   ]
  },
  {
   "cell_type": "markdown",
   "id": "loaded-mercy",
   "metadata": {},
   "source": [
    "# 모델 훈련 개시"
   ]
  },
  {
   "cell_type": "code",
   "execution_count": 152,
   "id": "announced-antigua",
   "metadata": {},
   "outputs": [
    {
     "name": "stdout",
     "output_type": "stream",
     "text": [
      "Epoch 1/20\n",
      "266/266 [==============================] - 12s 36ms/step - loss: 0.5800 - accuracy: 0.6868 - val_loss: 0.3663 - val_accuracy: 0.8416\n",
      "Epoch 2/20\n",
      "266/266 [==============================] - 9s 34ms/step - loss: 0.3408 - accuracy: 0.8591 - val_loss: 0.3475 - val_accuracy: 0.8488\n",
      "Epoch 3/20\n",
      "266/266 [==============================] - 9s 33ms/step - loss: 0.2976 - accuracy: 0.8774 - val_loss: 0.3455 - val_accuracy: 0.8519\n",
      "Epoch 4/20\n",
      "266/266 [==============================] - 9s 33ms/step - loss: 0.2708 - accuracy: 0.8878 - val_loss: 0.3455 - val_accuracy: 0.8562\n",
      "Epoch 5/20\n",
      "266/266 [==============================] - 9s 34ms/step - loss: 0.2407 - accuracy: 0.9009 - val_loss: 0.3556 - val_accuracy: 0.8561\n",
      "Epoch 6/20\n",
      "266/266 [==============================] - 9s 33ms/step - loss: 0.2176 - accuracy: 0.9119 - val_loss: 0.3610 - val_accuracy: 0.8561\n",
      "Epoch 7/20\n",
      "266/266 [==============================] - 9s 33ms/step - loss: 0.2016 - accuracy: 0.9187 - val_loss: 0.3925 - val_accuracy: 0.8548\n",
      "Epoch 8/20\n",
      "266/266 [==============================] - 9s 33ms/step - loss: 0.1839 - accuracy: 0.9273 - val_loss: 0.4050 - val_accuracy: 0.8557\n",
      "Epoch 9/20\n",
      "266/266 [==============================] - 9s 34ms/step - loss: 0.1708 - accuracy: 0.9339 - val_loss: 0.4105 - val_accuracy: 0.8543\n",
      "Epoch 10/20\n",
      "266/266 [==============================] - 9s 34ms/step - loss: 0.1584 - accuracy: 0.9391 - val_loss: 0.4488 - val_accuracy: 0.8507\n",
      "Epoch 11/20\n",
      "266/266 [==============================] - 9s 33ms/step - loss: 0.1517 - accuracy: 0.9421 - val_loss: 0.4477 - val_accuracy: 0.8484\n",
      "Epoch 12/20\n",
      "266/266 [==============================] - 9s 33ms/step - loss: 0.1400 - accuracy: 0.9474 - val_loss: 0.4517 - val_accuracy: 0.8456\n",
      "Epoch 13/20\n",
      "266/266 [==============================] - 9s 33ms/step - loss: 0.1287 - accuracy: 0.9531 - val_loss: 0.4788 - val_accuracy: 0.8447\n",
      "Epoch 14/20\n",
      "266/266 [==============================] - 9s 34ms/step - loss: 0.1226 - accuracy: 0.9555 - val_loss: 0.4922 - val_accuracy: 0.8468\n",
      "Epoch 15/20\n",
      "266/266 [==============================] - 9s 34ms/step - loss: 0.1172 - accuracy: 0.9582 - val_loss: 0.5234 - val_accuracy: 0.8451\n",
      "Epoch 16/20\n",
      "266/266 [==============================] - 9s 34ms/step - loss: 0.1111 - accuracy: 0.9599 - val_loss: 0.5237 - val_accuracy: 0.8465\n",
      "Epoch 17/20\n",
      "266/266 [==============================] - 9s 34ms/step - loss: 0.1082 - accuracy: 0.9613 - val_loss: 0.5198 - val_accuracy: 0.8465\n",
      "Epoch 18/20\n",
      "266/266 [==============================] - 9s 34ms/step - loss: 0.1031 - accuracy: 0.9637 - val_loss: 0.5271 - val_accuracy: 0.8419\n",
      "Epoch 19/20\n",
      "266/266 [==============================] - 9s 33ms/step - loss: 0.1007 - accuracy: 0.9649 - val_loss: 0.5309 - val_accuracy: 0.8384\n",
      "Epoch 20/20\n",
      "266/266 [==============================] - 9s 33ms/step - loss: 0.0976 - accuracy: 0.9665 - val_loss: 0.5655 - val_accuracy: 0.8438\n"
     ]
    }
   ],
   "source": [
    "model_3.compile(optimizer='adam',\n",
    "              loss='binary_crossentropy',\n",
    "              metrics=['accuracy'])\n",
    "              \n",
    "epochs=20  \n",
    "\n",
    "history_3 = model_3.fit(partial_x_train,\n",
    "                    partial_y_train,\n",
    "                    epochs=epochs,\n",
    "                    batch_size=512,\n",
    "                    validation_data=(x_val, y_val),\n",
    "                    verbose=1)"
   ]
  },
  {
   "cell_type": "code",
   "execution_count": 153,
   "id": "usual-excitement",
   "metadata": {},
   "outputs": [
    {
     "name": "stdout",
     "output_type": "stream",
     "text": [
      "1537/1537 - 9s - loss: 0.5711 - accuracy: 0.8383\n",
      "[0.5710816383361816, 0.8382936120033264]\n"
     ]
    }
   ],
   "source": [
    "results_3 = model_3.evaluate(X_test,  y_test, verbose=2) # Loss 값 반환\n",
    "\n",
    "print(results_3)"
   ]
  },
  {
   "cell_type": "code",
   "execution_count": 154,
   "id": "accepted-cleaning",
   "metadata": {},
   "outputs": [
    {
     "data": {
      "text/plain": [
       "{'loss': [0.4840508699417114,\n",
       "  0.3396059274673462,\n",
       "  0.3027587831020355,\n",
       "  0.2763783037662506,\n",
       "  0.24933616816997528,\n",
       "  0.22588972747325897,\n",
       "  0.20757640898227692,\n",
       "  0.19125257432460785,\n",
       "  0.1769247204065323,\n",
       "  0.16406457126140594,\n",
       "  0.15469194948673248,\n",
       "  0.14342494308948517,\n",
       "  0.13516369462013245,\n",
       "  0.1278379261493683,\n",
       "  0.12152035534381866,\n",
       "  0.11658493429422379,\n",
       "  0.11211802065372467,\n",
       "  0.10727038979530334,\n",
       "  0.10513326525688171,\n",
       "  0.10126837342977524],\n",
       " 'accuracy': [0.7757412791252136,\n",
       "  0.858138382434845,\n",
       "  0.873191773891449,\n",
       "  0.8843606114387512,\n",
       "  0.8967264294624329,\n",
       "  0.9071316123008728,\n",
       "  0.9164133071899414,\n",
       "  0.9240501523017883,\n",
       "  0.9311142563819885,\n",
       "  0.9361662864685059,\n",
       "  0.9406382441520691,\n",
       "  0.9456022381782532,\n",
       "  0.9500154256820679,\n",
       "  0.9530040621757507,\n",
       "  0.955287754535675,\n",
       "  0.957791805267334,\n",
       "  0.959554135799408,\n",
       "  0.961808443069458,\n",
       "  0.9628952145576477,\n",
       "  0.9645107388496399],\n",
       " 'val_loss': [0.36629584431648254,\n",
       "  0.34754514694213867,\n",
       "  0.34551483392715454,\n",
       "  0.3455124795436859,\n",
       "  0.35560330748558044,\n",
       "  0.3610345721244812,\n",
       "  0.392457515001297,\n",
       "  0.4050097167491913,\n",
       "  0.41046372056007385,\n",
       "  0.44875845313072205,\n",
       "  0.4477470815181732,\n",
       "  0.4517032206058502,\n",
       "  0.4788272976875305,\n",
       "  0.4921596050262451,\n",
       "  0.5234196186065674,\n",
       "  0.5236619710922241,\n",
       "  0.5198209285736084,\n",
       "  0.5270522236824036,\n",
       "  0.5308757424354553,\n",
       "  0.5655034184455872],\n",
       " 'val_accuracy': [0.8416000008583069,\n",
       "  0.848800003528595,\n",
       "  0.8518999814987183,\n",
       "  0.8561999797821045,\n",
       "  0.8561000227928162,\n",
       "  0.8561000227928162,\n",
       "  0.8547999858856201,\n",
       "  0.8557000160217285,\n",
       "  0.8543000221252441,\n",
       "  0.8507000207901001,\n",
       "  0.8483999967575073,\n",
       "  0.8456000089645386,\n",
       "  0.8446999788284302,\n",
       "  0.8468000292778015,\n",
       "  0.8450999855995178,\n",
       "  0.8464999794960022,\n",
       "  0.8464999794960022,\n",
       "  0.8418999910354614,\n",
       "  0.8384000062942505,\n",
       "  0.8438000082969666]}"
      ]
     },
     "execution_count": 154,
     "metadata": {},
     "output_type": "execute_result"
    }
   ],
   "source": [
    "history_3.history"
   ]
  },
  {
   "cell_type": "markdown",
   "id": "republican-mining",
   "metadata": {},
   "source": [
    "# Loss 시각화"
   ]
  },
  {
   "cell_type": "code",
   "execution_count": 155,
   "id": "statewide-samoa",
   "metadata": {},
   "outputs": [
    {
     "data": {
      "image/png": "[encoded data removed]",
      "text/plain": [
       "<Figure size 1080x576 with 1 Axes>"
      ]
     },
     "metadata": {
      "needs_background": "light"
     },
     "output_type": "display_data"
    }
   ],
   "source": [
    "f,ax = plt.subplots(1,1, figsize=(15,8))\n",
    "plt.plot(history_3.history['loss'])\n",
    "plt.plot(history_3.history['val_loss'],'rs')\n",
    "plt.xlabel('Epochs')\n",
    "plt.ylabel('Loss')\n",
    "plt.title('Loss Variation during Training')\n",
    "plt.show()"
   ]
  },
  {
   "cell_type": "markdown",
   "id": "renewable-variance",
   "metadata": {},
   "source": [
    "# Accuracy 시각화"
   ]
  },
  {
   "cell_type": "code",
   "execution_count": 156,
   "id": "magnetic-borough",
   "metadata": {
    "scrolled": true
   },
   "outputs": [
    {
     "data": {
      "image/png": "[encoded data removed]",
      "text/plain": [
       "<Figure size 1080x576 with 1 Axes>"
      ]
     },
     "metadata": {
      "needs_background": "light"
     },
     "output_type": "display_data"
    }
   ],
   "source": [
    "f,ax = plt.subplots(1,1, figsize=(15,8))\n",
    "plt.plot(history_3.history['accuracy'])\n",
    "plt.plot(history_3.history['val_accuracy'],'rs')\n",
    "plt.xlabel('Epochs')\n",
    "plt.ylabel('Accuracy')\n",
    "plt.title('Accuracy Variation during Training')\n",
    "plt.show()"
   ]
  },
  {
   "cell_type": "markdown",
   "id": "positive-spirit",
   "metadata": {},
   "source": [
    "# 한국어 Word2Vec 임베딩 활용하여 성능개선 \n",
    "# https://github.com/Kyubyong/wordvectors"
   ]
  },
  {
   "cell_type": "markdown",
   "id": "freelance-fields",
   "metadata": {},
   "source": [
    "# 학습된 Embedding Layer 분석 (Feat. gensim의 유사단어 찾기)"
   ]
  },
  {
   "cell_type": "code",
   "execution_count": 157,
   "id": "requested-habitat",
   "metadata": {},
   "outputs": [],
   "source": [
    "from gensim.models import KeyedVectors\n",
    "import gensim\n",
    "\n",
    "word2vec_path = os.getenv('HOME')+'/aiffel/sentiment_classification/data/ko.bin'\n",
    "word2vec = gensim.models.Word2Vec.load(word2vec_path) # AttributeError 발생 시, pip install --upgrade gensim==3.8.3 "
   ]
  },
  {
   "cell_type": "code",
   "execution_count": 158,
   "id": "talented-turkey",
   "metadata": {},
   "outputs": [
    {
     "data": {
      "text/plain": [
       "['__class__',\n",
       " '__contains__',\n",
       " '__delattr__',\n",
       " '__dict__',\n",
       " '__dir__',\n",
       " '__doc__',\n",
       " '__eq__',\n",
       " '__format__',\n",
       " '__ge__',\n",
       " '__getattribute__',\n",
       " '__getitem__',\n",
       " '__gt__',\n",
       " '__hash__',\n",
       " '__init__',\n",
       " '__init_subclass__',\n",
       " '__le__',\n",
       " '__lt__',\n",
       " '__module__',\n",
       " '__ne__',\n",
       " '__new__',\n",
       " '__reduce__',\n",
       " '__reduce_ex__',\n",
       " '__repr__',\n",
       " '__setattr__',\n",
       " '__sizeof__',\n",
       " '__str__',\n",
       " '__subclasshook__',\n",
       " '__weakref__',\n",
       " '_adapt_by_suffix',\n",
       " '_check_input_data_sanity',\n",
       " '_check_training_sanity',\n",
       " '_clear_post_train',\n",
       " '_do_train_epoch',\n",
       " '_do_train_job',\n",
       " '_get_job_params',\n",
       " '_get_thread_working_mem',\n",
       " '_job_producer',\n",
       " '_load_specials',\n",
       " '_log_epoch_end',\n",
       " '_log_epoch_progress',\n",
       " '_log_progress',\n",
       " '_log_train_end',\n",
       " '_minimize_model',\n",
       " '_raw_word_count',\n",
       " '_save_specials',\n",
       " '_set_train_params',\n",
       " '_smart_save',\n",
       " '_train_epoch',\n",
       " '_train_epoch_corpusfile',\n",
       " '_update_job_params',\n",
       " '_worker_loop',\n",
       " '_worker_loop_corpusfile',\n",
       " 'accuracy',\n",
       " 'alpha',\n",
       " 'batch_words',\n",
       " 'build_vocab',\n",
       " 'build_vocab_from_freq',\n",
       " 'callbacks',\n",
       " 'cbow_mean',\n",
       " 'clear_sims',\n",
       " 'compute_loss',\n",
       " 'corpus_count',\n",
       " 'corpus_total_words',\n",
       " 'cum_table',\n",
       " 'delete_temporary_training_data',\n",
       " 'doesnt_match',\n",
       " 'epochs',\n",
       " 'estimate_memory',\n",
       " 'evaluate_word_pairs',\n",
       " 'get_latest_training_loss',\n",
       " 'hashfxn',\n",
       " 'hs',\n",
       " 'init_sims',\n",
       " 'intersect_word2vec_format',\n",
       " 'iter',\n",
       " 'layer1_size',\n",
       " 'load',\n",
       " 'load_word2vec_format',\n",
       " 'log_accuracy',\n",
       " 'max_final_vocab',\n",
       " 'min_alpha',\n",
       " 'min_alpha_yet_reached',\n",
       " 'min_count',\n",
       " 'model_trimmed_post_training',\n",
       " 'most_similar',\n",
       " 'most_similar_cosmul',\n",
       " 'n_similarity',\n",
       " 'negative',\n",
       " 'ns_exponent',\n",
       " 'predict_output_word',\n",
       " 'random',\n",
       " 'reset_from',\n",
       " 'running_training_loss',\n",
       " 'sample',\n",
       " 'save',\n",
       " 'save_word2vec_format',\n",
       " 'score',\n",
       " 'sg',\n",
       " 'similar_by_vector',\n",
       " 'similar_by_word',\n",
       " 'similarity',\n",
       " 'syn0_lockf',\n",
       " 'syn1',\n",
       " 'syn1neg',\n",
       " 'total_train_time',\n",
       " 'train',\n",
       " 'train_count',\n",
       " 'trainables',\n",
       " 'vector_size',\n",
       " 'vocabulary',\n",
       " 'window',\n",
       " 'wmdistance',\n",
       " 'workers',\n",
       " 'wv']"
      ]
     },
     "execution_count": 158,
     "metadata": {},
     "output_type": "execute_result"
    }
   ],
   "source": [
    "dir(word2vec)"
   ]
  },
  {
   "cell_type": "code",
   "execution_count": 159,
   "id": "needed-pension",
   "metadata": {},
   "outputs": [
    {
     "name": "stderr",
     "output_type": "stream",
     "text": [
      "/opt/conda/lib/python3.7/site-packages/ipykernel_launcher.py:1: DeprecationWarning: Call to deprecated `__getitem__` (Method will be removed in 4.0.0, use self.wv.__getitem__() instead).\n",
      "  \"\"\"Entry point for launching an IPython kernel.\n"
     ]
    },
    {
     "data": {
      "text/plain": [
       "array([-1.3740246 , -1.7353463 ,  3.3915305 , -2.569253  , -1.4016607 ,\n",
       "        1.4556127 ,  0.9414557 ,  1.9207907 ,  0.16471806,  0.4838317 ,\n",
       "       -0.8547181 ,  2.0879807 ,  0.86741775,  0.87539405, -0.09962013,\n",
       "        0.22928311, -1.1858722 ,  0.00858838,  1.4999928 , -0.16196461,\n",
       "       -0.35184434, -0.92390764,  1.0849575 ,  0.3025011 ,  2.7021565 ,\n",
       "       -1.0263684 ,  0.32864776, -0.76589465, -2.510981  , -0.66225356,\n",
       "        2.8434615 ,  0.50130975, -1.021874  , -1.4366034 ,  1.1110784 ,\n",
       "        0.5812605 , -0.5830406 , -0.5785423 ,  1.3634988 ,  2.3074338 ,\n",
       "       -1.4314893 ,  0.45745876,  1.1073523 , -3.2135262 , -0.2898375 ,\n",
       "       -1.1622221 ,  1.2369208 , -0.7622987 , -0.37757635,  1.1376442 ,\n",
       "        0.01065568, -0.69105595,  1.5159112 ,  1.1534518 , -1.0119992 ,\n",
       "       -0.5757404 ,  1.1349088 , -1.1289831 ,  0.13004152,  2.0451715 ,\n",
       "       -0.23940353,  1.3604902 ,  0.72700524,  0.32545742,  1.0612459 ,\n",
       "        0.42252553,  1.1442151 ,  2.8774905 ,  2.4377263 , -1.340305  ,\n",
       "        0.12629706, -0.07772489, -0.59053177, -0.19007324,  0.1396541 ,\n",
       "       -1.8655105 ,  0.9401054 ,  0.5150856 ,  0.7795373 , -0.86505556,\n",
       "        0.11842118, -1.8303713 ,  1.337177  , -1.0102932 , -0.37180334,\n",
       "        0.00893255, -0.49141577, -1.05802   , -2.5987291 ,  0.9731856 ,\n",
       "        0.34080654, -2.5973568 ,  1.0046519 , -1.3914212 , -0.6504351 ,\n",
       "       -0.9010805 , -1.1341541 ,  0.75565654,  1.2941337 ,  0.0880572 ,\n",
       "       -1.0341461 , -0.1750075 , -0.01880708, -1.0835075 , -2.0333962 ,\n",
       "        1.1372623 ,  1.0626172 , -1.8369784 , -2.2662086 , -3.382057  ,\n",
       "        1.6751666 , -0.2988223 , -0.25563756, -1.5594274 ,  0.6313433 ,\n",
       "       -1.2667153 , -1.6857744 , -1.0949599 ,  0.7742313 , -0.6095523 ,\n",
       "        3.19503   ,  0.13200459,  1.7937473 , -2.8782516 ,  1.3821276 ,\n",
       "        2.2895143 ,  0.0741943 , -0.41046414,  1.438796  ,  0.19373988,\n",
       "        1.4294034 ,  1.5025262 ,  1.4849502 ,  1.5754777 ,  2.7793512 ,\n",
       "       -0.6885003 , -0.30154693, -1.708323  ,  1.1030879 , -2.2597387 ,\n",
       "        1.1909146 ,  2.4399316 ,  0.3990314 ,  0.904154  ,  0.5454401 ,\n",
       "       -1.3235748 , -0.64812386,  0.22390233,  0.9657619 , -0.47360668,\n",
       "       -0.10278235, -1.0679734 , -0.91414386,  0.92069   ,  0.3549338 ,\n",
       "        0.32858834,  0.84870636,  3.596926  , -1.6651102 ,  0.23658653,\n",
       "        1.0515738 ,  0.40531915, -0.773514  , -0.93460965, -0.3946274 ,\n",
       "       -1.5657727 ,  1.183652  ,  2.5277    ,  0.57700926,  1.7051374 ,\n",
       "       -1.8249958 , -2.0328498 ,  0.6617798 ,  0.85747904,  0.31782728,\n",
       "       -1.1660796 ,  0.32923874,  2.2055087 , -0.12782003,  2.0455444 ,\n",
       "       -0.1724252 ,  0.46001154,  1.559042  , -1.6152996 , -0.84242785,\n",
       "        0.7553168 ,  0.39734274,  0.07714175,  0.05610155,  0.32837135,\n",
       "        1.0220716 ,  1.3816743 ,  0.8049544 ,  0.28728685, -0.97610044,\n",
       "        0.8861181 , -0.01250968, -1.4845604 , -1.5236791 , -1.5451258 ],\n",
       "      dtype=float32)"
      ]
     },
     "execution_count": 159,
     "metadata": {},
     "output_type": "execute_result"
    }
   ],
   "source": [
    "vector = word2vec['사랑']\n",
    "vector     "
   ]
  },
  {
   "cell_type": "code",
   "execution_count": 160,
   "id": "wireless-publication",
   "metadata": {},
   "outputs": [
    {
     "data": {
      "text/plain": [
       "(200,)"
      ]
     },
     "execution_count": 160,
     "metadata": {},
     "output_type": "execute_result"
    }
   ],
   "source": [
    "vector.shape"
   ]
  },
  {
   "cell_type": "code",
   "execution_count": 161,
   "id": "numerical-prisoner",
   "metadata": {},
   "outputs": [
    {
     "name": "stderr",
     "output_type": "stream",
     "text": [
      "/opt/conda/lib/python3.7/site-packages/ipykernel_launcher.py:1: DeprecationWarning: Call to deprecated `similar_by_word` (Method will be removed in 4.0.0, use self.wv.similar_by_word() instead).\n",
      "  \"\"\"Entry point for launching an IPython kernel.\n"
     ]
    },
    {
     "data": {
      "text/plain": [
       "[('여자', 0.8103612661361694),\n",
       " ('어린아이', 0.6279723644256592),\n",
       " ('아가씨', 0.617943525314331),\n",
       " ('남성', 0.604981541633606),\n",
       " ('중년', 0.6009167432785034),\n",
       " ('여인', 0.6002989411354065),\n",
       " ('어른', 0.5962603092193604),\n",
       " ('엄마', 0.5916911363601685),\n",
       " ('친구', 0.5863821506500244),\n",
       " ('남학생', 0.5779852867126465)]"
      ]
     },
     "execution_count": 161,
     "metadata": {},
     "output_type": "execute_result"
    }
   ],
   "source": [
    "word2vec.similar_by_word('남자')"
   ]
  },
  {
   "cell_type": "code",
   "execution_count": 162,
   "id": "endangered-stupid",
   "metadata": {
    "scrolled": true
   },
   "outputs": [
    {
     "name": "stderr",
     "output_type": "stream",
     "text": [
      "/opt/conda/lib/python3.7/site-packages/ipykernel_launcher.py:1: DeprecationWarning: Call to deprecated `most_similar` (Method will be removed in 4.0.0, use self.wv.most_similar() instead).\n",
      "  \"\"\"Entry point for launching an IPython kernel.\n"
     ]
    },
    {
     "data": {
      "text/plain": [
       "[('대한민국', 0.5409263372421265),\n",
       " ('우리나라', 0.5123448371887207),\n",
       " ('중국', 0.5022656917572021),\n",
       " ('싱가포르', 0.465889036655426),\n",
       " ('동북아', 0.4559342861175537),\n",
       " ('상하이', 0.4504736661911011),\n",
       " ('발상지', 0.4445672333240509),\n",
       " ('중심지', 0.43297404050827026),\n",
       " ('극동', 0.43197768926620483),\n",
       " ('미국', 0.4308984577655792)]"
      ]
     },
     "execution_count": 162,
     "metadata": {},
     "output_type": "execute_result"
    }
   ],
   "source": [
    "word2vec.most_similar(positive = ['한국','수도'])"
   ]
  },
  {
   "cell_type": "code",
   "execution_count": 163,
   "id": "outstanding-friday",
   "metadata": {},
   "outputs": [
    {
     "name": "stderr",
     "output_type": "stream",
     "text": [
      "/opt/conda/lib/python3.7/site-packages/ipykernel_launcher.py:1: DeprecationWarning: Call to deprecated `most_similar` (Method will be removed in 4.0.0, use self.wv.most_similar() instead).\n",
      "  \"\"\"Entry point for launching an IPython kernel.\n"
     ]
    },
    {
     "data": {
      "text/plain": [
       "[('남자', 0.6019383668899536),\n",
       " ('총리', 0.5592663884162903),\n",
       " ('부통령', 0.5267056226730347),\n",
       " ('여성', 0.4732438921928406),\n",
       " ('친구', 0.4673531651496887),\n",
       " ('국무총리', 0.45544666051864624),\n",
       " ('대법관', 0.4430059790611267),\n",
       " ('국회의원', 0.4395042359828949),\n",
       " ('총재', 0.43712782859802246),\n",
       " ('김대중', 0.4358501434326172)]"
      ]
     },
     "execution_count": 163,
     "metadata": {},
     "output_type": "execute_result"
    }
   ],
   "source": [
    "word2vec.most_similar(positive = ['여자','대통령'])"
   ]
  },
  {
   "cell_type": "code",
   "execution_count": 164,
   "id": "diagnostic-salon",
   "metadata": {},
   "outputs": [
    {
     "name": "stderr",
     "output_type": "stream",
     "text": [
      "/opt/conda/lib/python3.7/site-packages/ipykernel_launcher.py:1: DeprecationWarning: Call to deprecated `most_similar` (Method will be removed in 4.0.0, use self.wv.most_similar() instead).\n",
      "  \"\"\"Entry point for launching an IPython kernel.\n"
     ]
    },
    {
     "data": {
      "text/plain": [
       "[('대한민국', 0.5645161867141724),\n",
       " ('이사장', 0.538794755935669),\n",
       " ('여성', 0.5206133127212524),\n",
       " ('협회장', 0.5003015995025635),\n",
       " ('사무국장', 0.49005889892578125),\n",
       " ('부총재', 0.4844747483730316),\n",
       " ('한국인', 0.47523826360702515),\n",
       " ('총재', 0.4734868109226227),\n",
       " ('배구', 0.4679374098777771),\n",
       " ('김대중', 0.46697941422462463)]"
      ]
     },
     "execution_count": 164,
     "metadata": {},
     "output_type": "execute_result"
    }
   ],
   "source": [
    "word2vec.most_similar(positive = ['여자','대통령','한국'])"
   ]
  },
  {
   "cell_type": "markdown",
   "id": "rocky-german",
   "metadata": {},
   "source": [
    "### Embedding Layer 분석 결과 "
   ]
  },
  {
   "cell_type": "markdown",
   "id": "insured-intent",
   "metadata": {},
   "source": [
    "'남자'와 가장 유사한 단어로, <br/>\n",
    "여자, 어린아이, 아가씨, 남성 등의 단어들을 확인할 수 있었다. \n",
    "성별로 대립되거나 유사한 단어 등을 많이 확인할 수 있었다.\n",
    "\n",
    "\n",
    "하지만, '여자', '대통령' 2가지 단어와 유사한 단어로 '박근혜'를 예상했으나, <br/>\n",
    "예상과는 달리, 대한민국, 이사장, 여성, 협회장, 사무국장 등의 단어가 등장하는 것을 확인할 수 있었다 <br/>\n",
    "하지만, 이것은 모델 학습을 위해, 네이버 영화리뷰 데이터 상의 빈도가 높은 10000개 데이터를 기준으로 하였기 때문에, <br/>\n",
    "해당 분야와 관련해 충분한 학습이 이루어지지 못한 것으로 보인다."
   ]
  },
  {
   "cell_type": "markdown",
   "id": "integrated-updating",
   "metadata": {},
   "source": [
    "### word2Vector 포함한 모델 설계"
   ]
  },
  {
   "cell_type": "code",
   "execution_count": 179,
   "id": "sixth-recommendation",
   "metadata": {},
   "outputs": [],
   "source": [
    "vocab_size = 10000    # 어휘 사전의 크기입니다(10,000개의 단어)\n",
    "word_vector_dim = 200  # 워드 벡터의 차원수\n",
    "\n",
    "embedding_matrix = np.random.rand(vocab_size, word_vector_dim)"
   ]
  },
  {
   "cell_type": "code",
   "execution_count": 180,
   "id": "premier-douglas",
   "metadata": {},
   "outputs": [
    {
     "data": {
      "text/plain": [
       "(10000, 200)"
      ]
     },
     "execution_count": 180,
     "metadata": {},
     "output_type": "execute_result"
    }
   ],
   "source": [
    "embedding_matrix.shape"
   ]
  },
  {
   "cell_type": "code",
   "execution_count": 181,
   "id": "assumed-richards",
   "metadata": {},
   "outputs": [
    {
     "name": "stdout",
     "output_type": "stream",
     "text": [
      "0 번째:  <PAD>\n",
      "1 번째:  <BOS>\n",
      "2 번째:  <UNK>\n",
      "3 번째:  \n"
     ]
    }
   ],
   "source": [
    "for i in range(4):\n",
    "    print(i,\"번째: \",index_to_word[i])"
   ]
  },
  {
   "cell_type": "code",
   "execution_count": 182,
   "id": "naval-surfing",
   "metadata": {},
   "outputs": [
    {
     "name": "stderr",
     "output_type": "stream",
     "text": [
      "/opt/conda/lib/python3.7/site-packages/ipykernel_launcher.py:4: DeprecationWarning: Call to deprecated `__contains__` (Method will be removed in 4.0.0, use self.wv.__contains__() instead).\n",
      "  after removing the cwd from sys.path.\n",
      "/opt/conda/lib/python3.7/site-packages/ipykernel_launcher.py:5: DeprecationWarning: Call to deprecated `__getitem__` (Method will be removed in 4.0.0, use self.wv.__getitem__() instead).\n",
      "  \"\"\"\n"
     ]
    }
   ],
   "source": [
    "# embedding_matrix에 Word2Vec 워드 벡터를 단어 하나씩마다 차례차례 카피한다.\n",
    "# <PAD> , <BOS> ,<UNK> ,'' 제외\n",
    "for i in range(4,vocab_size):\n",
    "    if index_to_word[i] in word2vec:\n",
    "        embedding_matrix[i] = word2vec[index_to_word[i]]"
   ]
  },
  {
   "cell_type": "code",
   "execution_count": 184,
   "id": "quick-scoop",
   "metadata": {},
   "outputs": [],
   "source": [
    "from tensorflow.keras.initializers import Constant\n",
    "# 모델 구성\n",
    "model_fine = keras.Sequential()\n",
    "model_fine.add(keras.layers.Embedding(vocab_size, \n",
    "                                 word_vector_dim, \n",
    "                                 embeddings_initializer=Constant(embedding_matrix),  # 카피한 임베딩을 여기서 활용\n",
    "                                 input_length=maxlen, \n",
    "                                 trainable=True))   # trainable을 True로 주면, 사전학습 된 모델 (pre-trained model)을 활용하여 새로운 모델을 학습\n",
    "model_fine.add(keras.layers.LSTM(256))\n",
    "model_fine.add(keras.layers.Dense(8, activation='relu'))\n",
    "model_fine.add(keras.layers.Dense(1, activation='sigmoid')) "
   ]
  },
  {
   "cell_type": "code",
   "execution_count": 185,
   "id": "intermediate-dollar",
   "metadata": {},
   "outputs": [
    {
     "name": "stdout",
     "output_type": "stream",
     "text": [
      "Model: \"sequential_10\"\n",
      "_________________________________________________________________\n",
      "Layer (type)                 Output Shape              Param #   \n",
      "=================================================================\n",
      "embedding_10 (Embedding)     (None, 41, 200)           2000000   \n",
      "_________________________________________________________________\n",
      "lstm_8 (LSTM)                (None, 256)               467968    \n",
      "_________________________________________________________________\n",
      "dense_18 (Dense)             (None, 8)                 2056      \n",
      "_________________________________________________________________\n",
      "dense_19 (Dense)             (None, 1)                 9         \n",
      "=================================================================\n",
      "Total params: 2,470,033\n",
      "Trainable params: 2,470,033\n",
      "Non-trainable params: 0\n",
      "_________________________________________________________________\n"
     ]
    }
   ],
   "source": [
    "model_fine.summary()\n",
    "# 학습의 진행\n",
    "model_fine.compile(optimizer='adam',\n",
    "              loss='binary_crossentropy',\n",
    "              metrics=['accuracy'])\n",
    "epochs=20  "
   ]
  },
  {
   "cell_type": "code",
   "execution_count": 186,
   "id": "material-pioneer",
   "metadata": {
    "scrolled": true
   },
   "outputs": [
    {
     "name": "stdout",
     "output_type": "stream",
     "text": [
      "Epoch 1/20\n",
      "266/266 [==============================] - 21s 73ms/step - loss: 0.6377 - accuracy: 0.5843 - val_loss: 0.3968 - val_accuracy: 0.8245\n",
      "Epoch 2/20\n",
      "266/266 [==============================] - 19s 71ms/step - loss: 0.3599 - accuracy: 0.8423 - val_loss: 0.3224 - val_accuracy: 0.8649\n",
      "Epoch 3/20\n",
      "266/266 [==============================] - 19s 72ms/step - loss: 0.2941 - accuracy: 0.8762 - val_loss: 0.3103 - val_accuracy: 0.8671\n",
      "Epoch 4/20\n",
      "266/266 [==============================] - 19s 73ms/step - loss: 0.2539 - accuracy: 0.8953 - val_loss: 0.3076 - val_accuracy: 0.8710\n",
      "Epoch 5/20\n",
      "266/266 [==============================] - 19s 72ms/step - loss: 0.2259 - accuracy: 0.9069 - val_loss: 0.3283 - val_accuracy: 0.8690\n",
      "Epoch 6/20\n",
      "266/266 [==============================] - 19s 73ms/step - loss: 0.1975 - accuracy: 0.9209 - val_loss: 0.3313 - val_accuracy: 0.8680\n",
      "Epoch 7/20\n",
      "266/266 [==============================] - 19s 73ms/step - loss: 0.1743 - accuracy: 0.9312 - val_loss: 0.3629 - val_accuracy: 0.8679\n",
      "Epoch 8/20\n",
      "266/266 [==============================] - 19s 72ms/step - loss: 0.1453 - accuracy: 0.9439 - val_loss: 0.3581 - val_accuracy: 0.8671\n",
      "Epoch 9/20\n",
      "266/266 [==============================] - 19s 72ms/step - loss: 0.1257 - accuracy: 0.9524 - val_loss: 0.4126 - val_accuracy: 0.8660\n",
      "Epoch 10/20\n",
      "266/266 [==============================] - 19s 73ms/step - loss: 0.1047 - accuracy: 0.9608 - val_loss: 0.4501 - val_accuracy: 0.8605\n",
      "Epoch 11/20\n",
      "266/266 [==============================] - 19s 73ms/step - loss: 0.0920 - accuracy: 0.9661 - val_loss: 0.5153 - val_accuracy: 0.8626\n",
      "Epoch 12/20\n",
      "266/266 [==============================] - 19s 72ms/step - loss: 0.0740 - accuracy: 0.9734 - val_loss: 0.5574 - val_accuracy: 0.8598\n",
      "Epoch 13/20\n",
      "266/266 [==============================] - 19s 73ms/step - loss: 0.0655 - accuracy: 0.9765 - val_loss: 0.5983 - val_accuracy: 0.8550\n",
      "Epoch 14/20\n",
      "266/266 [==============================] - 19s 72ms/step - loss: 0.0581 - accuracy: 0.9792 - val_loss: 0.5615 - val_accuracy: 0.8556\n",
      "Epoch 15/20\n",
      "266/266 [==============================] - 19s 73ms/step - loss: 0.0490 - accuracy: 0.9824 - val_loss: 0.6729 - val_accuracy: 0.8529\n",
      "Epoch 16/20\n",
      "266/266 [==============================] - 19s 73ms/step - loss: 0.0463 - accuracy: 0.9823 - val_loss: 0.6793 - val_accuracy: 0.8516\n",
      "Epoch 17/20\n",
      "266/266 [==============================] - 19s 73ms/step - loss: 0.0399 - accuracy: 0.9852 - val_loss: 0.7046 - val_accuracy: 0.8576\n",
      "Epoch 18/20\n",
      "266/266 [==============================] - 19s 72ms/step - loss: 0.0335 - accuracy: 0.9875 - val_loss: 0.7589 - val_accuracy: 0.8577\n",
      "Epoch 19/20\n",
      "266/266 [==============================] - 19s 73ms/step - loss: 0.0326 - accuracy: 0.9880 - val_loss: 0.7343 - val_accuracy: 0.8532\n",
      "Epoch 20/20\n",
      "266/266 [==============================] - 19s 72ms/step - loss: 0.0287 - accuracy: 0.9892 - val_loss: 0.7642 - val_accuracy: 0.8543\n"
     ]
    }
   ],
   "source": [
    "history_fine = model_fine.fit(partial_x_train,\n",
    "                    partial_y_train,\n",
    "                    epochs=epochs,\n",
    "                    batch_size=512,\n",
    "                    validation_data=(x_val, y_val),\n",
    "                    verbose=1)"
   ]
  },
  {
   "cell_type": "code",
   "execution_count": 187,
   "id": "expensive-animation",
   "metadata": {
    "scrolled": true
   },
   "outputs": [
    {
     "name": "stdout",
     "output_type": "stream",
     "text": [
      "1537/1537 - 7s - loss: 0.7841 - accuracy: 0.8527\n",
      "[0.7840890884399414, 0.8526964783668518]\n"
     ]
    }
   ],
   "source": [
    "results_fine = model_fine.evaluate(X_test,  y_test, verbose=2) # Loss 값 반환\n",
    "\n",
    "print(results_fine)"
   ]
  },
  {
   "cell_type": "code",
   "execution_count": 188,
   "id": "active-parade",
   "metadata": {},
   "outputs": [
    {
     "data": {
      "text/plain": [
       "{'loss': [0.5464885234832764,\n",
       "  0.3438548445701599,\n",
       "  0.2906181514263153,\n",
       "  0.2576166093349457,\n",
       "  0.23049044609069824,\n",
       "  0.20329402387142181,\n",
       "  0.17812314629554749,\n",
       "  0.15089702606201172,\n",
       "  0.13055551052093506,\n",
       "  0.11000413447618484,\n",
       "  0.09472854435443878,\n",
       "  0.07778056710958481,\n",
       "  0.07208458334207535,\n",
       "  0.06057945266366005,\n",
       "  0.05351461097598076,\n",
       "  0.04823868349194527,\n",
       "  0.04214249551296234,\n",
       "  0.036104097962379456,\n",
       "  0.03541545569896698,\n",
       "  0.03131341561675072],\n",
       " 'accuracy': [0.6875725388526917,\n",
       "  0.8505235910415649,\n",
       "  0.8770616054534912,\n",
       "  0.8928933143615723,\n",
       "  0.9041135907173157,\n",
       "  0.9179700613021851,\n",
       "  0.9297264218330383,\n",
       "  0.941262423992157,\n",
       "  0.9500961899757385,\n",
       "  0.9581442475318909,\n",
       "  0.964892566204071,\n",
       "  0.971971333026886,\n",
       "  0.9740127325057983,\n",
       "  0.9780661463737488,\n",
       "  0.9805186986923218,\n",
       "  0.9819946885108948,\n",
       "  0.9842489957809448,\n",
       "  0.9865620732307434,\n",
       "  0.9866575598716736,\n",
       "  0.9880674481391907],\n",
       " 'val_loss': [0.3968297243118286,\n",
       "  0.3223564028739929,\n",
       "  0.31026309728622437,\n",
       "  0.3076261281967163,\n",
       "  0.3282707929611206,\n",
       "  0.33128097653388977,\n",
       "  0.3629154860973358,\n",
       "  0.35812804102897644,\n",
       "  0.4126238226890564,\n",
       "  0.450053870677948,\n",
       "  0.5152742266654968,\n",
       "  0.5574415326118469,\n",
       "  0.5982965230941772,\n",
       "  0.5615476965904236,\n",
       "  0.6729024052619934,\n",
       "  0.679250955581665,\n",
       "  0.7046273946762085,\n",
       "  0.7588865160942078,\n",
       "  0.7343320250511169,\n",
       "  0.7641840577125549],\n",
       " 'val_accuracy': [0.8245000243186951,\n",
       "  0.8648999929428101,\n",
       "  0.8671000003814697,\n",
       "  0.8709999918937683,\n",
       "  0.8690000176429749,\n",
       "  0.8679999709129333,\n",
       "  0.867900013923645,\n",
       "  0.8671000003814697,\n",
       "  0.8659999966621399,\n",
       "  0.8604999780654907,\n",
       "  0.8626000285148621,\n",
       "  0.8597999811172485,\n",
       "  0.8550000190734863,\n",
       "  0.8555999994277954,\n",
       "  0.8529000282287598,\n",
       "  0.8515999913215637,\n",
       "  0.8575999736785889,\n",
       "  0.857699990272522,\n",
       "  0.8532000184059143,\n",
       "  0.8543000221252441]}"
      ]
     },
     "execution_count": 188,
     "metadata": {},
     "output_type": "execute_result"
    }
   ],
   "source": [
    "history_fine.history"
   ]
  },
  {
   "cell_type": "markdown",
   "id": "failing-pregnancy",
   "metadata": {},
   "source": [
    "# Loss 시각화"
   ]
  },
  {
   "cell_type": "code",
   "execution_count": 189,
   "id": "wanted-atlas",
   "metadata": {},
   "outputs": [
    {
     "data": {
      "image/png": "[encoded data removed]",
      "text/plain": [
       "<Figure size 1080x576 with 1 Axes>"
      ]
     },
     "metadata": {
      "needs_background": "light"
     },
     "output_type": "display_data"
    }
   ],
   "source": [
    "f,ax = plt.subplots(1,1, figsize=(15,8))\n",
    "plt.plot(history_fine.history['loss'])\n",
    "plt.plot(history_fine.history['val_loss'],'rs')\n",
    "plt.xlabel('Epochs')\n",
    "plt.ylabel('Loss')\n",
    "plt.title('Loss Variation during Training')\n",
    "plt.show()"
   ]
  },
  {
   "cell_type": "markdown",
   "id": "beautiful-membership",
   "metadata": {},
   "source": [
    "# Accuracy 시각화"
   ]
  },
  {
   "cell_type": "code",
   "execution_count": 190,
   "id": "american-tunisia",
   "metadata": {
    "scrolled": true
   },
   "outputs": [
    {
     "data": {
      "image/png": "[encoded data removed]",
      "text/plain": [
       "<Figure size 1080x576 with 1 Axes>"
      ]
     },
     "metadata": {
      "needs_background": "light"
     },
     "output_type": "display_data"
    }
   ],
   "source": [
    "f,ax = plt.subplots(1,1, figsize=(15,8))\n",
    "plt.plot(history_fine.history['accuracy'])\n",
    "plt.plot(history_fine.history['val_accuracy'],'rs')\n",
    "plt.xlabel('Epochs')\n",
    "plt.ylabel('Accuracy')\n",
    "plt.title('Accuracy Variation during Training')\n",
    "plt.show()"
   ]
  },
  {
   "cell_type": "markdown",
   "id": "royal-contrast",
   "metadata": {},
   "source": [
    "# 최종 결과 분석"
   ]
  },
  {
   "cell_type": "markdown",
   "id": "heated-bailey",
   "metadata": {},
   "source": [
    "테스트한 모델 4가지 ( mode_1, mode_2, mode_3, mode_fine ) <br/>\n",
    "모두 Epoch이 2 ~ 3일 때 어느 정도의 학습이 완료되고, 이후에는 Train Set에 Ovefitting 되는 모습을 보였다. <br/>\n",
    "model_fine의 Accuracy가 0.8527로 0.85이상을 달성하기는 했으나, <br/>\n",
    "다른 모델들과 큰 차이는 없다.<br/>\n",
    "\n",
    "Validation Loss가 감소하지 않는 문제에 대한 고민이 더 필요할 것 같다<br/>"
   ]
  }
 ],
 "metadata": {
  "kernelspec": {
   "display_name": "Python 3",
   "language": "python",
   "name": "python3"
  },
  "language_info": {
   "codemirror_mode": {
    "name": "ipython",
    "version": 3
   },
   "file_extension": ".py",
   "mimetype": "text/x-python",
   "name": "python",
   "nbconvert_exporter": "python",
   "pygments_lexer": "ipython3",
   "version": "3.7.9"
  }
 },
 "nbformat": 4,
 "nbformat_minor": 5
}
